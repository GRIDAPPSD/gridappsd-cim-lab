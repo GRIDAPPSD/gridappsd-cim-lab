{
 "cells": [
  {
   "cell_type": "code",
   "execution_count": 1,
   "id": "cecd356e",
   "metadata": {},
   "outputs": [],
   "source": [
    "import importlib\n",
    "cim_profile = 'rc4_2021'\n",
    "cim = importlib.import_module('cimlab.data_profile.' + cim_profile)\n"
   ]
  },
  {
   "cell_type": "code",
   "execution_count": 2,
   "id": "9517508c",
   "metadata": {},
   "outputs": [
    {
     "name": "stdout",
     "output_type": "stream",
     "text": [
      "['/home/d3m614/gridappsd-cim-profile', '/usr/lib/python38.zip', '/usr/lib/python3.8', '/usr/lib/python3.8/lib-dynload', '', '/home/d3m614/.local/lib/python3.8/site-packages', '/home/d3m614/gridappsd-python', '/home/d3m614/CIMHub/src_python', '/home/d3m614/gridappsd-cim-profile', '/home/d3m614/topology-processor', '/usr/local/lib/python3.8/dist-packages', '/usr/lib/python3/dist-packages']\n"
     ]
    }
   ],
   "source": [
    "from cimlab.loaders import Parameter, ConnectionParameters\n",
    "from cimlab.loaders.blazegraph.blazegraph import BlazegraphConnection\n",
    "from cimlab.loaders.gridappsd import GridappsdConnection, get_topology_response\n",
    "from cimlab.models.distributed_model import DistributedModel\n",
    "# import cim.data_profile as cim\n",
    "import json\n"
   ]
  },
  {
   "cell_type": "code",
   "execution_count": 3,
   "id": "01e4cde4",
   "metadata": {},
   "outputs": [],
   "source": [
    "# # Blazegraph connection for running inside the container\n",
    "# params = ConnectionParameters([Parameter(key=\"url\", value=\"http://blazegraph:8080/bigdata/namespace/kb/sparql\")])\n",
    "# bg = BlazegraphConnection(params)"
   ]
  },
  {
   "cell_type": "code",
   "execution_count": 4,
   "id": "5417f812",
   "metadata": {},
   "outputs": [],
   "source": [
    "# Blazegraph connection for running outside the container\n",
    "params = ConnectionParameters([Parameter(key=\"url\", value=\"http://localhost:8889/bigdata/namespace/kb/sparql\")])\n",
    "bg = BlazegraphConnection(params, 'rc4_2021')"
   ]
  },
  {
   "cell_type": "code",
   "execution_count": 5,
   "id": "208e6f7d",
   "metadata": {},
   "outputs": [],
   "source": [
    "#feeder_mrid = \"_C1C3E687-6FFD-C753-582B-632A27E28507\"  # 123 bus\n",
    "feeder_mrid = \"_49AD8E07-3BF9-A4E2-CB8F-C3722F837B62\"  # 13 bus\n",
    "# feeder_mrid = \"_5B816B93-7A5F-B64C-8460-47C17D6E4B0F\" # 13 bus asets\n",
    "#feeder_mrid = \"_4F76A5F9-271D-9EB8-5E31-AA362D86F2C3\"  # 8500 node\n",
    "#feeder_mrid = \"_67AB291F-DCCD-31B7-B499-338206B9828F\" # J1\n",
    "#feeder_mrid = \"_9CE150A8-8CC5-A0F9-B67E-BBD8C79D3095\"  # R2 12.47 3\n",
    "#feeder_mrid = \"_EE71F6C9-56F0-4167-A14E-7F4C71F10EAA\" #9500 node"
   ]
  },
  {
   "cell_type": "code",
   "execution_count": 6,
   "id": "9cc6e914",
   "metadata": {},
   "outputs": [],
   "source": [
    "feeder = cim.Feeder(mRID=feeder_mrid)"
   ]
  },
  {
   "cell_type": "code",
   "execution_count": 7,
   "id": "ecd52872",
   "metadata": {},
   "outputs": [
    {
     "name": "stdout",
     "output_type": "stream",
     "text": [
      "/home/d3m614/.local/lib/python3.8/site-packages/ipykernel_launcher.py\n"
     ]
    }
   ],
   "source": [
    "# from gridappsd import GridAPPSD\n",
    "from topology_processor import DistributedTopology\n",
    "\n",
    "gapps = GridappsdConnection(feeder_mrid)\n",
    "Topology = DistributedTopology(gapps, feeder_mrid)\n",
    "topology_response = Topology.create_switch_areas(feeder_mrid)\n",
    "# topology_response = get_topology_response(feeder_mrid)\n",
    "topology_response = json.loads(topology_response)\n",
    "# with open('topo_message.json') as topo_file:\n",
    "#     topology_response = json.load(topo_file)\n"
   ]
  },
  {
   "cell_type": "code",
   "execution_count": 8,
   "id": "30c66763",
   "metadata": {},
   "outputs": [],
   "source": [
    "# print(topology_response)"
   ]
  },
  {
   "cell_type": "code",
   "execution_count": 9,
   "id": "428e3089",
   "metadata": {},
   "outputs": [],
   "source": [
    "network = DistributedModel(connection=bg, feeder=feeder, topology=topology_response['feeders'])"
   ]
  },
  {
   "cell_type": "code",
   "execution_count": 10,
   "id": "a132f2f4",
   "metadata": {},
   "outputs": [
    {
     "name": "stdout",
     "output_type": "stream",
     "text": [
      "line mrid:  _0BBD0EA3-F665-465B-86FD-FC8B8466AD53\n",
      "line name: 645646\n",
      "bus 1:  _8C58660F-C62C-4903-BE72-22F1255B1E62\n",
      "bus 2:  _0124E881-B82D-4206-BBDF-37D585159872\n",
      "phase  C :  _94FCAFFF-E5F7-4F97-B697-35C46656EDCA\n",
      "phase  B :  _CE2AFB05-A1B1-4082-B4EB-2AD8A1D3422D\n",
      "line mrid:  _1C6781A2-5B9D-4525-8A9B-F9B32C4C4AC0\n",
      "line name: 632645\n",
      "bus 1:  _0124E881-B82D-4206-BBDF-37D585159872\n",
      "bus 2:  _6CB5E5CE-2CD0-40CC-A979-B4F9ED05E49B\n",
      "phase  C :  _19B6044B-6915-4245-9DD1-6AB0444D42A6\n",
      "phase  B :  _D9C9CEA6-B3F0-4E02-9911-3DFA192B4D01\n",
      "line mrid:  _A04CDFB1-E951-4FC4-8882-0323CD70AE3C\n",
      "line name: 650632\n",
      "bus 1:  _673E896A-DCBF-4E43-9924-BEB31C5B6005\n",
      "bus 2:  _6CB5E5CE-2CD0-40CC-A979-B4F9ED05E49B\n",
      "phase  A :  _2A5A1025-AD81-4BFA-A7F0-ED70F7F43DAA\n",
      "phase  B :  _2D60B241-DE87-48BD-A8D3-FE4B705B40ED\n",
      "phase  C :  _A66508A9-C9C1-4DB5-8FFD-F081E5E9E14D\n",
      "line mrid:  _FBE26B35-13AB-457D-9795-DF58B28E309D\n",
      "line name: 632633\n",
      "bus 1:  _6CB5E5CE-2CD0-40CC-A979-B4F9ED05E49B\n",
      "bus 2:  _C6256170-E6ED-4F91-8EBD-748090C3FDD5\n",
      "phase  A :  _18F23724-C3EE-498E-96A7-98FE210A523C\n",
      "phase  B :  _30E5A294-2F25-480D-BDDA-777F59ED5AF3\n",
      "phase  C :  _5830B397-557C-41B5-A94D-95A3841505D0\n"
     ]
    }
   ],
   "source": [
    "switch_area = network.switch_areas[0]\n",
    "\n",
    "# Get phase, bus info about ACLineSegments\n",
    "switch_area.get_all_attributes(cim.ACLineSegment)\n",
    "switch_area.get_all_attributes(cim.ACLineSegmentPhase)\n",
    "switch_area.get_all_attributes(cim.Terminal)\n",
    "\n",
    "line_ids = list(switch_area.typed_catalog[cim.ACLineSegment].keys())\n",
    "for line_id in line_ids:\n",
    "    print('line mrid: ',line_id)\n",
    "    print('line name:', switch_area.typed_catalog[cim.ACLineSegment][line_id].name)\n",
    "    print('bus 1: ', switch_area.typed_catalog[cim.ACLineSegment][line_id].Terminals[0].ConnectivityNode.mRID)\n",
    "    print('bus 2: ', switch_area.typed_catalog[cim.ACLineSegment][line_id].Terminals[1].ConnectivityNode.mRID)\n",
    "    for line_phs in switch_area.typed_catalog[cim.ACLineSegment][line_id].ACLineSegmentPhases:\n",
    "        print('phase ', line_phs.phase, ': ', line_phs.mRID)\n",
    "    "
   ]
  },
  {
   "cell_type": "code",
   "execution_count": 11,
   "id": "1e37d115",
   "metadata": {},
   "outputs": [
    {
     "name": "stdout",
     "output_type": "stream",
     "text": [
      "p =  230000\n",
      "q =  132000\n",
      "phases:  B\n",
      "p =  170000\n",
      "q =  125000\n",
      "phases:  B\n"
     ]
    }
   ],
   "source": [
    "switch_area = network.switch_areas[0]\n",
    "\n",
    "switch_area.get_all_attributes(cim.EnergyConsumer)\n",
    "switch_area.get_all_attributes(cim.EnergyConsumerPhase)\n",
    "\n",
    "load_ids = list(switch_area.typed_catalog[cim.EnergyConsumer].keys())\n",
    "\n",
    "for load in load_ids:\n",
    "    print('p = ', switch_area.typed_catalog[cim.EnergyConsumer][load].p)\n",
    "    print('q = ', switch_area.typed_catalog[cim.EnergyConsumer][load].q)\n",
    "    for load_phs in switch_area.typed_catalog[cim.EnergyConsumer][load].EnergyConsumerPhase:\n",
    "        print('phases: ', load_phs.phase)"
   ]
  },
  {
   "cell_type": "code",
   "execution_count": 12,
   "id": "6ff4f097",
   "metadata": {},
   "outputs": [
    {
     "name": "stdout",
     "output_type": "stream",
     "text": [
      "warning: attribute  TransformerTankInfo  missing from  TransformerTank\n",
      "warning: attribute  TransformerTankInfo  missing from  TransformerTank\n",
      "warning: attribute  TransformerTankInfo  missing from  TransformerTank\n",
      "warning: attribute  TransformerTankInfo  missing from  TransformerTank\n",
      "warning: attribute  TransformerTanks  missing from  TransformerTankInfo\n",
      "warning: attribute  TransformerTanks  missing from  TransformerTankInfo\n",
      "warning: attribute  TransformerTanks  missing from  TransformerTankInfo\n",
      "warning: attribute  TransformerTanks  missing from  TransformerTankInfo\n"
     ]
    }
   ],
   "source": [
    "network.get_all_attributes(cim.TransformerTank)\n",
    "network.get_all_attributes(cim.TransformerTankEnd)\n",
    "network.get_all_attributes(cim.TransformerTankInfo)\n",
    "network.get_all_attributes(cim.TransformerEndInfo)\n",
    "network.get_all_attributes(cim.ShortCircuitTest)\n",
    "network.get_all_attributes(cim.NoLoadTest)"
   ]
  },
  {
   "cell_type": "code",
   "execution_count": 13,
   "id": "83e8f6cf",
   "metadata": {},
   "outputs": [
    {
     "name": "stdout",
     "output_type": "stream",
     "text": [
      "warning: could not locate mrid:  _0649C1EF-E39F-4B46-AD80-D3C180E4562E . creating default object of  PhaseImpedanceData\n",
      "warning: could not locate mrid:  _10B0D529-0FC6-4845-BEFE-2CD11D1EC0B4 . creating default object of  PhaseImpedanceData\n",
      "warning: could not locate mrid:  _1C9AB18C-CCF4-409A-92A7-865CDA8CC7A5 . creating default object of  PhaseImpedanceData\n",
      "warning: could not locate mrid:  _520F9AFD-543F-4AD9-9178-9511763BB59D . creating default object of  PhaseImpedanceData\n",
      "warning: could not locate mrid:  _69B855E7-917B-49C7-B96A-F8C8E3A4CBB5 . creating default object of  PhaseImpedanceData\n",
      "warning: could not locate mrid:  _BBC492B3-CAEB-4DF8-B4A3-EAF9D05E7E1E . creating default object of  PhaseImpedanceData\n",
      "warning: could not locate mrid:  _0BE57FFF-A484-435A-A872-8FE3152AE9D5 . creating default object of  PhaseImpedanceData\n",
      "warning: could not locate mrid:  _36CD0283-0C33-45F1-B504-C7EF348D8CC0 . creating default object of  PhaseImpedanceData\n",
      "warning: could not locate mrid:  _699B3870-6CE0-4B8C-830C-77D071EECD2E . creating default object of  PhaseImpedanceData\n",
      "warning: could not locate mrid:  _7903D890-15F0-4773-814B-0A92B52396AF . creating default object of  PhaseImpedanceData\n",
      "warning: could not locate mrid:  _842054E7-44EB-4010-99B7-475DA622A91D . creating default object of  PhaseImpedanceData\n",
      "warning: could not locate mrid:  _997E83A5-27DC-426D-A88E-56FCFB96146B . creating default object of  PhaseImpedanceData\n",
      "warning: could not locate mrid:  _4BDC7B0A-F286-4355-9902-DEE520D20C27 . creating default object of  PhaseImpedanceData\n",
      "warning: could not locate mrid:  _7EF9213B-DA56-4302-9054-C148028273A3 . creating default object of  PhaseImpedanceData\n",
      "warning: could not locate mrid:  _C1EF0F7C-9A4B-4524-87C6-7FA30F4ED054 . creating default object of  PhaseImpedanceData\n",
      "warning: could not locate mrid:  _6F512C0E-9699-47B9-B4CA-E3795D10FA71 . creating default object of  PhaseImpedanceData\n",
      "warning: could not locate mrid:  _C6B5D630-3418-43C9-9687-F69172DE9022 . creating default object of  PhaseImpedanceData\n",
      "warning: could not locate mrid:  _DB16BB5E-B313-4BCE-A8A7-3C5F164E67C1 . creating default object of  PhaseImpedanceData\n",
      "warning: could not locate mrid:  _FA9E52AA-F34E-4EA9-9A35-D656FE0C91F6 . creating default object of  PhaseImpedanceData\n",
      "warning: could not locate mrid:  _19FE7AED-6DF3-42E8-94B5-8D90228B325B . creating default object of  PhaseImpedanceData\n",
      "warning: could not locate mrid:  _424E24DC-306A-4712-93FF-7DA4A9CDCD87 . creating default object of  PhaseImpedanceData\n",
      "warning: could not locate mrid:  _7067BFCB-5985-4AF2-8C7D-0960BE66393E . creating default object of  PhaseImpedanceData\n",
      "warning: could not locate mrid:  _C3CBC655-630A-41DA-BF32-2A886B7625F0 . creating default object of  PhaseImpedanceData\n",
      "warning: could not locate mrid:  _EF543C96-1A5F-4AF8-BED9-05F6815078C3 . creating default object of  PhaseImpedanceData\n",
      "warning: could not locate mrid:  _F6F24C48-BA24-4A0F-A673-DDCB90D89EB7 . creating default object of  PhaseImpedanceData\n",
      "warning: could not locate mrid:  _D0A424DC-9D42-4CBE-A1D2-5EF225F2517F . creating default object of  PhaseImpedanceData\n",
      "warning: no instances of  WireSpacingInfo  found in catalog.\n",
      "warning: no instances of  WirePosition  found in catalog.\n",
      "warning: no instances of  OverheadWireInfo  found in catalog.\n",
      "warning: no instances of  ConcentricNeutralCableInfo  found in catalog.\n",
      "warning: no instances of  TapeShieldCableInfo  found in catalog.\n"
     ]
    }
   ],
   "source": [
    "network.get_all_attributes(cim.ACLineSegment)\n",
    "network.get_all_attributes(cim.ACLineSegmentPhase)\n",
    "network.get_all_attributes(cim.PerLengthPhaseImpedance)\n",
    "network.get_all_attributes(cim.PhaseImpedanceData)\n",
    "\n",
    "network.get_all_attributes(cim.WireSpacingInfo)\n",
    "network.get_all_attributes(cim.WirePosition)\n",
    "network.get_all_attributes(cim.OverheadWireInfo)\n",
    "network.get_all_attributes(cim.ConcentricNeutralCableInfo)\n",
    "network.get_all_attributes(cim.TapeShieldCableInfo)\n",
    "\n",
    "network.get_all_attributes(cim.Terminal) #bus info"
   ]
  },
  {
   "cell_type": "code",
   "execution_count": 14,
   "id": "3545573d",
   "metadata": {},
   "outputs": [
    {
     "name": "stdout",
     "output_type": "stream",
     "text": [
      "\n",
      "line mrid:  _0BBD0EA3-F665-465B-86FD-FC8B8466AD53\n",
      "line name: 645646\n",
      "bus 1:  _8C58660F-C62C-4903-BE72-22F1255B1E62\n",
      "bus 2:  _0124E881-B82D-4206-BBDF-37D585159872\n",
      "phase  C :  _94FCAFFF-E5F7-4F97-B697-35C46656EDCA\n",
      "phase  B :  _CE2AFB05-A1B1-4082-B4EB-2AD8A1D3422D\n",
      "row: 2 col: 2 r: 0.00082607345 x: 0.00083707202 b: 0\n",
      "row: 2 col: 1 r: 0.0001283788 x: 0.00028527931 b: 0\n",
      "row: 1 col: 1 r: 0.00082259367 x: 0.00084316162 b: 0\n",
      "\n",
      "line mrid:  _1C6781A2-5B9D-4525-8A9B-F9B32C4C4AC0\n",
      "line name: 632645\n",
      "bus 1:  _0124E881-B82D-4206-BBDF-37D585159872\n",
      "bus 2:  _6CB5E5CE-2CD0-40CC-A979-B4F9ED05E49B\n",
      "phase  C :  _19B6044B-6915-4245-9DD1-6AB0444D42A6\n",
      "phase  B :  _D9C9CEA6-B3F0-4E02-9911-3DFA192B4D01\n",
      "row: 2 col: 2 r: 0.00082607345 x: 0.00083707202 b: 0\n",
      "row: 2 col: 1 r: 0.0001283788 x: 0.00028527931 b: 0\n",
      "row: 1 col: 1 r: 0.00082259367 x: 0.00084316162 b: 0\n",
      "\n",
      "line mrid:  _45395C84-F20A-4F5A-977F-B80348256421\n",
      "line name: 670671\n",
      "bus 1:  _30BE5988-DE57-4E0C-AB08-50D5A13D2C1B\n",
      "bus 2:  _DC889FA5-7B28-4273-A1D7-205BE3E0BFED\n",
      "phase  B :  _5092EC91-3F74-4829-ABF1-AF5C6AFD1A50\n",
      "phase  C :  _5AFA6BC8-9FCE-4931-A83B-C8CA2EC15551\n",
      "phase  A :  _E295A13C-1B49-4D5A-8BB6-6D106AE0D436\n",
      "row: 2 col: 1 r: 0.000095383086 x: 0.00023917231 b: 0\n",
      "row: 3 col: 2 r: 0.000096936556 x: 0.00031175045 b: 0\n",
      "row: 3 col: 3 r: 0.00021214193 x: 0.00064301249 b: 0\n",
      "row: 3 col: 1 r: 0.000098179333 x: 0.00026322003 b: 0\n",
      "row: 1 col: 1 r: 0.000215311 x: 0.00063251103 b: 0\n",
      "row: 2 col: 2 r: 0.00020971851 x: 0.00065109054 b: 0\n",
      "\n",
      "line mrid:  _4C04F838-62AA-475E-AEFA-A63B7C889C13\n",
      "line name: 671680\n",
      "bus 1:  _30BE5988-DE57-4E0C-AB08-50D5A13D2C1B\n",
      "bus 2:  _76D6D03C-967C-4E12-836D-A98DF3552BC7\n",
      "phase  C :  _1B6C674F-B22C-4D39-9294-98BB4634ED96\n",
      "phase  B :  _A28877AB-3D74-4950-AA8C-45D962BD7331\n",
      "phase  A :  _A539F769-AF0F-4203-99CE-6FF4B9D07F70\n",
      "row: 2 col: 1 r: 0.000095383086 x: 0.00023917231 b: 0\n",
      "row: 3 col: 2 r: 0.000096936556 x: 0.00031175045 b: 0\n",
      "row: 3 col: 3 r: 0.00021214193 x: 0.00064301249 b: 0\n",
      "row: 3 col: 1 r: 0.000098179333 x: 0.00026322003 b: 0\n",
      "row: 1 col: 1 r: 0.000215311 x: 0.00063251103 b: 0\n",
      "row: 2 col: 2 r: 0.00020971851 x: 0.00065109054 b: 0\n",
      "\n",
      "line mrid:  _7060D0BB-B30D-4932-8FA1-40820A0FC4D0\n",
      "line name: 692675\n",
      "bus 1:  _E5B2888B-B60D-4DA6-A4F7-17EB849D28B2\n",
      "bus 2:  _63DFBEA0-CD06-4D2E-B956-DF9517BE057B\n",
      "phase  B :  _216C7BCA-22B0-4B68-81F5-33AB8A4E6DA7\n",
      "phase  A :  _5D4FC857-8FD9-4BE9-8C1F-11CF7E38AA46\n",
      "phase  C :  _BD4212B3-1635-421A-BDD8-767B6738FA80\n",
      "row: 3 col: 2 r: 0.00019789722 x: 0.000017202386 b: 0\n",
      "row: 2 col: 1 r: 0.00019789722 x: 0.000017202386 b: 0\n",
      "row: 3 col: 3 r: 0.00049196607 x: 0.00027238675 b: 8.9942824E-8\n",
      "row: 1 col: 1 r: 0.00049196607 x: 0.00027238675 b: 8.9942824E-8\n",
      "row: 3 col: 1 r: 0.00017613248 x: -0.000011446219 b: 0\n",
      "row: 2 col: 2 r: 0.00048570745 x: 0.00024650283 b: 8.9942824E-8\n",
      "\n",
      "line mrid:  _8E180773-2A9B-4136-BC9A-132A52C8E276\n",
      "line name: 684611\n",
      "bus 1:  _DBFA8EFA-B397-40DA-9642-60E8DE4B3471\n",
      "bus 2:  _2A6DC4DD-D3DC-434D-A187-D2C58A0A72C8\n",
      "phase  C :  _AA2FE477-C2D1-4206-9A8E-742D27976105\n",
      "row: 1 col: 1 r: 0.00082594917 x: 0.00083732057 b: 0\n",
      "\n",
      "line mrid:  _A04CDFB1-E951-4FC4-8882-0323CD70AE3C\n",
      "line name: 650632\n",
      "bus 1:  _673E896A-DCBF-4E43-9924-BEB31C5B6005\n",
      "bus 2:  _6CB5E5CE-2CD0-40CC-A979-B4F9ED05E49B\n",
      "phase  A :  _2A5A1025-AD81-4BFA-A7F0-ED70F7F43DAA\n",
      "phase  B :  _2D60B241-DE87-48BD-A8D3-FE4B705B40ED\n",
      "phase  C :  _A66508A9-C9C1-4DB5-8FFD-F081E5E9E14D\n",
      "row: 2 col: 1 r: 0.000095383086 x: 0.00023917231 b: 0\n",
      "row: 3 col: 2 r: 0.000096936556 x: 0.00031175045 b: 0\n",
      "row: 3 col: 3 r: 0.00021214193 x: 0.00064301249 b: 0\n",
      "row: 3 col: 1 r: 0.000098179333 x: 0.00026322003 b: 0\n",
      "row: 1 col: 1 r: 0.000215311 x: 0.00063251103 b: 0\n",
      "row: 2 col: 2 r: 0.00020971851 x: 0.00065109054 b: 0\n",
      "\n",
      "line mrid:  _ABF53597-A808-422A-B7EE-552F24D83A5F\n",
      "line name: 632670\n",
      "bus 1:  _421E99BE-A834-4809-B924-84D88F634A45\n",
      "bus 2:  _DC889FA5-7B28-4273-A1D7-205BE3E0BFED\n",
      "phase  C :  _28DAC6BE-8DD5-4C61-958E-ADB4E8A91EF8\n",
      "phase  A :  _4894C0CB-632C-454A-B9A2-1C2E41FB25FF\n",
      "phase  B :  _CF8E1FD4-BF1D-49B6-905C-8D0F9587FEF7\n",
      "row: 2 col: 1 r: 0.000095383086 x: 0.00023917231 b: 0\n",
      "row: 3 col: 2 r: 0.000096936556 x: 0.00031175045 b: 0\n",
      "row: 3 col: 3 r: 0.00021214193 x: 0.00064301249 b: 0\n",
      "row: 3 col: 1 r: 0.000098179333 x: 0.00026322003 b: 0\n",
      "row: 1 col: 1 r: 0.000215311 x: 0.00063251103 b: 0\n",
      "row: 2 col: 2 r: 0.00020971851 x: 0.00065109054 b: 0\n",
      "\n",
      "line mrid:  _ABF877D7-DAC2-4BF0-AB58-9A8A02E92EB3\n",
      "line name: 684652\n",
      "bus 1:  _8E99F99D-FE8F-420B-AC49-0B52DF5362AB\n",
      "bus 2:  _0F1E28C3-6C44-4F88-B79C-2FDBCA4487B2\n",
      "phase  A :  _D78E30EA-6215-4365-A330-A13FADA79F4F\n",
      "row: 1 col: 1 r: 0.00083421363 x: 0.0003183993 b: 5.5284847E-8\n",
      "\n",
      "line mrid:  _D34B0D01-B082-4081-A3CC-B68B9B8313A4\n",
      "line name: 671684\n",
      "bus 1:  _30BE5988-DE57-4E0C-AB08-50D5A13D2C1B\n",
      "bus 2:  _8E99F99D-FE8F-420B-AC49-0B52DF5362AB\n",
      "phase  C :  _22182853-3560-4EE4-8BA2-0730C5F5AF94\n",
      "phase  A :  _5143B56C-5AF7-4D47-A6B1-5F952B891190\n",
      "row: 1 col: 1 r: 0.00082259367 x: 0.00084316162 b: 0\n",
      "row: 2 col: 2 r: 0.00082607345 x: 0.00083707202 b: 0\n",
      "row: 2 col: 1 r: 0.0001283788 x: 0.00028527931 b: 0\n",
      "\n",
      "line mrid:  _FBE26B35-13AB-457D-9795-DF58B28E309D\n",
      "line name: 632633\n",
      "bus 1:  _6CB5E5CE-2CD0-40CC-A979-B4F9ED05E49B\n",
      "bus 2:  _C6256170-E6ED-4F91-8EBD-748090C3FDD5\n",
      "phase  A :  _18F23724-C3EE-498E-96A7-98FE210A523C\n",
      "phase  B :  _30E5A294-2F25-480D-BDDA-777F59ED5AF3\n",
      "phase  C :  _5830B397-557C-41B5-A94D-95A3841505D0\n",
      "row: 3 col: 1 r: 0.000096936556 x: 0.00031175045 b: 0\n",
      "row: 1 col: 1 r: 0.00046765675 x: 0.000734108 b: 0\n",
      "row: 3 col: 2 r: 0.000098179333 x: 0.00026322003 b: 0\n",
      "row: 3 col: 3 r: 0.00046206425 x: 0.00075262537 b: 0\n",
      "row: 2 col: 2 r: 0.00046448767 x: 0.00074460946 b: 0\n",
      "row: 2 col: 1 r: 0.000095383086 x: 0.00023917231 b: 0\n"
     ]
    }
   ],
   "source": [
    "for line in network.typed_catalog[cim.ACLineSegment].values():\n",
    "    print()\n",
    "    print('line mrid: ', line.mRID)\n",
    "    print('line name:', line.name)\n",
    "    print('bus 1: ', line.Terminals[0].ConnectivityNode.mRID)\n",
    "    print('bus 2: ', line.Terminals[1].ConnectivityNode.mRID)\n",
    "    \n",
    "    for line_phs in line.ACLineSegmentPhases:\n",
    "        print('phase ', line_phs.phase, ': ', line_phs.mRID)\n",
    "        if line_phs.WireInfo is not None:\n",
    "            print('type: ', line_phs.WireInfo.__class__.__name__)\n",
    "            print('gmr: ', line_phs.WireInfo.gmr)\n",
    "            print('insulated: ', line_phs.WireInfo.insulated)\n",
    "            \n",
    "    if line.WireSpacingInfo is not None:\n",
    "        for position in line.WireSpacingInfo.WirePositions:\n",
    "            print('seq:', position.sequenceNumber, ' x:', position.xCoord, ' y:', position.yCoord)    \n",
    "            \n",
    "    if line.PerLengthImpedance is not None:\n",
    "        for impedance in line.PerLengthImpedance.PhaseImpedanceData:\n",
    "            print('row:', impedance.row, 'col:', impedance.column, 'r:', impedance.r, 'x:', impedance.x, 'b:', impedance.b)\n"
   ]
  },
  {
   "cell_type": "code",
   "execution_count": 15,
   "id": "879c37b2",
   "metadata": {},
   "outputs": [
    {
     "ename": "SyntaxError",
     "evalue": "unmatched ')' (4117457807.py, line 1)",
     "output_type": "error",
     "traceback": [
      "\u001b[0;36m  Cell \u001b[0;32mIn[15], line 1\u001b[0;36m\u001b[0m\n\u001b[0;31m    (cim.ConcentricNeutralCableInfo))\u001b[0m\n\u001b[0m                                    ^\u001b[0m\n\u001b[0;31mSyntaxError\u001b[0m\u001b[0;31m:\u001b[0m unmatched ')'\n"
     ]
    }
   ],
   "source": [
    "(cim.ConcentricNeutralCableInfo))"
   ]
  },
  {
   "cell_type": "code",
   "execution_count": null,
   "id": "37cd84cb",
   "metadata": {},
   "outputs": [],
   "source": []
  },
  {
   "cell_type": "code",
   "execution_count": 16,
   "id": "9a269f74",
   "metadata": {},
   "outputs": [
    {
     "ename": "KeyError",
     "evalue": "<class 'cimlab.data_profile.rc4_2021.gridappsd_cim_profile_rc4_2021.OverheadWireInfo'>",
     "output_type": "error",
     "traceback": [
      "\u001b[0;31m---------------------------------------------------------------------------\u001b[0m",
      "\u001b[0;31mKeyError\u001b[0m                                  Traceback (most recent call last)",
      "Cell \u001b[0;32mIn[16], line 1\u001b[0m\n\u001b[0;32m----> 1\u001b[0m \u001b[38;5;28;01mfor\u001b[39;00m oh_wire \u001b[38;5;129;01min\u001b[39;00m \u001b[43mnetwork\u001b[49m\u001b[38;5;241;43m.\u001b[39;49m\u001b[43mtyped_catalog\u001b[49m\u001b[43m[\u001b[49m\u001b[43mcim\u001b[49m\u001b[38;5;241;43m.\u001b[39;49m\u001b[43mOverheadWireInfo\u001b[49m\u001b[43m]\u001b[49m\u001b[38;5;241m.\u001b[39mvalues():\n\u001b[1;32m      2\u001b[0m     \u001b[38;5;28mprint\u001b[39m()\n\u001b[1;32m      3\u001b[0m     \u001b[38;5;28mprint\u001b[39m(\u001b[38;5;124m'\u001b[39m\u001b[38;5;124mname: \u001b[39m\u001b[38;5;124m'\u001b[39m, oh_wire\u001b[38;5;241m.\u001b[39mname)\n",
      "\u001b[0;31mKeyError\u001b[0m: <class 'cimlab.data_profile.rc4_2021.gridappsd_cim_profile_rc4_2021.OverheadWireInfo'>"
     ]
    }
   ],
   "source": [
    "for oh_wire in network.typed_catalog[cim.OverheadWireInfo].values():\n",
    "    print()\n",
    "    print('name: ', oh_wire.name)\n",
    "    print('gmr: ', oh_wire.gmr)\n",
    "    print('insulated:', oh_wire.insulated)\n",
    "    for line_phs in oh_wire.ACLineSegmentPhases:\n",
    "        node1 = line_phs.ACLineSegment.Terminals[0].ConnectivityNode\n",
    "        node2 = line_phs.ACLineSegment.Terminals[1].ConnectivityNode\n",
    "        print('Buses:', node1.name, node2.name)\n",
    "        print('Line Phase: ', line_phs.name, line_phs.mRID)"
   ]
  },
  {
   "cell_type": "code",
   "execution_count": 17,
   "id": "4faa8aa7",
   "metadata": {},
   "outputs": [
    {
     "ename": "KeyError",
     "evalue": "<class 'cimlab.data_profile.rc4_2021.gridappsd_cim_profile_rc4_2021.TapeShieldCableInfo'>",
     "output_type": "error",
     "traceback": [
      "\u001b[0;31m---------------------------------------------------------------------------\u001b[0m",
      "\u001b[0;31mKeyError\u001b[0m                                  Traceback (most recent call last)",
      "Cell \u001b[0;32mIn[17], line 1\u001b[0m\n\u001b[0;32m----> 1\u001b[0m \u001b[38;5;28;01mfor\u001b[39;00m cable \u001b[38;5;129;01min\u001b[39;00m \u001b[43mnetwork\u001b[49m\u001b[38;5;241;43m.\u001b[39;49m\u001b[43mtyped_catalog\u001b[49m\u001b[43m[\u001b[49m\u001b[43mcim\u001b[49m\u001b[38;5;241;43m.\u001b[39;49m\u001b[43mTapeShieldCableInfo\u001b[49m\u001b[43m]\u001b[49m\u001b[38;5;241m.\u001b[39mvalues():\n\u001b[1;32m      2\u001b[0m     \u001b[38;5;28mprint\u001b[39m()\n\u001b[1;32m      3\u001b[0m     \u001b[38;5;28mprint\u001b[39m(\u001b[38;5;124m'\u001b[39m\u001b[38;5;124mname: \u001b[39m\u001b[38;5;124m'\u001b[39m, cable\u001b[38;5;241m.\u001b[39mname)\n",
      "\u001b[0;31mKeyError\u001b[0m: <class 'cimlab.data_profile.rc4_2021.gridappsd_cim_profile_rc4_2021.TapeShieldCableInfo'>"
     ]
    }
   ],
   "source": [
    "for cable in network.typed_catalog[cim.TapeShieldCableInfo].values():\n",
    "    print()\n",
    "    print('name: ', cable.name)\n",
    "    print('gmr: ', cable.gmr)\n",
    "    print('insulated:', cable.insulated)\n",
    "    print('tape thickness', cable.tapeThickness)\n",
    "    for line_phs in cable.ACLineSegmentPhases:\n",
    "        node1 = line_phs.ACLineSegment.Terminals[0].ConnectivityNode\n",
    "        node2 = line_phs.ACLineSegment.Terminals[1].ConnectivityNode\n",
    "        print('Line Phase: ', line_phs.name, line_phs.mRID)\n",
    "        print('Buses:', node1.name, node2.name, node1.mRID, node2.mRID)"
   ]
  },
  {
   "cell_type": "code",
   "execution_count": 18,
   "id": "f7bc7bd7",
   "metadata": {},
   "outputs": [
    {
     "ename": "KeyError",
     "evalue": "<class 'cimlab.data_profile.rc4_2021.gridappsd_cim_profile_rc4_2021.WireSpacingInfo'>",
     "output_type": "error",
     "traceback": [
      "\u001b[0;31m---------------------------------------------------------------------------\u001b[0m",
      "\u001b[0;31mKeyError\u001b[0m                                  Traceback (most recent call last)",
      "Cell \u001b[0;32mIn[18], line 1\u001b[0m\n\u001b[0;32m----> 1\u001b[0m \u001b[38;5;28;01mfor\u001b[39;00m spacing \u001b[38;5;129;01min\u001b[39;00m \u001b[43mnetwork\u001b[49m\u001b[38;5;241;43m.\u001b[39;49m\u001b[43mtyped_catalog\u001b[49m\u001b[43m[\u001b[49m\u001b[43mcim\u001b[49m\u001b[38;5;241;43m.\u001b[39;49m\u001b[43mWireSpacingInfo\u001b[49m\u001b[43m]\u001b[49m\u001b[38;5;241m.\u001b[39mvalues():\n\u001b[1;32m      2\u001b[0m     \u001b[38;5;28;01mfor\u001b[39;00m positions \u001b[38;5;129;01min\u001b[39;00m spacing\u001b[38;5;241m.\u001b[39mWirePositions:\n\u001b[1;32m      3\u001b[0m         \u001b[38;5;28mprint\u001b[39m(\u001b[38;5;124m'\u001b[39m\u001b[38;5;124mseq:\u001b[39m\u001b[38;5;124m'\u001b[39m, position\u001b[38;5;241m.\u001b[39msequenceNumber, \u001b[38;5;124m'\u001b[39m\u001b[38;5;124m x:\u001b[39m\u001b[38;5;124m'\u001b[39m, position\u001b[38;5;241m.\u001b[39mxCoord, \u001b[38;5;124m'\u001b[39m\u001b[38;5;124m y:\u001b[39m\u001b[38;5;124m'\u001b[39m, position\u001b[38;5;241m.\u001b[39myCoord)    \n",
      "\u001b[0;31mKeyError\u001b[0m: <class 'cimlab.data_profile.rc4_2021.gridappsd_cim_profile_rc4_2021.WireSpacingInfo'>"
     ]
    }
   ],
   "source": [
    "for spacing in network.typed_catalog[cim.WireSpacingInfo].values():\n",
    "    for positions in spacing.WirePositions:\n",
    "        print('seq:', position.sequenceNumber, ' x:', position.xCoord, ' y:', position.yCoord)    \n",
    "    for line in spacing.ACLineSegments:\n",
    "        node1 = line.Terminals[0].ConnectivityNode\n",
    "        node2 = line.Terminals[1].ConnectivityNode\n",
    "        print('Line: ', line.name, line.mRID)\n",
    "        print('Buses:', node1.name, node2.name, node1.mRID, node2.mRID)"
   ]
  },
  {
   "cell_type": "code",
   "execution_count": 19,
   "id": "82e1086a",
   "metadata": {},
   "outputs": [
    {
     "name": "stdout",
     "output_type": "stream",
     "text": [
      "name: mtx602\n",
      "row: 3 col: 1 r: 0.000096936556 x: 0.00031175045 b: 0\n",
      "row: 1 col: 1 r: 0.00046765675 x: 0.000734108 b: 0\n",
      "row: 3 col: 2 r: 0.000098179333 x: 0.00026322003 b: 0\n",
      "row: 3 col: 3 r: 0.00046206425 x: 0.00075262537 b: 0\n",
      "row: 2 col: 2 r: 0.00046448767 x: 0.00074460946 b: 0\n",
      "row: 2 col: 1 r: 0.000095383086 x: 0.00023917231 b: 0\n",
      "Line:  632633 _FBE26B35-13AB-457D-9795-DF58B28E309D\n",
      "Buses: 632 633 _6CB5E5CE-2CD0-40CC-A979-B4F9ED05E49B _C6256170-E6ED-4F91-8EBD-748090C3FDD5\n",
      "name: mtx603\n",
      "row: 2 col: 2 r: 0.00082607345 x: 0.00083707202 b: 0\n",
      "row: 2 col: 1 r: 0.0001283788 x: 0.00028527931 b: 0\n",
      "row: 1 col: 1 r: 0.00082259367 x: 0.00084316162 b: 0\n",
      "Line:  645646 _0BBD0EA3-F665-465B-86FD-FC8B8466AD53\n",
      "Buses: 646 645 _8C58660F-C62C-4903-BE72-22F1255B1E62 _0124E881-B82D-4206-BBDF-37D585159872\n",
      "Line:  632645 _1C6781A2-5B9D-4525-8A9B-F9B32C4C4AC0\n",
      "Buses: 645 632 _0124E881-B82D-4206-BBDF-37D585159872 _6CB5E5CE-2CD0-40CC-A979-B4F9ED05E49B\n",
      "name: mtx601\n",
      "row: 2 col: 1 r: 0.000095383086 x: 0.00023917231 b: 0\n",
      "row: 3 col: 2 r: 0.000096936556 x: 0.00031175045 b: 0\n",
      "row: 3 col: 3 r: 0.00021214193 x: 0.00064301249 b: 0\n",
      "row: 3 col: 1 r: 0.000098179333 x: 0.00026322003 b: 0\n",
      "row: 1 col: 1 r: 0.000215311 x: 0.00063251103 b: 0\n",
      "row: 2 col: 2 r: 0.00020971851 x: 0.00065109054 b: 0\n",
      "Line:  670671 _45395C84-F20A-4F5A-977F-B80348256421\n",
      "Buses: 671 670 _30BE5988-DE57-4E0C-AB08-50D5A13D2C1B _DC889FA5-7B28-4273-A1D7-205BE3E0BFED\n",
      "Line:  671680 _4C04F838-62AA-475E-AEFA-A63B7C889C13\n",
      "Buses: 671 680 _30BE5988-DE57-4E0C-AB08-50D5A13D2C1B _76D6D03C-967C-4E12-836D-A98DF3552BC7\n",
      "Line:  650632 _A04CDFB1-E951-4FC4-8882-0323CD70AE3C\n",
      "Buses: rg60 632 _673E896A-DCBF-4E43-9924-BEB31C5B6005 _6CB5E5CE-2CD0-40CC-A979-B4F9ED05E49B\n",
      "Line:  632670 _ABF53597-A808-422A-B7EE-552F24D83A5F\n",
      "Buses: mid 670 _421E99BE-A834-4809-B924-84D88F634A45 _DC889FA5-7B28-4273-A1D7-205BE3E0BFED\n",
      "name: mtx604\n",
      "row: 1 col: 1 r: 0.00082259367 x: 0.00084316162 b: 0\n",
      "row: 2 col: 2 r: 0.00082607345 x: 0.00083707202 b: 0\n",
      "row: 2 col: 1 r: 0.0001283788 x: 0.00028527931 b: 0\n",
      "Line:  671684 _D34B0D01-B082-4081-A3CC-B68B9B8313A4\n",
      "Buses: 671 684 _30BE5988-DE57-4E0C-AB08-50D5A13D2C1B _8E99F99D-FE8F-420B-AC49-0B52DF5362AB\n",
      "name: mtx605\n",
      "row: 1 col: 1 r: 0.00082594917 x: 0.00083732057 b: 0\n",
      "Line:  684611 _8E180773-2A9B-4136-BC9A-132A52C8E276\n",
      "Buses: 611 tap _DBFA8EFA-B397-40DA-9642-60E8DE4B3471 _2A6DC4DD-D3DC-434D-A187-D2C58A0A72C8\n",
      "name: mtx607\n",
      "row: 1 col: 1 r: 0.00083421363 x: 0.0003183993 b: 5.5284847E-8\n",
      "Line:  684652 _ABF877D7-DAC2-4BF0-AB58-9A8A02E92EB3\n",
      "Buses: 684 652 _8E99F99D-FE8F-420B-AC49-0B52DF5362AB _0F1E28C3-6C44-4F88-B79C-2FDBCA4487B2\n",
      "name: mtx606\n",
      "row: 3 col: 2 r: 0.00019789722 x: 0.000017202386 b: 0\n",
      "row: 2 col: 1 r: 0.00019789722 x: 0.000017202386 b: 0\n",
      "row: 3 col: 3 r: 0.00049196607 x: 0.00027238675 b: 8.9942824E-8\n",
      "row: 1 col: 1 r: 0.00049196607 x: 0.00027238675 b: 8.9942824E-8\n",
      "row: 3 col: 1 r: 0.00017613248 x: -0.000011446219 b: 0\n",
      "row: 2 col: 2 r: 0.00048570745 x: 0.00024650283 b: 8.9942824E-8\n",
      "Line:  692675 _7060D0BB-B30D-4932-8FA1-40820A0FC4D0\n",
      "Buses: 692 675 _E5B2888B-B60D-4DA6-A4F7-17EB849D28B2 _63DFBEA0-CD06-4D2E-B956-DF9517BE057B\n"
     ]
    }
   ],
   "source": [
    "for impedance in network.typed_catalog[cim.PerLengthPhaseImpedance].values():\n",
    "    print('name:', impedance.name)\n",
    "    for data in impedance.PhaseImpedanceData:\n",
    "            print('row:', data.row, 'col:', data.column, 'r:', data.r, 'x:', data.x, 'b:', data.b)\n",
    "    for line in impedance.ACLineSegments:\n",
    "        node1 = line.Terminals[0].ConnectivityNode\n",
    "        node2 = line.Terminals[1].ConnectivityNode\n",
    "        print('Line: ', line.name, line.mRID)\n",
    "        print('Buses:', node1.name, node2.name, node1.mRID, node2.mRID)"
   ]
  },
  {
   "cell_type": "code",
   "execution_count": null,
   "id": "9b1670d1",
   "metadata": {},
   "outputs": [],
   "source": [
    "json.loads(network.__dumps__(cim.PerLengthPhaseImpedance))"
   ]
  },
  {
   "cell_type": "code",
   "execution_count": null,
   "id": "e297de88",
   "metadata": {},
   "outputs": [],
   "source": [
    "print(network.get_attributes_query(cim.TapeShieldCableInfo))"
   ]
  },
  {
   "cell_type": "code",
   "execution_count": null,
   "id": "04171b5f",
   "metadata": {},
   "outputs": [],
   "source": [
    "secondary_area = network.switch_areas[4].secondary_areas[0]\n",
    "secondary_area.get_all_attributes(cim.PowerElectronicsConnection)\n",
    "secondary_area.get_all_attributes(cim.PowerElectronicsConnectionPhase)\n",
    "\n",
    "pec_ids = list(secondary_area.typed_catalog[cim.PowerElectronicsConnection])\n",
    "\n",
    "for pec in pec_ids:\n",
    "    print('p = ', secondary_area.typed_catalog[cim.PowerElectronicsConnection][pec].p)\n",
    "    print('q = ', secondary_area.typed_catalog[cim.PowerElectronicsConnection][pec].q)\n",
    "    for pec_phs in secondary_area.typed_catalog[cim.PowerElectronicsConnection][pec].PowerElectronicsConnectionPhases:\n",
    "        print('phase ', pec_phs.phase, ': ', pec_phs.mRID)"
   ]
  },
  {
   "cell_type": "code",
   "execution_count": null,
   "id": "e2fdaa69",
   "metadata": {},
   "outputs": [],
   "source": [
    "for i in a.values():\n",
    "    print(i)"
   ]
  },
  {
   "cell_type": "code",
   "execution_count": null,
   "id": "ab64f8ab",
   "metadata": {},
   "outputs": [],
   "source": [
    "a = {'b':'a', 'b1': 'a2'}"
   ]
  },
  {
   "cell_type": "code",
   "execution_count": null,
   "id": "ae71bed7",
   "metadata": {},
   "outputs": [],
   "source": [
    "values = ['_0649C1EF-E39F-4B46-AD80-D3C180E4562E']\n",
    "message = bg.sparql.get_class_type_sparql(feeder_mrid, values)\n",
    "output = bg.execute(message)\n",
    "out = output['results']['bindings']\n",
    "if values and not out:\n",
    "    print('yes')"
   ]
  },
  {
   "cell_type": "code",
   "execution_count": null,
   "id": "4e3c6aff",
   "metadata": {},
   "outputs": [],
   "source": [
    "network.switch_areas[1].typed_catalog.keys()"
   ]
  }
 ],
 "metadata": {
  "kernelspec": {
   "display_name": "Python 3 (ipykernel)",
   "language": "python",
   "name": "python3"
  },
  "language_info": {
   "codemirror_mode": {
    "name": "ipython",
    "version": 3
   },
   "file_extension": ".py",
   "mimetype": "text/x-python",
   "name": "python",
   "nbconvert_exporter": "python",
   "pygments_lexer": "ipython3",
   "version": "3.8.0"
  }
 },
 "nbformat": 4,
 "nbformat_minor": 5
}
