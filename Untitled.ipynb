{
 "cells": [
  {
   "cell_type": "code",
   "execution_count": 1,
   "id": "cecd356e",
   "metadata": {},
   "outputs": [],
   "source": [
    "import importlib\n",
    "cim_profile = 'rc4_2021'\n",
    "cim = importlib.import_module('cimlab.data_profile.' + cim_profile)\n",
    "sparql = importlib.import_module('cimlab.loaders.sparql.' + cim_profile)"
   ]
  },
  {
   "cell_type": "code",
   "execution_count": 3,
   "id": "9517508c",
   "metadata": {},
   "outputs": [],
   "source": [
    "from cimlab.loaders import Parameter, ConnectionParameters\n",
    "from cimlab.loaders.blazegraph.blazegraph import BlazegraphConnection\n",
    "from cimlab.models import CentralizedModel\n",
    "import json\n"
   ]
  },
  {
   "cell_type": "code",
   "execution_count": 4,
   "id": "5417f812",
   "metadata": {},
   "outputs": [],
   "source": [
    "# Blazegraph connection for running outside the container\n",
    "params = ConnectionParameters([Parameter(key=\"url\", value=\"http://localhost:8889/bigdata/namespace/kb/sparql\")])\n",
    "bg = BlazegraphConnection(params, 'rc4_2021')\n"
   ]
  },
  {
   "cell_type": "code",
   "execution_count": 5,
   "id": "208e6f7d",
   "metadata": {},
   "outputs": [],
   "source": [
    "#feeder_mrid = \"_C1C3E687-6FFD-C753-582B-632A27E28507\"  # 123 bus\n",
    "# feeder_mrid = \"_49AD8E07-3BF9-A4E2-CB8F-C3722F837B62\"  # 13 bus\n",
    "# feeder_mrid = \"_5B816B93-7A5F-B64C-8460-47C17D6E4B0F\" # 13 bus asets\n",
    "#feeder_mrid = \"_4F76A5F9-271D-9EB8-5E31-AA362D86F2C3\"  # 8500 node\n",
    "#feeder_mrid = \"_67AB291F-DCCD-31B7-B499-338206B9828F\" # J1\n",
    "#feeder_mrid = \"_9CE150A8-8CC5-A0F9-B67E-BBD8C79D3095\"  # R2 12.47 3\n",
    "feeder_mrid = \"_EE71F6C9-56F0-4167-A14E-7F4C71F10EAA\" #9500 node"
   ]
  },
  {
   "cell_type": "markdown",
   "id": "f21352f0",
   "metadata": {},
   "source": [
    "## Create Centralized CIM Model:"
   ]
  },
  {
   "cell_type": "code",
   "execution_count": 6,
   "id": "9cc6e914",
   "metadata": {},
   "outputs": [],
   "source": [
    "feeder = cim.Feeder(mRID=feeder_mrid)"
   ]
  },
  {
   "cell_type": "code",
   "execution_count": 7,
   "id": "428e3089",
   "metadata": {},
   "outputs": [],
   "source": [
    "network = CentralizedModel(connection=bg, feeder=feeder)"
   ]
  },
  {
   "cell_type": "code",
   "execution_count": 8,
   "id": "93eea0ee",
   "metadata": {},
   "outputs": [
    {
     "ename": "QueryBadFormed",
     "evalue": "QueryBadFormed: A bad request has been sent to the endpoint: probably the SPARQL query is badly formed.",
     "output_type": "error",
     "traceback": [
      "\u001b[0;31m---------------------------------------------------------------------------\u001b[0m",
      "\u001b[0;31mHTTPError\u001b[0m                                 Traceback (most recent call last)",
      "File \u001b[0;32m~/.local/lib/python3.10/site-packages/SPARQLWrapper/Wrapper.py:926\u001b[0m, in \u001b[0;36mSPARQLWrapper._query\u001b[0;34m(self)\u001b[0m\n\u001b[1;32m    925\u001b[0m \u001b[38;5;28;01melse\u001b[39;00m:\n\u001b[0;32m--> 926\u001b[0m     response \u001b[38;5;241m=\u001b[39m \u001b[43murlopener\u001b[49m\u001b[43m(\u001b[49m\u001b[43mrequest\u001b[49m\u001b[43m)\u001b[49m\n\u001b[1;32m    927\u001b[0m \u001b[38;5;28;01mreturn\u001b[39;00m response, \u001b[38;5;28mself\u001b[39m\u001b[38;5;241m.\u001b[39mreturnFormat\n",
      "File \u001b[0;32m/usr/lib/python3.10/urllib/request.py:216\u001b[0m, in \u001b[0;36murlopen\u001b[0;34m(url, data, timeout, cafile, capath, cadefault, context)\u001b[0m\n\u001b[1;32m    215\u001b[0m     opener \u001b[38;5;241m=\u001b[39m _opener\n\u001b[0;32m--> 216\u001b[0m \u001b[38;5;28;01mreturn\u001b[39;00m \u001b[43mopener\u001b[49m\u001b[38;5;241;43m.\u001b[39;49m\u001b[43mopen\u001b[49m\u001b[43m(\u001b[49m\u001b[43murl\u001b[49m\u001b[43m,\u001b[49m\u001b[43m \u001b[49m\u001b[43mdata\u001b[49m\u001b[43m,\u001b[49m\u001b[43m \u001b[49m\u001b[43mtimeout\u001b[49m\u001b[43m)\u001b[49m\n",
      "File \u001b[0;32m/usr/lib/python3.10/urllib/request.py:525\u001b[0m, in \u001b[0;36mOpenerDirector.open\u001b[0;34m(self, fullurl, data, timeout)\u001b[0m\n\u001b[1;32m    524\u001b[0m     meth \u001b[38;5;241m=\u001b[39m \u001b[38;5;28mgetattr\u001b[39m(processor, meth_name)\n\u001b[0;32m--> 525\u001b[0m     response \u001b[38;5;241m=\u001b[39m \u001b[43mmeth\u001b[49m\u001b[43m(\u001b[49m\u001b[43mreq\u001b[49m\u001b[43m,\u001b[49m\u001b[43m \u001b[49m\u001b[43mresponse\u001b[49m\u001b[43m)\u001b[49m\n\u001b[1;32m    527\u001b[0m \u001b[38;5;28;01mreturn\u001b[39;00m response\n",
      "File \u001b[0;32m/usr/lib/python3.10/urllib/request.py:634\u001b[0m, in \u001b[0;36mHTTPErrorProcessor.http_response\u001b[0;34m(self, request, response)\u001b[0m\n\u001b[1;32m    633\u001b[0m \u001b[38;5;28;01mif\u001b[39;00m \u001b[38;5;129;01mnot\u001b[39;00m (\u001b[38;5;241m200\u001b[39m \u001b[38;5;241m<\u001b[39m\u001b[38;5;241m=\u001b[39m code \u001b[38;5;241m<\u001b[39m \u001b[38;5;241m300\u001b[39m):\n\u001b[0;32m--> 634\u001b[0m     response \u001b[38;5;241m=\u001b[39m \u001b[38;5;28;43mself\u001b[39;49m\u001b[38;5;241;43m.\u001b[39;49m\u001b[43mparent\u001b[49m\u001b[38;5;241;43m.\u001b[39;49m\u001b[43merror\u001b[49m\u001b[43m(\u001b[49m\n\u001b[1;32m    635\u001b[0m \u001b[43m        \u001b[49m\u001b[38;5;124;43m'\u001b[39;49m\u001b[38;5;124;43mhttp\u001b[39;49m\u001b[38;5;124;43m'\u001b[39;49m\u001b[43m,\u001b[49m\u001b[43m \u001b[49m\u001b[43mrequest\u001b[49m\u001b[43m,\u001b[49m\u001b[43m \u001b[49m\u001b[43mresponse\u001b[49m\u001b[43m,\u001b[49m\u001b[43m \u001b[49m\u001b[43mcode\u001b[49m\u001b[43m,\u001b[49m\u001b[43m \u001b[49m\u001b[43mmsg\u001b[49m\u001b[43m,\u001b[49m\u001b[43m \u001b[49m\u001b[43mhdrs\u001b[49m\u001b[43m)\u001b[49m\n\u001b[1;32m    637\u001b[0m \u001b[38;5;28;01mreturn\u001b[39;00m response\n",
      "File \u001b[0;32m/usr/lib/python3.10/urllib/request.py:563\u001b[0m, in \u001b[0;36mOpenerDirector.error\u001b[0;34m(self, proto, *args)\u001b[0m\n\u001b[1;32m    562\u001b[0m args \u001b[38;5;241m=\u001b[39m (\u001b[38;5;28mdict\u001b[39m, \u001b[38;5;124m'\u001b[39m\u001b[38;5;124mdefault\u001b[39m\u001b[38;5;124m'\u001b[39m, \u001b[38;5;124m'\u001b[39m\u001b[38;5;124mhttp_error_default\u001b[39m\u001b[38;5;124m'\u001b[39m) \u001b[38;5;241m+\u001b[39m orig_args\n\u001b[0;32m--> 563\u001b[0m \u001b[38;5;28;01mreturn\u001b[39;00m \u001b[38;5;28;43mself\u001b[39;49m\u001b[38;5;241;43m.\u001b[39;49m\u001b[43m_call_chain\u001b[49m\u001b[43m(\u001b[49m\u001b[38;5;241;43m*\u001b[39;49m\u001b[43margs\u001b[49m\u001b[43m)\u001b[49m\n",
      "File \u001b[0;32m/usr/lib/python3.10/urllib/request.py:496\u001b[0m, in \u001b[0;36mOpenerDirector._call_chain\u001b[0;34m(self, chain, kind, meth_name, *args)\u001b[0m\n\u001b[1;32m    495\u001b[0m func \u001b[38;5;241m=\u001b[39m \u001b[38;5;28mgetattr\u001b[39m(handler, meth_name)\n\u001b[0;32m--> 496\u001b[0m result \u001b[38;5;241m=\u001b[39m \u001b[43mfunc\u001b[49m\u001b[43m(\u001b[49m\u001b[38;5;241;43m*\u001b[39;49m\u001b[43margs\u001b[49m\u001b[43m)\u001b[49m\n\u001b[1;32m    497\u001b[0m \u001b[38;5;28;01mif\u001b[39;00m result \u001b[38;5;129;01mis\u001b[39;00m \u001b[38;5;129;01mnot\u001b[39;00m \u001b[38;5;28;01mNone\u001b[39;00m:\n",
      "File \u001b[0;32m/usr/lib/python3.10/urllib/request.py:643\u001b[0m, in \u001b[0;36mHTTPDefaultErrorHandler.http_error_default\u001b[0;34m(self, req, fp, code, msg, hdrs)\u001b[0m\n\u001b[1;32m    642\u001b[0m \u001b[38;5;28;01mdef\u001b[39;00m \u001b[38;5;21mhttp_error_default\u001b[39m(\u001b[38;5;28mself\u001b[39m, req, fp, code, msg, hdrs):\n\u001b[0;32m--> 643\u001b[0m     \u001b[38;5;28;01mraise\u001b[39;00m HTTPError(req\u001b[38;5;241m.\u001b[39mfull_url, code, msg, hdrs, fp)\n",
      "\u001b[0;31mHTTPError\u001b[0m: HTTP Error 400: Unable to parse form content",
      "\nDuring handling of the above exception, another exception occurred:\n",
      "\u001b[0;31mQueryBadFormed\u001b[0m                            Traceback (most recent call last)",
      "Cell \u001b[0;32mIn[8], line 2\u001b[0m\n\u001b[1;32m      1\u001b[0m network\u001b[38;5;241m.\u001b[39mget_all_attributes(cim\u001b[38;5;241m.\u001b[39mACLineSegment)\n\u001b[0;32m----> 2\u001b[0m \u001b[43mnetwork\u001b[49m\u001b[38;5;241;43m.\u001b[39;49m\u001b[43mget_all_attributes\u001b[49m\u001b[43m(\u001b[49m\u001b[43mcim\u001b[49m\u001b[38;5;241;43m.\u001b[39;49m\u001b[43mACLineSegmentPhase\u001b[49m\u001b[43m)\u001b[49m\n\u001b[1;32m      3\u001b[0m network\u001b[38;5;241m.\u001b[39mget_all_attributes(cim\u001b[38;5;241m.\u001b[39mTerminal)\n\u001b[1;32m      4\u001b[0m network\u001b[38;5;241m.\u001b[39mget_all_attributes(cim\u001b[38;5;241m.\u001b[39mAnalog)\n",
      "File \u001b[0;32m~/gridappsd-cim-lab/cimlab/models/centralized_model.py:41\u001b[0m, in \u001b[0;36mCentralizedModel.get_all_attributes\u001b[0;34m(self, cim_class)\u001b[0m\n\u001b[1;32m     39\u001b[0m \u001b[38;5;28;01mdef\u001b[39;00m \u001b[38;5;21mget_all_attributes\u001b[39m(\u001b[38;5;28mself\u001b[39m, cim_class):\n\u001b[1;32m     40\u001b[0m     \u001b[38;5;28;01mif\u001b[39;00m cim_class \u001b[38;5;129;01min\u001b[39;00m \u001b[38;5;28mself\u001b[39m\u001b[38;5;241m.\u001b[39mtyped_catalog:\n\u001b[0;32m---> 41\u001b[0m         \u001b[38;5;28;43mself\u001b[39;49m\u001b[38;5;241;43m.\u001b[39;49m\u001b[43mconnection\u001b[49m\u001b[38;5;241;43m.\u001b[39;49m\u001b[43mget_all_attributes\u001b[49m\u001b[43m(\u001b[49m\u001b[38;5;28;43mself\u001b[39;49m\u001b[38;5;241;43m.\u001b[39;49m\u001b[43mfeeder\u001b[49m\u001b[38;5;241;43m.\u001b[39;49m\u001b[43mmRID\u001b[49m\u001b[43m,\u001b[49m\u001b[43m \u001b[49m\u001b[38;5;28;43mself\u001b[39;49m\u001b[38;5;241;43m.\u001b[39;49m\u001b[43mtyped_catalog\u001b[49m\u001b[43m,\u001b[49m\u001b[43m \u001b[49m\u001b[43mcim_class\u001b[49m\u001b[43m)\u001b[49m\n\u001b[1;32m     42\u001b[0m     \u001b[38;5;28;01melse\u001b[39;00m:\n\u001b[1;32m     43\u001b[0m         _log\u001b[38;5;241m.\u001b[39minfo(\u001b[38;5;124m'\u001b[39m\u001b[38;5;124mno instances of \u001b[39m\u001b[38;5;124m'\u001b[39m\u001b[38;5;241m+\u001b[39m\u001b[38;5;28mstr\u001b[39m(cim_class\u001b[38;5;241m.\u001b[39m\u001b[38;5;18m__name__\u001b[39m)\u001b[38;5;241m+\u001b[39m\u001b[38;5;124m'\u001b[39m\u001b[38;5;124m found in catalog.\u001b[39m\u001b[38;5;124m'\u001b[39m)\n",
      "File \u001b[0;32m~/gridappsd-cim-lab/cimlab/loaders/blazegraph/blazegraph.py:106\u001b[0m, in \u001b[0;36mBlazegraphConnection.get_all_attributes\u001b[0;34m(self, feeder_mrid, typed_catalog, cim_class)\u001b[0m\n\u001b[1;32m    104\u001b[0m sparql_message \u001b[38;5;241m=\u001b[39m \u001b[38;5;28mself\u001b[39m\u001b[38;5;241m.\u001b[39mget_attributes_query(feeder_mrid, typed_catalog, cim_class)\n\u001b[1;32m    105\u001b[0m \u001b[38;5;66;03m#execute sparql query\u001b[39;00m\n\u001b[0;32m--> 106\u001b[0m query_output \u001b[38;5;241m=\u001b[39m \u001b[38;5;28;43mself\u001b[39;49m\u001b[38;5;241;43m.\u001b[39;49m\u001b[43mexecute\u001b[49m\u001b[43m(\u001b[49m\u001b[43msparql_message\u001b[49m\u001b[43m)\u001b[49m\n\u001b[1;32m    108\u001b[0m \u001b[38;5;28;01mfor\u001b[39;00m result \u001b[38;5;129;01min\u001b[39;00m query_output[\u001b[38;5;124m'\u001b[39m\u001b[38;5;124mresults\u001b[39m\u001b[38;5;124m'\u001b[39m][\u001b[38;5;124m'\u001b[39m\u001b[38;5;124mbindings\u001b[39m\u001b[38;5;124m'\u001b[39m]: \u001b[38;5;66;03m#iterate through rows of response\u001b[39;00m\n\u001b[1;32m    109\u001b[0m     attribute_list \u001b[38;5;241m=\u001b[39m result\u001b[38;5;241m.\u001b[39mkeys()\n",
      "File \u001b[0;32m~/gridappsd-cim-lab/cimlab/loaders/blazegraph/blazegraph.py:31\u001b[0m, in \u001b[0;36mBlazegraphConnection.execute\u001b[0;34m(self, query_message)\u001b[0m\n\u001b[1;32m     29\u001b[0m \u001b[38;5;28mself\u001b[39m\u001b[38;5;241m.\u001b[39msparql_obj\u001b[38;5;241m.\u001b[39msetQuery(query_message)\n\u001b[1;32m     30\u001b[0m \u001b[38;5;28mself\u001b[39m\u001b[38;5;241m.\u001b[39msparql_obj\u001b[38;5;241m.\u001b[39msetMethod(POST)\n\u001b[0;32m---> 31\u001b[0m query_output \u001b[38;5;241m=\u001b[39m \u001b[38;5;28;43mself\u001b[39;49m\u001b[38;5;241;43m.\u001b[39;49m\u001b[43msparql_obj\u001b[49m\u001b[38;5;241;43m.\u001b[39;49m\u001b[43mquery\u001b[49m\u001b[43m(\u001b[49m\u001b[43m)\u001b[49m\u001b[38;5;241m.\u001b[39mconvert()\n\u001b[1;32m     32\u001b[0m \u001b[38;5;28;01mreturn\u001b[39;00m query_output\n",
      "File \u001b[0;32m~/.local/lib/python3.10/site-packages/SPARQLWrapper/Wrapper.py:960\u001b[0m, in \u001b[0;36mSPARQLWrapper.query\u001b[0;34m(self)\u001b[0m\n\u001b[1;32m    942\u001b[0m \u001b[38;5;28;01mdef\u001b[39;00m \u001b[38;5;21mquery\u001b[39m(\u001b[38;5;28mself\u001b[39m) \u001b[38;5;241m-\u001b[39m\u001b[38;5;241m>\u001b[39m \u001b[38;5;124m\"\u001b[39m\u001b[38;5;124mQueryResult\u001b[39m\u001b[38;5;124m\"\u001b[39m:\n\u001b[1;32m    943\u001b[0m \u001b[38;5;250m    \u001b[39m\u001b[38;5;124;03m\"\"\"\u001b[39;00m\n\u001b[1;32m    944\u001b[0m \u001b[38;5;124;03m    Execute the query.\u001b[39;00m\n\u001b[1;32m    945\u001b[0m \u001b[38;5;124;03m    Exceptions can be raised if either the URI is wrong or the HTTP sends back an error (this is also the\u001b[39;00m\n\u001b[0;32m   (...)\u001b[0m\n\u001b[1;32m    958\u001b[0m \u001b[38;5;124;03m    :rtype: :class:`QueryResult` instance\u001b[39;00m\n\u001b[1;32m    959\u001b[0m \u001b[38;5;124;03m    \"\"\"\u001b[39;00m\n\u001b[0;32m--> 960\u001b[0m     \u001b[38;5;28;01mreturn\u001b[39;00m QueryResult(\u001b[38;5;28;43mself\u001b[39;49m\u001b[38;5;241;43m.\u001b[39;49m\u001b[43m_query\u001b[49m\u001b[43m(\u001b[49m\u001b[43m)\u001b[49m)\n",
      "File \u001b[0;32m~/.local/lib/python3.10/site-packages/SPARQLWrapper/Wrapper.py:930\u001b[0m, in \u001b[0;36mSPARQLWrapper._query\u001b[0;34m(self)\u001b[0m\n\u001b[1;32m    928\u001b[0m \u001b[38;5;28;01mexcept\u001b[39;00m urllib\u001b[38;5;241m.\u001b[39merror\u001b[38;5;241m.\u001b[39mHTTPError \u001b[38;5;28;01mas\u001b[39;00m e:\n\u001b[1;32m    929\u001b[0m     \u001b[38;5;28;01mif\u001b[39;00m e\u001b[38;5;241m.\u001b[39mcode \u001b[38;5;241m==\u001b[39m \u001b[38;5;241m400\u001b[39m:\n\u001b[0;32m--> 930\u001b[0m         \u001b[38;5;28;01mraise\u001b[39;00m QueryBadFormed(e\u001b[38;5;241m.\u001b[39mread())\n\u001b[1;32m    931\u001b[0m     \u001b[38;5;28;01melif\u001b[39;00m e\u001b[38;5;241m.\u001b[39mcode \u001b[38;5;241m==\u001b[39m \u001b[38;5;241m404\u001b[39m:\n\u001b[1;32m    932\u001b[0m         \u001b[38;5;28;01mraise\u001b[39;00m EndPointNotFound(e\u001b[38;5;241m.\u001b[39mread())\n",
      "\u001b[0;31mQueryBadFormed\u001b[0m: QueryBadFormed: A bad request has been sent to the endpoint: probably the SPARQL query is badly formed."
     ]
    }
   ],
   "source": [
    "network.get_all_attributes(cim.ACLineSegment)\n",
    "network.get_all_attributes(cim.ACLineSegmentPhase)\n",
    "network.get_all_attributes(cim.Terminal)\n",
    "network.get_all_attributes(cim.Analog)"
   ]
  },
  {
   "cell_type": "code",
   "execution_count": null,
   "id": "d4586579",
   "metadata": {},
   "outputs": [],
   "source": [
    "for line in network.typed_catalog[cim.ACLineSegment].values():\n",
    "    print('\\n line mrid: ',line.mRID)\n",
    "    print('line name:', line.name)\n",
    "    print('bus 1: ', line.Terminals[0].ConnectivityNode.name)\n",
    "    print('bus 2: ', line.Terminals[1].ConnectivityNode.name)\n",
    "\n",
    "    for line_phs in line.ACLineSegmentPhases:\n",
    "        print('phase:', line_phs.phase, ', sequence:', line_phs.sequenceNumber)\n",
    "\n",
    "    for meas in line.Measurements:\n",
    "        print('Measurement: ', meas.name,  ', type:', meas.measurementType, ', phases:', meas.phases)"
   ]
  },
  {
   "cell_type": "code",
   "execution_count": null,
   "id": "676716d7",
   "metadata": {},
   "outputs": [],
   "source": [
    "network.get_all_attributes(cim.ACLineSegment)\n"
   ]
  }
 ],
 "metadata": {
  "kernelspec": {
   "display_name": "Python 3 (ipykernel)",
   "language": "python",
   "name": "python3"
  },
  "language_info": {
   "codemirror_mode": {
    "name": "ipython",
    "version": 3
   },
   "file_extension": ".py",
   "mimetype": "text/x-python",
   "name": "python",
   "nbconvert_exporter": "python",
   "pygments_lexer": "ipython3",
   "version": "3.10.6"
  }
 },
 "nbformat": 4,
 "nbformat_minor": 5
}
