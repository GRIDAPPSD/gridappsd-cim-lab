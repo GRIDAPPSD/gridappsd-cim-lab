{
 "cells": [
  {
   "cell_type": "code",
   "execution_count": 1,
   "id": "cecd356e",
   "metadata": {},
   "outputs": [],
   "source": [
    "import importlib\n",
    "cim_profile = 'rc4_2021'\n",
    "cim = importlib.import_module('cimlab.data_profile.' + cim_profile)\n",
    "sparql = importlib.import_module('cimlab.loaders.sparql.' + cim_profile)"
   ]
  },
  {
   "cell_type": "code",
   "execution_count": 2,
   "id": "9517508c",
   "metadata": {},
   "outputs": [],
   "source": [
    "from cimlab.loaders import Parameter, ConnectionParameters\n",
    "from cimlab.loaders.blazegraph.blazegraph import BlazegraphConnection\n",
    "from cimlab.loaders.gridappsd import GridappsdConnection, get_topology_response\n",
    "from cimlab.models import DistributedModel\n",
    "# import cim.data_profile as cim\n",
    "import json\n"
   ]
  },
  {
   "cell_type": "code",
   "execution_count": 3,
   "id": "01e4cde4",
   "metadata": {},
   "outputs": [],
   "source": [
    "# # Blazegraph connection for running inside the container\n",
    "# params = ConnectionParameters([Parameter(key=\"url\", value=\"http://blazegraph:8080/bigdata/namespace/kb/sparql\")])\n",
    "# bg = BlazegraphConnection(params)"
   ]
  },
  {
   "cell_type": "code",
   "execution_count": 4,
   "id": "5417f812",
   "metadata": {},
   "outputs": [],
   "source": [
    "# Blazegraph connection for running outside the container\n",
    "params = ConnectionParameters([Parameter(key=\"url\", value=\"http://localhost:8889/bigdata/namespace/kb/sparql\")])\n",
    "bg = BlazegraphConnection(params, 'rc4_2021')\n"
   ]
  },
  {
   "cell_type": "code",
   "execution_count": 5,
   "id": "208e6f7d",
   "metadata": {},
   "outputs": [],
   "source": [
    "#feeder_mrid = \"_C1C3E687-6FFD-C753-582B-632A27E28507\"  # 123 bus\n",
    "feeder_mrid = \"_49AD8E07-3BF9-A4E2-CB8F-C3722F837B62\"  # 13 bus\n",
    "# feeder_mrid = \"_5B816B93-7A5F-B64C-8460-47C17D6E4B0F\" # 13 bus asets\n",
    "#feeder_mrid = \"_4F76A5F9-271D-9EB8-5E31-AA362D86F2C3\"  # 8500 node\n",
    "#feeder_mrid = \"_67AB291F-DCCD-31B7-B499-338206B9828F\" # J1\n",
    "#feeder_mrid = \"_9CE150A8-8CC5-A0F9-B67E-BBD8C79D3095\"  # R2 12.47 3\n",
    "#feeder_mrid = \"_EE71F6C9-56F0-4167-A14E-7F4C71F10EAA\" #9500 node"
   ]
  },
  {
   "cell_type": "code",
   "execution_count": 6,
   "id": "9cc6e914",
   "metadata": {},
   "outputs": [],
   "source": [
    "feeder = cim.Feeder(mRID=feeder_mrid)"
   ]
  },
  {
   "cell_type": "code",
   "execution_count": 7,
   "id": "ecd52872",
   "metadata": {},
   "outputs": [
    {
     "name": "stdout",
     "output_type": "stream",
     "text": [
      "/home/d3m614/.local/lib/python3.8/site-packages/ipykernel_launcher.py\n"
     ]
    }
   ],
   "source": [
    "# from gridappsd import GridAPPSD\n",
    "from topology_processor import DistributedTopology\n",
    "\n",
    "gapps = GridappsdConnection(feeder_mrid)\n",
    "Topology = DistributedTopology(gapps, feeder_mrid)\n",
    "topology_response = Topology.create_switch_areas(feeder_mrid)\n",
    "# topology_response = get_topology_response(feeder_mrid)\n",
    "topology_response = json.loads(topology_response)\n",
    "# with open('topo_message.json') as topo_file:\n",
    "#     topology_response = json.load(topo_file)\n"
   ]
  },
  {
   "cell_type": "code",
   "execution_count": 8,
   "id": "30c66763",
   "metadata": {},
   "outputs": [],
   "source": [
    "# topology_response = json.loads(topology_response)"
   ]
  },
  {
   "cell_type": "code",
   "execution_count": 9,
   "id": "428e3089",
   "metadata": {},
   "outputs": [],
   "source": [
    "network = DistributedModel(connection=bg, feeder=feeder, topology=topology_response['feeders'])"
   ]
  },
  {
   "cell_type": "code",
   "execution_count": 10,
   "id": "a132f2f4",
   "metadata": {},
   "outputs": [
    {
     "name": "stdout",
     "output_type": "stream",
     "text": [
      "\n",
      " line mrid:  _0BBD0EA3-F665-465B-86FD-FC8B8466AD53\n",
      "line name: 645646\n",
      "bus 1:  _8C58660F-C62C-4903-BE72-22F1255B1E62\n",
      "bus 2:  _0124E881-B82D-4206-BBDF-37D585159872\n",
      "phase  ['C'] :  _94FCAFFF-E5F7-4F97-B697-35C46656EDCA\n",
      "phase  ['B'] :  _CE2AFB05-A1B1-4082-B4EB-2AD8A1D3422D\n",
      "Measurement:  ACLineSegment_645646_Power _2d9ed148-d492-4e7d-b9af-81a407e74a59\n",
      "type: VA phases: ['C']\n",
      "Measurement:  ACLineSegment_645646_Power _4e30ae83-418c-4cfb-99eb-5572e00b4ec4\n",
      "type: VA phases: ['B']\n",
      "Measurement:  ACLineSegment_645646_Voltage _5f1dfa9f-e754-471d-9c74-c1a9441e95a3\n",
      "type: PNV phases: ['B']\n",
      "Measurement:  ACLineSegment_645646_Voltage _84f75532-a514-4355-bf0e-2f8d82c736ae\n",
      "type: PNV phases: ['C']\n",
      "\n",
      " line mrid:  _1C6781A2-5B9D-4525-8A9B-F9B32C4C4AC0\n",
      "line name: 632645\n",
      "bus 1:  _0124E881-B82D-4206-BBDF-37D585159872\n",
      "bus 2:  _6CB5E5CE-2CD0-40CC-A979-B4F9ED05E49B\n",
      "phase  ['C'] :  _19B6044B-6915-4245-9DD1-6AB0444D42A6\n",
      "phase  ['B'] :  _D9C9CEA6-B3F0-4E02-9911-3DFA192B4D01\n",
      "Measurement:  ACLineSegment_632645_Power _65599f7e-3e93-4456-a2b1-bba7a46337b6\n",
      "type: VA phases: ['B']\n",
      "Measurement:  ACLineSegment_632645_Power _6bb8ef03-ec84-421f-8d28-cd1a3813e614\n",
      "type: VA phases: ['C']\n",
      "Measurement:  ACLineSegment_632645_Voltage _98a81464-d7b6-4044-9b48-a92e179884dc\n",
      "type: PNV phases: ['C']\n",
      "Measurement:  ACLineSegment_632645_Voltage _d8ea43c7-2107-4975-9ddb-4279628daf18\n",
      "type: PNV phases: ['B']\n",
      "\n",
      " line mrid:  _A04CDFB1-E951-4FC4-8882-0323CD70AE3C\n",
      "line name: 650632\n",
      "bus 1:  _673E896A-DCBF-4E43-9924-BEB31C5B6005\n",
      "bus 2:  _6CB5E5CE-2CD0-40CC-A979-B4F9ED05E49B\n",
      "phase  ['A'] :  _2A5A1025-AD81-4BFA-A7F0-ED70F7F43DAA\n",
      "phase  ['B'] :  _2D60B241-DE87-48BD-A8D3-FE4B705B40ED\n",
      "phase  ['C'] :  _A66508A9-C9C1-4DB5-8FFD-F081E5E9E14D\n",
      "Measurement:  ACLineSegment_650632_Power _0a2f7676-f619-405b-bb80-8f51f4d7a25f\n",
      "type: VA phases: ['C']\n",
      "Measurement:  ACLineSegment_650632_Power _9f4bef6c-c68d-42a9-ade6-206a8b365ce9\n",
      "type: VA phases: ['B']\n",
      "Measurement:  ACLineSegment_650632_Power _c16593db-3c64-4504-9387-17f19f558549\n",
      "type: VA phases: ['A']\n",
      "Measurement:  ACLineSegment_650632_Voltage _5ad9e784-5b6c-4f2c-bc4d-1ccc31cfd96b\n",
      "type: PNV phases: ['B']\n",
      "Measurement:  ACLineSegment_650632_Voltage _8dc4079e-6bbb-491d-9f4c-0c240228b647\n",
      "type: PNV phases: ['A']\n",
      "Measurement:  ACLineSegment_650632_Voltage _fc4adc62-5608-467f-aab7-75893b574998\n",
      "type: PNV phases: ['C']\n",
      "\n",
      " line mrid:  _FBE26B35-13AB-457D-9795-DF58B28E309D\n",
      "line name: 632633\n",
      "bus 1:  _6CB5E5CE-2CD0-40CC-A979-B4F9ED05E49B\n",
      "bus 2:  _C6256170-E6ED-4F91-8EBD-748090C3FDD5\n",
      "phase  ['A'] :  _18F23724-C3EE-498E-96A7-98FE210A523C\n",
      "phase  ['B'] :  _30E5A294-2F25-480D-BDDA-777F59ED5AF3\n",
      "phase  ['C'] :  _5830B397-557C-41B5-A94D-95A3841505D0\n",
      "Measurement:  ACLineSegment_632633_Power _0cbdf98b-b5e4-4bc3-93d6-08db08947794\n",
      "type: VA phases: ['C']\n",
      "Measurement:  ACLineSegment_632633_Power _0f4457a6-a3cb-42b0-a06c-b31d5c7a17ff\n",
      "type: VA phases: ['A']\n",
      "Measurement:  ACLineSegment_632633_Power _bc165aa6-347d-4551-8abf-016044675a6f\n",
      "type: VA phases: ['B']\n",
      "Measurement:  ACLineSegment_632633_Voltage _8b6bd68f-c84d-45e1-91b9-b0406fbaa3b1\n",
      "type: PNV phases: ['C']\n",
      "Measurement:  ACLineSegment_632633_Voltage _d56a4982-0c80-45d0-8cb8-c24097138b63\n",
      "type: PNV phases: ['B']\n",
      "Measurement:  ACLineSegment_632633_Voltage _d638fbbc-9b85-416e-87b8-37c9785e1611\n",
      "type: PNV phases: ['A']\n"
     ]
    }
   ],
   "source": [
    "switch_area = network.switch_areas[0]\n",
    "\n",
    "# Get phase, bus info about ACLineSegments\n",
    "switch_area.get_all_attributes(cim.ACLineSegment)\n",
    "switch_area.get_all_attributes(cim.ACLineSegmentPhase)\n",
    "switch_area.get_all_attributes(cim.Terminal)\n",
    "switch_area.get_all_attributes(cim.Analog)\n",
    "\n",
    "\n",
    "line_ids = list(switch_area.typed_catalog[cim.ACLineSegment].keys())\n",
    "for line_id in line_ids:\n",
    "    print('\\n line mrid: ',line_id)\n",
    "    print('line name:', switch_area.typed_catalog[cim.ACLineSegment][line_id].name)\n",
    "    print('bus 1: ', switch_area.typed_catalog[cim.ACLineSegment][line_id].Terminals[0].ConnectivityNode.mRID)\n",
    "    print('bus 2: ', switch_area.typed_catalog[cim.ACLineSegment][line_id].Terminals[1].ConnectivityNode.mRID)\n",
    "    for line_phs in switch_area.typed_catalog[cim.ACLineSegment][line_id].ACLineSegmentPhases:\n",
    "        print('phase ', line_phs.phase, ': ', line_phs.mRID)\n",
    "    \n",
    "    for meas in switch_area.typed_catalog[cim.ACLineSegment][line_id].Measurements:\n",
    "        print('Measurement: ', meas.name, meas.mRID)\n",
    "        print('type:', meas.measurementType, 'phases:', meas.phases)"
   ]
  },
  {
   "cell_type": "code",
   "execution_count": 11,
   "id": "460bc381",
   "metadata": {},
   "outputs": [
    {
     "data": {
      "text/plain": [
       "'632633_Loc'"
      ]
     },
     "execution_count": 11,
     "metadata": {},
     "output_type": "execute_result"
    }
   ],
   "source": [
    "\n",
    "switch_area.typed_catalog[cim.ACLineSegment][line_id].ACLineSegmentPhases[1].Location.name"
   ]
  },
  {
   "cell_type": "code",
   "execution_count": 12,
   "id": "1e37d115",
   "metadata": {},
   "outputs": [
    {
     "name": "stdout",
     "output_type": "stream",
     "text": [
      "name: 646\n",
      "p =  230000 q =  132000\n",
      "phases:  ['B']\n",
      "Measurement:  EnergyConsumer_646 _7a436400-3a77-4eaf-bb04-ef7954fcbdd9\n",
      "type: PNV\n",
      "phases: ['B']\n",
      "Measurement:  EnergyConsumer_646 _e1b4fd36-01d0-4d7d-9223-2279911fe8c3\n",
      "type: VA\n",
      "phases: ['B']\n",
      "name: 645\n",
      "p =  170000 q =  125000\n",
      "phases:  ['B']\n",
      "Measurement:  EnergyConsumer_645 _c7c58261-4885-46ee-beb9-c94c6c29451f\n",
      "type: PNV\n",
      "phases: ['B']\n",
      "Measurement:  EnergyConsumer_645 _d23fd30b-e3f9-4a43-b3c4-2f2697dba851\n",
      "type: VA\n",
      "phases: ['B']\n"
     ]
    }
   ],
   "source": [
    "switch_area = network.switch_areas[0]\n",
    "\n",
    "switch_area.get_all_attributes(cim.EnergyConsumer)\n",
    "switch_area.get_all_attributes(cim.EnergyConsumerPhase)\n",
    "switch_area.get_all_attributes(cim.Analog)\n",
    "\n",
    "for load in switch_area.typed_catalog[cim.EnergyConsumer].values():\n",
    "    print('name:', load.name)\n",
    "    print('p = ', load.p, 'q = ', load.q)\n",
    "    \n",
    "    for load_phs in load.EnergyConsumerPhase:\n",
    "        print('phases: ', load_phs.phase)\n",
    "    \n",
    "    for analog in load.Measurements:\n",
    "        print('Measurement: ', analog.name, analog.mRID)\n",
    "        print('type:', analog.measurementType)\n",
    "        print('phases:', analog.phases)\n"
   ]
  },
  {
   "cell_type": "code",
   "execution_count": 13,
   "id": "4ad810ff",
   "metadata": {},
   "outputs": [
    {
     "ename": "SyntaxError",
     "evalue": "invalid syntax (1494146786.py, line 2)",
     "output_type": "error",
     "traceback": [
      "\u001b[0;36m  Cell \u001b[0;32mIn[13], line 2\u001b[0;36m\u001b[0m\n\u001b[0;31m    .Measurements[0].name\u001b[0m\n\u001b[0m    ^\u001b[0m\n\u001b[0;31mSyntaxError\u001b[0m\u001b[0;31m:\u001b[0m invalid syntax\n"
     ]
    }
   ],
   "source": [
    "switch_area.get_all_attributes(cim.Analog)\n",
    ".Measurements[0].name"
   ]
  },
  {
   "cell_type": "code",
   "execution_count": null,
   "id": "6ff4f097",
   "metadata": {},
   "outputs": [],
   "source": [
    "network.get_all_attributes(cim.TransformerTank)\n",
    "network.get_all_attributes(cim.TransformerTankEnd)\n",
    "network.get_all_attributes(cim.TransformerTankInfo)\n",
    "network.get_all_attributes(cim.TransformerEndInfo)\n",
    "network.get_all_attributes(cim.ShortCircuitTest)\n",
    "network.get_all_attributes(cim.NoLoadTest)\n",
    "network.get_all_attributes(cim.Terminal)"
   ]
  },
  {
   "cell_type": "code",
   "execution_count": null,
   "id": "e0175b43",
   "metadata": {},
   "outputs": [],
   "source": []
  },
  {
   "cell_type": "code",
   "execution_count": null,
   "id": "83e8f6cf",
   "metadata": {},
   "outputs": [],
   "source": [
    "network_area=switch_area\n",
    "network_area.get_all_attributes(cim.ACLineSegment)\n",
    "network_area.get_all_attributes(cim.ACLineSegmentPhase)\n",
    "network_area.get_all_attributes(cim.PerLengthPhaseImpedance)\n",
    "network_area.get_all_attributes(cim.PhaseImpedanceData)\n",
    "\n",
    "network_area.get_all_attributes(cim.WireSpacingInfo)\n",
    "network_area.get_all_attributes(cim.WirePosition)\n",
    "network_area.get_all_attributes(cim.OverheadWireInfo)\n",
    "network_area.get_all_attributes(cim.ConcentricNeutralCableInfo)\n",
    "network_area.get_all_attributes(cim.TapeShieldCableInfo)\n",
    "\n",
    "network_area.get_all_attributes(cim.Terminal) #bus info"
   ]
  },
  {
   "cell_type": "code",
   "execution_count": null,
   "id": "3545573d",
   "metadata": {},
   "outputs": [],
   "source": [
    "line_ids = list(network.typed_catalog[cim.ACLineSegment].keys())\n",
    "for line_id in line_ids:\n",
    "    print('line mrid: ',line_id)\n",
    "    print('line name:', network.typed_catalog[cim.ACLineSegment][line_id].name)\n",
    "    print('bus 1: ', network.typed_catalog[cim.ACLineSegment][line_id].Terminals[0].ConnectivityNode.mRID)\n",
    "    print('bus 2: ', network.typed_catalog[cim.ACLineSegment][line_id].Terminals[1].ConnectivityNode.mRID)\n",
    "    for line_phs in network.typed_catalog[cim.ACLineSegment][line_id].ACLineSegmentPhases:\n",
    "        print('phase ', line_phs.phase, ': ', line_phs.mRID)\n",
    "        if line_phs.WireInfo is not None:\n",
    "            print('gmr: ', line_phs.WireInfo.gmr)\n",
    "    if network.typed_catalog[cim.ACLineSegment][line_id].PerLengthImpedance is not None:\n",
    "        for impedance in network.typed_catalog[cim.ACLineSegment][line_id].PerLengthImpedance.PhaseImpedanceData:\n",
    "            pr int('row:', impedance.row, 'col:', impedance.column, 'r:', impedance.r, 'x:', impedance.x, 'b:', impedance.b)\n",
    "#     if network.typed_catalog[cim.ACLineSegment][line_id].WireSpacingInfo is not None:\n",
    "#         for wire_info in network.typed_catalog[cim.ACLineSegment][line_id].WireSpacingInfo.WireAssemblyInfo:\n",
    "#             print('row:', wire_info.)"
   ]
  },
  {
   "cell_type": "code",
   "execution_count": null,
   "id": "879c37b2",
   "metadata": {},
   "outputs": [],
   "source": [
    "print(switch_area.get_attributes_query(cim.ConcentricNeutralCableInfo))"
   ]
  },
  {
   "cell_type": "code",
   "execution_count": null,
   "id": "37cd84cb",
   "metadata": {},
   "outputs": [],
   "source": [
    "network.get_all_attributes(cim.Analog)\n",
    "network.get_all_attributes(cim.Discrete)"
   ]
  },
  {
   "cell_type": "code",
   "execution_count": null,
   "id": "60feb565",
   "metadata": {},
   "outputs": [],
   "source": [
    "for tank in network.typed_catalog[cim.TransformerTank].values():\n",
    "    print('\\n name:', tank.name)\n",
    "    for end in tank.TransformerTankEnds:\n",
    "        print('end number:', end.endNumber)\n",
    "        node = end.Terminal.ConnectivityNode\n",
    "        print('bus: ', node.name, node.mRID)\n",
    "    \n",
    "    for meas in tank.Measurements:\n",
    "        print('Measurement: ', meas.name, analog.mRID)\n",
    "        print('type:', meas.measurementType)\n",
    "        print('phases:', meas.phases)\n",
    "        \n",
    "    \n",
    "    for end_info in tank.TransformerTankInfo.TransformerEndInfos:\n",
    "        \n",
    "        print('end number', end_info.endNumber)\n",
    "        print('rated voltage:', end_info.ratedU)\n",
    "        print('resistance:', end_info.r)\n",
    "        for no_load_test in end_info.EnergisedEndNoLoadTests:\n",
    "            print('exciting current:', no_load_test.excitingCurrent)\n",
    "\n",
    "        for short_circuit_test in end_info.EnergisedEndShortCircuitTests:\n",
    "            print('energisedEndStep:', short_circuit_test.energisedEndStep)\n",
    "            print('groundedEndStep:', short_circuit_test.groundedEndStep)\n",
    "            print('leakageImpedance:', short_circuit_test.leakageImpedance)\n",
    "            \n",
    "        for short_circuit_test in end_info.GroundedEndShortCircuitTests:\n",
    "            print('energisedEndStep:', short_circuit_test.energisedEndStep)\n",
    "            print('groundedEndStep:', short_circuit_test.groundedEndStep)\n",
    "            print('leakageImpedance:', short_circuit_test.leakageImpedance)\n",
    "        "
   ]
  },
  {
   "cell_type": "code",
   "execution_count": null,
   "id": "4379c980",
   "metadata": {},
   "outputs": [],
   "source": [
    "end = network.typed_catalog[cim.TransformerTank]['_17A934C7-1510-481F-BAD7-189058957FF1'].TransformerTankEnds[0]\n",
    "end.Terminal\n",
    "print()"
   ]
  },
  {
   "cell_type": "code",
   "execution_count": null,
   "id": "9a269f74",
   "metadata": {},
   "outputs": [],
   "source": [
    "json.loads(network.__dumps__(cim.TransformerEndInfo))"
   ]
  },
  {
   "cell_type": "code",
   "execution_count": null,
   "id": "65a50de1",
   "metadata": {},
   "outputs": [],
   "source": [
    "print(network.get_attributes_query(cim.TransformerTankEnd))"
   ]
  },
  {
   "cell_type": "code",
   "execution_count": null,
   "id": "04171b5f",
   "metadata": {},
   "outputs": [],
   "source": [
    "secondary_area = network.switch_areas[3].secondary_areas[0]\n",
    "secondary_area.get_all_attributes(cim.PowerElectronicsConnection)\n",
    "secondary_area.get_all_attributes(cim.PowerElectronicsConnectionPhase)\n",
    "\n",
    "pec_ids = list(secondary_area.typed_catalog[cim.PowerElectronicsConnection])\n",
    "\n",
    "for pec in pec_ids:\n",
    "    print('p = ', secondary_area.typed_catalog[cim.PowerElectronicsConnection][pec].p)\n",
    "    print('q = ', secondary_area.typed_catalog[cim.PowerElectronicsConnection][pec].q)\n",
    "    for pec_phs in secondary_area.typed_catalog[cim.PowerElectronicsConnection][pec].PowerElectronicsConnectionPhases:\n",
    "        print('phase ', pec_phs.phase, ': ', pec_phs.mRID)"
   ]
  },
  {
   "cell_type": "code",
   "execution_count": null,
   "id": "b8e3640b",
   "metadata": {},
   "outputs": [],
   "source": [
    "network_area.typed_catalog[cim.ACLineSegment][line_id]"
   ]
  },
  {
   "cell_type": "code",
   "execution_count": null,
   "id": "ab64f8ab",
   "metadata": {},
   "outputs": [],
   "source": [
    "import sys\n",
    "path = sys.argv[0]\n",
    "if path != '/gridappsd/services/gridappsd-topology-processor':\n",
    "    print(8890)"
   ]
  },
  {
   "cell_type": "code",
   "execution_count": null,
   "id": "ae71bed7",
   "metadata": {},
   "outputs": [],
   "source": [
    "values = ['_0649C1EF-E39F-4B46-AD80-D3C180E4562E']\n",
    "message = bg.sparql.get_class_type_sparql(feeder_mrid, values)\n",
    "output = bg.execute(message)\n",
    "out = output['results']['bindings']\n",
    "if values and not out:\n",
    "    print('yes')"
   ]
  },
  {
   "cell_type": "code",
   "execution_count": null,
   "id": "b385d8d1",
   "metadata": {},
   "outputs": [],
   "source": [
    "list(network.typed_catalog[cim.ACLineSegment].keys())"
   ]
  },
  {
   "cell_type": "code",
   "execution_count": null,
   "id": "85d18b5c",
   "metadata": {},
   "outputs": [],
   "source": [
    "cim.PowerTransformerEnd()"
   ]
  },
  {
   "cell_type": "code",
   "execution_count": null,
   "id": "f6dcb88c",
   "metadata": {},
   "outputs": [],
   "source": [
    "sparql_message = eval(f\"self.sparql.{cim_class.__name__}SPARQL.get_all_attributes('{feeder_mrid}', '{typed_catalog}')\")"
   ]
  },
  {
   "cell_type": "code",
   "execution_count": null,
   "id": "60a81794",
   "metadata": {},
   "outputs": [],
   "source": [
    "sparql_func = getattr(sparql, f\"{cim_class.__name__}SPARQL\")\n",
    "sparql_message = sparql_func.get_all_attributes(feeder_mrid, network.typed_catalog)\n",
    "print(sparql_message)"
   ]
  },
  {
   "cell_type": "code",
   "execution_count": null,
   "id": "e34859e7",
   "metadata": {},
   "outputs": [],
   "source": [
    "json.loads(network.__dumps__(cim.PowerTransformerEnd))"
   ]
  },
  {
   "cell_type": "code",
   "execution_count": null,
   "id": "6906fe11",
   "metadata": {},
   "outputs": [],
   "source": [
    "import re\n",
    "cim_class = cim.ACLineSegmentPhase\n",
    "attribute = 'phase'\n",
    "attribute_type = cim_class.__dataclass_fields__[attribute].type\n",
    "# if attribute_type in cim.__all__:\n",
    "at_cls = re.match(r'Optional\\[(.*)]',attribute_type)\n",
    "attribute_class = at_cls.group(1)\n",
    "if attribute_class in cim.__all__:\n",
    "    print(attribute_class)"
   ]
  },
  {
   "cell_type": "code",
   "execution_count": null,
   "id": "099af1e8",
   "metadata": {},
   "outputs": [],
   "source": [
    "class_type = eval(f\"cim.{attribute_class}\")\n",
    "if type(class_type) is type:\n",
    "    print('yes')\n"
   ]
  },
  {
   "cell_type": "code",
   "execution_count": null,
   "id": "18e80168",
   "metadata": {},
   "outputs": [],
   "source": [
    "cim_class = cim.PowerTransformerEnd\n",
    "attribute = 'CoreAdmittance'\n",
    "attribute_type = cim_class.__dataclass_fields__[attribute].type\n",
    "# if attribute_type in cim.__a\n",
    "print(attribute_type)"
   ]
  },
  {
   "cell_type": "code",
   "execution_count": null,
   "id": "dba0a2ca",
   "metadata": {},
   "outputs": [],
   "source": [
    "print(network.get_attributes_query(cim.TransformerCoreAdmittance))"
   ]
  },
  {
   "cell_type": "code",
   "execution_count": null,
   "id": "3e9d3e94",
   "metadata": {},
   "outputs": [],
   "source": [
    "response['results']['bindings']"
   ]
  },
  {
   "cell_type": "code",
   "execution_count": null,
   "id": "5c583020",
   "metadata": {},
   "outputs": [],
   "source": [
    "network.get_all_attributes(cim.PowerTransformer)\n",
    "network.get_all_attributes(cim.PowerTransformerInfo)\n",
    "network.get_all_attributes(cim.PowerTransformerEnd)\n",
    "network.get_all_attributes(cim.TransformerMeshImpedance)\n",
    "network.get_all_attributes(cim.TransformerCoreAdmittance)\n",
    "network.get_all_attributes(cim.Terminal)\n",
    "\n",
    "for xfmr in network.typed_catalog[cim.PowerTransformer].values():\n",
    "    print('\\n name: ', xfmr.name, xfmr.mRID)\n",
    "    for end in xfmr.PowerTransformerEnd:\n",
    "        print('end number:', end.endNumber)\n",
    "        print('bus:', end.Terminal.ConnectivityNode.name)\n",
    "        print('connection:', end.connectionKind)\n",
    "        print('voltage:', end.ratedU)\n",
    "        for mesh_imp in end.ToMeshImpedance:\n",
    "            print('r:', mesh_imp.r)\n",
    "            print('x:', mesh_imp.x)\n",
    "        if end.CoreAdmittance is not None:\n",
    "            print('g:', end.CoreAdmittance.g)\n",
    "            print('b:', end.CoreAdmittance.b)\n",
    "            \n",
    "    for meas in xfmr.Measurements:\n",
    "        print('Measurement: ', meas.name, meas.mRID)\n",
    "        print('type:', meas.measurementType, 'phases:', meas.phases)\n",
    "        "
   ]
  },
  {
   "cell_type": "code",
   "execution_count": null,
   "id": "8790bc0a",
   "metadata": {},
   "outputs": [],
   "source": [
    "cim.SynchronousMachine()"
   ]
  }
 ],
 "metadata": {
  "kernelspec": {
   "display_name": "Python 3 (ipykernel)",
   "language": "python",
   "name": "python3"
  },
  "language_info": {
   "codemirror_mode": {
    "name": "ipython",
    "version": 3
   },
   "file_extension": ".py",
   "mimetype": "text/x-python",
   "name": "python",
   "nbconvert_exporter": "python",
   "pygments_lexer": "ipython3",
   "version": "3.8.0"
  }
 },
 "nbformat": 4,
 "nbformat_minor": 5
}
