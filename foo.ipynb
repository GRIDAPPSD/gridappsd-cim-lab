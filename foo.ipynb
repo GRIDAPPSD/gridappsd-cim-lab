{
 "cells": [
  {
   "cell_type": "code",
   "execution_count": null,
   "metadata": {
    "collapsed": true
   },
   "outputs": [],
   "source": [
    "\n",
    "from typing import Dict\n",
    "from gridappsd_cim import Terminal, Feeder\n",
    "from loaders import load_terminals_by_conducting_equipment\n",
    "\n",
    "\n",
    "class Topology:\n",
    "    def __init__(self):\n",
    "        self.terminals: Dict[str,Terminal]\n",
    "\n",
    "# Get you stuff from sparql query\n",
    "t = Terminal(connected=True, aliasName=\"mycrappyTerminal\",\n",
    "             mRID=\"bad omen\")\n",
    "\n",
    "topo = Topology()\n",
    "topo.terminals[t.mRID] = t\n",
    "\n",
    "\n",
    "\n",
    "feeder = Feeder(mRID=\"mrid\", NormalHeadTerminal=t)\n",
    "\n",
    "def get_feeder(mrid=\"ieee-13\") -> Feeder:\n",
    "    # Query things build network model\n",
    "    feeder = Feeder(mRID=\"mrid\", NormalHeadTerminal=t)\n",
    "\n",
    "    return feeder"
   ]
  }
 ],
 "metadata": {
  "kernelspec": {
   "display_name": "Python 3",
   "language": "python",
   "name": "python3"
  },
  "language_info": {
   "codemirror_mode": {
    "name": "ipython",
    "version": 2
   },
   "file_extension": ".py",
   "mimetype": "text/x-python",
   "name": "python",
   "nbconvert_exporter": "python",
   "pygments_lexer": "ipython2",
   "version": "2.7.6"
  }
 },
 "nbformat": 4,
 "nbformat_minor": 0
}