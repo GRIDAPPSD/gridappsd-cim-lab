{
 "cells": [
  {
   "cell_type": "code",
   "execution_count": 1,
   "id": "cecd356e",
   "metadata": {},
   "outputs": [],
   "source": [
    "import importlib\n",
    "cim_profile = 'rc4_2021'\n",
    "cim = importlib.import_module('cimlab.data_profile.' + cim_profile)\n"
   ]
  },
  {
   "cell_type": "code",
   "execution_count": 2,
   "id": "9517508c",
   "metadata": {},
   "outputs": [
    {
     "name": "stdout",
     "output_type": "stream",
     "text": [
      "['/home/d3m614/gridappsd-cim-profile', '/usr/lib/python38.zip', '/usr/lib/python3.8', '/usr/lib/python3.8/lib-dynload', '', '/home/d3m614/.local/lib/python3.8/site-packages', '/home/d3m614/gridappsd-python', '/home/d3m614/CIMHub/src_python', '/home/d3m614/gridappsd-cim-profile', '/home/d3m614/topology-processor', '/usr/local/lib/python3.8/dist-packages', '/usr/lib/python3/dist-packages']\n"
     ]
    }
   ],
   "source": [
    "from cimlab.loaders import Parameter, ConnectionParameters\n",
    "from cimlab.loaders.blazegraph.blazegraph import BlazegraphConnection\n",
    "from cimlab.loaders.gridappsd import GridappsdConnection, get_topology_response\n",
    "from cimlab.models.distributed_model import DistributedModel\n",
    "# import cim.data_profile as cim\n",
    "import json\n"
   ]
  },
  {
   "cell_type": "code",
   "execution_count": 3,
   "id": "01e4cde4",
   "metadata": {},
   "outputs": [],
   "source": [
    "# # Blazegraph connection for running inside the container\n",
    "# params = ConnectionParameters([Parameter(key=\"url\", value=\"http://blazegraph:8080/bigdata/namespace/kb/sparql\")])\n",
    "# bg = BlazegraphConnection(params)"
   ]
  },
  {
   "cell_type": "code",
   "execution_count": 4,
   "id": "5417f812",
   "metadata": {},
   "outputs": [],
   "source": [
    "# Blazegraph connection for running outside the container\n",
    "params = ConnectionParameters([Parameter(key=\"url\", value=\"http://localhost:8889/bigdata/namespace/kb/sparql\")])\n",
    "bg = BlazegraphConnection(params, 'rc4_2021')"
   ]
  },
  {
   "cell_type": "code",
   "execution_count": 5,
   "id": "208e6f7d",
   "metadata": {},
   "outputs": [],
   "source": [
    "#feeder_mrid = \"_C1C3E687-6FFD-C753-582B-632A27E28507\"  # 123 bus\n",
    "feeder_mrid = \"_49AD8E07-3BF9-A4E2-CB8F-C3722F837B62\"  # 13 bus\n",
    "# feeder_mrid = \"_5B816B93-7A5F-B64C-8460-47C17D6E4B0F\" # 13 bus asets\n",
    "#feeder_mrid = \"_4F76A5F9-271D-9EB8-5E31-AA362D86F2C3\"  # 8500 node\n",
    "#feeder_mrid = \"_67AB291F-DCCD-31B7-B499-338206B9828F\" # J1\n",
    "#feeder_mrid = \"_9CE150A8-8CC5-A0F9-B67E-BBD8C79D3095\"  # R2 12.47 3\n",
    "#feeder_mrid = \"_EE71F6C9-56F0-4167-A14E-7F4C71F10EAA\" #9500 node"
   ]
  },
  {
   "cell_type": "code",
   "execution_count": 6,
   "id": "9cc6e914",
   "metadata": {},
   "outputs": [],
   "source": [
    "feeder = cim.Feeder(mRID=feeder_mrid)"
   ]
  },
  {
   "cell_type": "code",
   "execution_count": 7,
   "id": "ecd52872",
   "metadata": {},
   "outputs": [
    {
     "name": "stdout",
     "output_type": "stream",
     "text": [
      "/home/d3m614/.local/lib/python3.8/site-packages/ipykernel_launcher.py\n"
     ]
    }
   ],
   "source": [
    "# from gridappsd import GridAPPSD\n",
    "from topology_processor import DistributedTopology\n",
    "\n",
    "gapps = GridappsdConnection(feeder_mrid)\n",
    "Topology = DistributedTopology(gapps, feeder_mrid)\n",
    "topology_response = Topology.create_switch_areas(feeder_mrid)\n",
    "# topology_response = get_topology_response(feeder_mrid)\n",
    "topology_response = json.loads(topology_response)\n",
    "# with open('topo_message.json') as topo_file:\n",
    "#     topology_response = json.load(topo_file)\n"
   ]
  },
  {
   "cell_type": "code",
   "execution_count": 8,
   "id": "30c66763",
   "metadata": {},
   "outputs": [],
   "source": [
    "# topology_response = json.loads(topology_response)"
   ]
  },
  {
   "cell_type": "code",
   "execution_count": 9,
   "id": "428e3089",
   "metadata": {},
   "outputs": [],
   "source": [
    "network = DistributedModel(connection=bg, feeder=feeder, topology=topology_response['feeders'])"
   ]
  },
  {
   "cell_type": "code",
   "execution_count": 10,
   "id": "a132f2f4",
   "metadata": {},
   "outputs": [
    {
     "ename": "SyntaxError",
     "evalue": "invalid syntax (<string>, line 1)",
     "output_type": "error",
     "traceback": [
      "Traceback \u001b[0;36m(most recent call last)\u001b[0m:\n",
      "\u001b[0m  File \u001b[1;32m~/.local/lib/python3.8/site-packages/IPython/core/interactiveshell.py:3442\u001b[0m in \u001b[1;35mrun_code\u001b[0m\n    exec(code_obj, self.user_global_ns, self.user_ns)\u001b[0m\n",
      "\u001b[0m  Cell \u001b[1;32mIn[10], line 4\u001b[0m\n    switch_area.get_all_attributes(cim.ACLineSegment)\u001b[0m\n",
      "\u001b[0m  File \u001b[1;32m~/gridappsd-cim-profile/cimlab/models/switch_area.py:57\u001b[0m in \u001b[1;35mget_all_attributes\u001b[0m\n    self.connection.get_all_attributes(self.feeder_mrid, self.typed_catalog, cim_class)\u001b[0m\n",
      "\u001b[0m  File \u001b[1;32m~/gridappsd-cim-profile/cimlab/loaders/blazegraph/blazegraph.py:74\u001b[0m in \u001b[1;35mget_all_attributes\u001b[0m\n    sparql_message = self.get_attributes_query(feeder_mrid, typed_catalog, cim_class)\u001b[0m\n",
      "\u001b[0;36m  File \u001b[0;32m~/gridappsd-cim-profile/cimlab/loaders/blazegraph/blazegraph.py:121\u001b[0;36m in \u001b[0;35mget_attributes_query\u001b[0;36m\n\u001b[0;31m    sparql_message = eval(f\"self.sparql.{cim_class.__name__}SPARQL.get_all_attributes('{feeder_mrid}', '{typed_catalog}')\")\u001b[0;36m\n",
      "\u001b[0;36m  File \u001b[0;32m<string>:1\u001b[0;36m\u001b[0m\n\u001b[0;31m    self.sparql.ACLineSegmentSPARQL.get_all_attributes('_49AD8E07-3BF9-A4E2-CB8F-C3722F837B62', '{<class 'cimlab.data_profile.rc4_2021.gridappsd_cim_profile_rc4_2021.EnergyConsumer'>: {'_0BC9183A-9067-4E06-AA5B-48DC2AB30C80': EnergyConsumer(mRID='_0BC9183A-9067-4E06-AA5B-48DC2AB30C80', aliasName=None, description=None, name='646', Names=[], AssetDatasheet=None, Assets=[], ConfigurationEvent=[], Controls=[], Location=None, Measurements=[], OperatingShare=[], PSRType=None, ReportingGroup=[], aggregate=None, inService=None, networkAnalysisEnabled=None, normallyInService=None, AdditionalEquipmentContainer=[], EquipmentContainer=None, Faults=[], OperationalLimitSet=[], UsagePoints=None, BaseVoltage=None, SvStatus=[], Terminals=[], customerCount=None, grounded=None, p=None, phaseConnection=None, q=None, EnergyConsumerPhase=[], House=None, LoadResponse=None, PowerCutZone=None), '_47E52220-4596-4AF0-9724-0167B72A4DB8': EnergyConsumer(mRID='_47E52220-4596-4AF0-9724-0167B72A4DB8', aliasName=None, description=None, name='645', Names=[], AssetDatasheet=None, Assets=[], ConfigurationEvent=[], Controls=[], Location=None, Measurements=[], OperatingShare=[], PSRType=None, ReportingGroup=[], aggregate=None, inService=None, networkAnalysisEnabled=None, normallyInService=None, AdditionalEquipmentContainer=[], EquipmentContainer=None, Faults=[], OperationalLimitSet=[], UsagePoints=None, BaseVoltage=None, SvStatus=[], Terminals=[], customerCount=None, grounded=None, p=None, phaseConnection=None, q=None, EnergyConsumerPhase=[], House=None, LoadResponse=None, PowerCutZone=None)}, <class 'cimlab.data_profile.rc4_2021.gridappsd_cim_profile_rc4_2021.PowerTransformer'>: {'_67B57539-590B-4158-9CBB-9DBA2FE6C1F0': PowerTransformer(mRID='_67B57539-590B-4158-9CBB-9DBA2FE6C1F0', aliasName=None, description=None, name='Reg', Names=[], AssetDatasheet=None, Assets=[], ConfigurationEvent=[], Controls=[], Location=None, Measurements=[], OperatingShare=[], PSRType=None, ReportingGroup=[], aggregate=None, inService=None, networkAnalysisEnabled=None, normallyInService=None, AdditionalEquipmentContainer=[], EquipmentContainer=None, Faults=[], OperationalLimitSet=[], UsagePoints=None, BaseVoltage=None, SvStatus=[], Terminals=[], vectorGroup=None, PowerTransformerEnd=[], TransformerTanks=[])}, <class 'cimlab.data_profile.rc4_2021.gridappsd_cim_profile_rc4_2021.ACLineSegment'>: {'_0BBD0EA3-F665-465B-86FD-FC8B8466AD53': ACLineSegment(mRID='_0BBD0EA3-F665-465B-86FD-FC8B8466AD53', aliasName=None, description=None, name='645646', Names=[], AssetDatasheet=None, Assets=[], ConfigurationEvent=[], Controls=[], Location=None, Measurements=[], OperatingShare=[], PSRType=None, ReportingGroup=[], aggregate=None, inService=None, networkAnalysisEnabled=None, normallyInService=None, AdditionalEquipmentContainer=[], EquipmentContainer=None, Faults=[], OperationalLimitSet=[], UsagePoints=None, BaseVoltage=None, SvStatus=[], Terminals=[], length=None, b0ch=None, bch=None, g0ch=None, gch=None, r=None, r0=None, shortCircuitEndTemperature=None, x=None, x0=None, ACLineSegmentPhases=[], Clamp=[], Cut=[], LineFaults=[], ParallelLineSegment=None, PerLengthImpedance=None, WireSpacingInfo=None), '_1C6781A2-5B9D-4525-8A9B-F9B32C4C4AC0': ACLineSegment(mRID='_1C6781A2-5B9D-4525-8A9B-F9B32C4C4AC0', aliasName=None, description=None, name='632645', Names=[], AssetDatasheet=None, Assets=[], ConfigurationEvent=[], Controls=[], Location=None, Measurements=[], OperatingShare=[], PSRType=None, ReportingGroup=[], aggregate=None, inService=None, networkAnalysisEnabled=None, normallyInService=None, AdditionalEquipmentContainer=[], EquipmentContainer=None, Faults=[], OperationalLimitSet=[], UsagePoints=None, BaseVoltage=None, SvStatus=[], Terminals=[], length=None, b0ch=None, bch=None, g0ch=None, gch=None, r=None, r0=None, shortCircuitEndTemperature=None, x=None, x0=None, ACLineSegmentPhases=[], Clamp=[], Cut=[], LineFaults=[], ParallelLineSegment=None, PerLengthImpedance=None, WireSpacingInfo=None), '_A04CDFB1-E951-4FC4-8882-0323CD70AE3C': ACLineSegment(mRID='_A04CDFB1-E951-4FC4-8882-0323CD70AE3C', aliasName=None, description=None, name='650632', Names=[], AssetDatasheet=None, Assets=[], ConfigurationEvent=[], Controls=[], Location=None, Measurements=[], OperatingShare=[], PSRType=None, ReportingGroup=[], aggregate=None, inService=None, networkAnalysisEnabled=None, normallyInService=None, AdditionalEquipmentContainer=[], EquipmentContainer=None, Faults=[], OperationalLimitSet=[], UsagePoints=None, BaseVoltage=None, SvStatus=[], Terminals=[], length=None, b0ch=None, bch=None, g0ch=None, gch=None, r=None, r0=None, shortCircuitEndTemperature=None, x=None, x0=None, ACLineSegmentPhases=[], Clamp=[], Cut=[], LineFaults=[], ParallelLineSegment=None, PerLengthImpedance=None, WireSpacingInfo=None), '_FBE26B35-13AB-457D-9795-DF58B28E309D': ACLineSegment(mRID='_FBE26B35-13AB-457D-9795-DF58B28E309D', aliasName=None, description=None, name='632633', Names=[], AssetDatasheet=None, Assets=[], ConfigurationEvent=[], Controls=[], Location=None, Measurements=[], OperatingShare=[], PSRType=None, ReportingGroup=[], aggregate=None, inService=None, networkAnalysisEnabled=None, normallyInService=None, AdditionalEquipmentContainer=[], EquipmentContainer=None, Faults=[], OperationalLimitSet=[], UsagePoints=None, BaseVoltage=None, SvStatus=[], Terminals=[], length=None, b0ch=None, bch=None, g0ch=None, gch=None, r=None, r0=None, shortCircuitEndTemperature=None, x=None, x0=None, ACLineSegmentPhases=[], Clamp=[], Cut=[], LineFaults=[], ParallelLineSegment=None, PerLengthImpedance=None, WireSpacingInfo=None)}, <class 'cimlab.data_profile.rc4_2021.gridappsd_cim_profile_rc4_2021.TransformerTank'>: {'_44FC5A86-A099-45B8-B847-F685C5027AFB': TransformerTank(mRID='_44FC5A86-A099-45B8-B847-F685C5027AFB', aliasName=None, description=None, name='reg2', Names=[], AssetDatasheet=None, Assets=[], ConfigurationEvent=[], Controls=[], Location=None, Measurements=[], OperatingShare=[], PSRType=None, ReportingGroup=[], aggregate=None, inService=None, networkAnalysisEnabled=None, normallyInService=None, AdditionalEquipmentContainer=[], EquipmentContainer=None, Faults=[], OperationalLimitSet=[], UsagePoints=None, PowerTransformer=None, TransformerTankEnds=[]), '_B6363F07-B1BC-420B-AA4C-A34BB8F05827': TransformerTank(mRID='_B6363F07-B1BC-420B-AA4C-A34BB8F05827', aliasName=None, description=None, name='reg1', Names=[], AssetDatasheet=None, Assets=[], ConfigurationEvent=[], Controls=[], Location=None, Measurements=[], OperatingShare=[], PSRType=None, ReportingGroup=[], aggregate=None, inService=None, networkAnalysisEnabled=None, normallyInService=None, AdditionalEquipmentContainer=[], EquipmentContainer=None, Faults=[], OperationalLimitSet=[], UsagePoints=None, PowerTransformer=None, TransformerTankEnds=[]), '_E2E0FC64-8D45-4C55-BDB9-EAB827A46FBC': TransformerTank(mRID='_E2E0FC64-8D45-4C55-BDB9-EAB827A46FBC', aliasName=None, description=None, name='reg3', Names=[], AssetDatasheet=None, Assets=[], ConfigurationEvent=[], Controls=[], Location=None, Measurements=[], OperatingShare=[], PSRType=None, ReportingGroup=[], aggregate=None, inService=None, networkAnalysisEnabled=None, normallyInService=None, AdditionalEquipmentContainer=[], EquipmentContainer=None, Faults=[], OperationalLimitSet=[], UsagePoints=None, PowerTransformer=None, TransformerTankEnds=[])}, <class 'cimlab.data_profile.rc4_2021.gridappsd_cim_profile_rc4_2021.Analog'>: {'_0a2f7676-f619-405b-bb80-8f51f4d7a25f': Analog(mRID='_0a2f7676-f619-405b-bb80-8f51f4d7a25f', aliasName=None, description=None, name='ACLineSegment_650632_Power', Names=[], measurementType=None, phases=None, Asset=None, Locations=[], PowerSystemResource=None, Procedures=[], Terminal=None, maxValue=None, minValue=None, normalValue=None, positiveFlowIn=None, AnalogValues=[], LimitSets=[]), '_0cbdf98b-b5e4-4bc3-93d6-08db08947794': Analog(mRID='_0cbdf98b-b5e4-4bc3-93d6-08db08947794', aliasName=None, description=None, name='ACLineSegment_632633_Power', Names=[], measurementType=None, phases=None, Asset=None, Locations=[], PowerSystemResource=None, Procedures=[], Terminal=None, maxValue=None, minValue=None, normalValue=None, positiveFlowIn=None, AnalogValues=[], LimitSets=[]), '_0f4457a6-a3cb-42b0-a06c-b31d5c7a17ff': Analog(mRID='_0f4457a6-a3cb-42b0-a06c-b31d5c7a17ff', aliasName=None, description=None, name='ACLineSegment_632633_Power', Names=[], measurementType=None, phases=None, Asset=None, Locations=[], PowerSystemResource=None, Procedures=[], Terminal=None, maxValue=None, minValue=None, normalValue=None, positiveFlowIn=None, AnalogValues=[], LimitSets=[]), '_2d9ed148-d492-4e7d-b9af-81a407e74a59': Analog(mRID='_2d9ed148-d492-4e7d-b9af-81a407e74a59', aliasName=None, description=None, name='ACLineSegment_645646_Power', Names=[], measurementType=None, phases=None, Asset=None, Locations=[], PowerSystemResource=None, Procedures=[], Terminal=None, maxValue=None, minValue=None, normalValue=None, positiveFlowIn=None, AnalogValues=[], LimitSets=[]), '_4e30ae83-418c-4cfb-99eb-5572e00b4ec4': Analog(mRID='_4e30ae83-418c-4cfb-99eb-5572e00b4ec4', aliasName=None, description=None, name='ACLineSegment_645646_Power', Names=[], measurementType=None, phases=None, Asset=None, Locations=[], PowerSystemResource=None, Procedures=[], Terminal=None, maxValue=None, minValue=None, normalValue=None, positiveFlowIn=None, AnalogValues=[], LimitSets=[]), '_65599f7e-3e93-4456-a2b1-bba7a46337b6': Analog(mRID='_65599f7e-3e93-4456-a2b1-bba7a46337b6', aliasName=None, description=None, name='ACLineSegment_632645_Power', Names=[], measurementType=None, phases=None, Asset=None, Locations=[], PowerSystemResource=None, Procedures=[], Terminal=None, maxValue=None, minValue=None, normalValue=None, positiveFlowIn=None, AnalogValues=[], LimitSets=[]), '_6bb8ef03-ec84-421f-8d28-cd1a3813e614': Analog(mRID='_6bb8ef03-ec84-421f-8d28-cd1a3813e614', aliasName=None, description=None, name='ACLineSegment_632645_Power', Names=[], measurementType=None, phases=None, Asset=None, Locations=[], PowerSystemResource=None, Procedures=[], Terminal=None, maxValue=None, minValue=None, normalValue=None, positiveFlowIn=None, AnalogValues=[], LimitSets=[]), '_9f4bef6c-c68d-42a9-ade6-206a8b365ce9': Analog(mRID='_9f4bef6c-c68d-42a9-ade6-206a8b365ce9', aliasName=None, description=None, name='ACLineSegment_650632_Power', Names=[], measurementType=None, phases=None, Asset=None, Locations=[], PowerSystemResource=None, Procedures=[], Terminal=None, maxValue=None, minValue=None, normalValue=None, positiveFlowIn=None, AnalogValues=[], LimitSets=[]), '_bc165aa6-347d-4551-8abf-016044675a6f': Analog(mRID='_bc165aa6-347d-4551-8abf-016044675a6f', aliasName=None, description=None, name='ACLineSegment_632633_Power', Names=[], measurementType=None, phases=None, Asset=None, Locations=[], PowerSystemResource=None, Procedures=[], Terminal=None, maxValue=None, minValue=None, normalValue=None, positiveFlowIn=None, AnalogValues=[], LimitSets=[]), '_c16593db-3c64-4504-9387-17f19f558549': Analog(mRID='_c16593db-3c64-4504-9387-17f19f558549', aliasName=None, description=None, name='ACLineSegment_650632_Power', Names=[], measurementType=None, phases=None, Asset=None, Locations=[], PowerSystemResource=None, Procedures=[], Terminal=None, maxValue=None, minValue=None, normalValue=None, positiveFlowIn=None, AnalogValues=[], LimitSets=[]), '_7a436400-3a77-4eaf-bb04-ef7954fcbdd9': Analog(mRID='_7a436400-3a77-4eaf-bb04-ef7954fcbdd9', aliasName=None, description=None, name='EnergyConsumer_646', Names=[], measurementType=None, phases=None, Asset=None, Locations=[], PowerSystemResource=None, Procedures=[], Terminal=None, maxValue=None, minValue=None, normalValue=None, positiveFlowIn=None, AnalogValues=[], LimitSets=[]), '_c7c58261-4885-46ee-beb9-c94c6c29451f': Analog(mRID='_c7c58261-4885-46ee-beb9-c94c6c29451f', aliasName=None, description=None, name='EnergyConsumer_645', Names=[], measurementType=None, phases=None, Asset=None, Locations=[], PowerSystemResource=None, Procedures=[], Terminal=None, maxValue=None, minValue=None, normalValue=None, positiveFlowIn=None, AnalogValues=[], LimitSets=[]), '_d23fd30b-e3f9-4a43-b3c4-2f2697dba851': Analog(mRID='_d23fd30b-e3f9-4a43-b3c4-2f2697dba851', aliasName=None, description=None, name='EnergyConsumer_645', Names=[], measurementType=None, phases=None, Asset=None, Locations=[], PowerSystemResource=None, Procedures=[], Terminal=None, maxValue=None, minValue=None, normalValue=None, positiveFlowIn=None, AnalogValues=[], LimitSets=[]), '_e1b4fd36-01d0-4d7d-9223-2279911fe8c3': Analog(mRID='_e1b4fd36-01d0-4d7d-9223-2279911fe8c3', aliasName=None, description=None, name='EnergyConsumer_646', Names=[], measurementType=None, phases=None, Asset=None, Locations=[], PowerSystemResource=None, Procedures=[], Terminal=None, maxValue=None, minValue=None, normalValue=None, positiveFlowIn=None, AnalogValues=[], LimitSets=[]), '_27897da2-d7e1-438c-a6e4-4b3cfe8e79fa': Analog(mRID='_27897da2-d7e1-438c-a6e4-4b3cfe8e79fa', aliasName=None, description=None, name='Recloser_rec1_Voltage', Names=[], measurementType=None, phases=None, Asset=None, Locations=[], PowerSystemResource=None, Procedures=[], Terminal=None, maxValue=None, minValue=None, normalValue=None, positiveFlowIn=None, AnalogValues=[], LimitSets=[]), '_5ad9e784-5b6c-4f2c-bc4d-1ccc31cfd96b': Analog(mRID='_5ad9e784-5b6c-4f2c-bc4d-1ccc31cfd96b', aliasName=None, description=None, name='ACLineSegment_650632_Voltage', Names=[], measurementType=None, phases=None, Asset=None, Locations=[], PowerSystemResource=None, Procedures=[], Terminal=None, maxValue=None, minValue=None, normalValue=None, positiveFlowIn=None, AnalogValues=[], LimitSets=[]), '_5f1dfa9f-e754-471d-9c74-c1a9441e95a3': Analog(mRID='_5f1dfa9f-e754-471d-9c74-c1a9441e95a3', aliasName=None, description=None, name='ACLineSegment_645646_Voltage', Names=[], measurementType=None, phases=None, Asset=None, Locations=[], PowerSystemResource=None, Procedures=[], Terminal=None, maxValue=None, minValue=None, normalValue=None, positiveFlowIn=None, AnalogValues=[], LimitSets=[]), '_7c6f94c1-1419-4582-ab2d-a0b11772c26b': Analog(mRID='_7c6f94c1-1419-4582-ab2d-a0b11772c26b', aliasName=None, description=None, name='Breaker_brkr1_Voltage', Names=[], measurementType=None, phases=None, Asset=None, Locations=[], PowerSystemResource=None, Procedures=[], Terminal=None, maxValue=None, minValue=None, normalValue=None, positiveFlowIn=None, AnalogValues=[], LimitSets=[]), '_84f75532-a514-4355-bf0e-2f8d82c736ae': Analog(mRID='_84f75532-a514-4355-bf0e-2f8d82c736ae', aliasName=None, description=None, name='ACLineSegment_645646_Voltage', Names=[], measurementType=None, phases=None, Asset=None, Locations=[], PowerSystemResource=None, Procedures=[], Terminal=None, maxValue=None, minValue=None, normalValue=None, positiveFlowIn=None, AnalogValues=[], LimitSets=[]), '_8b6bd68f-c84d-45e1-91b9-b0406fbaa3b1': Analog(mRID='_8b6bd68f-c84d-45e1-91b9-b0406fbaa3b1', aliasName=None, description=None, name='ACLineSegment_632633_Voltage', Names=[], measurementType=None, phases=None, Asset=None, Locations=[], PowerSystemResource=None, Procedures=[], Terminal=None, maxValue=None, minValue=None, normalValue=None, positiveFlowIn=None, AnalogValues=[], LimitSets=[]), '_8dc4079e-6bbb-491d-9f4c-0c240228b647': Analog(mRID='_8dc4079e-6bbb-491d-9f4c-0c240228b647', aliasName=None, description=None, name='ACLineSegment_650632_Voltage', Names=[], measurementType=None, phases=None, Asset=None, Locations=[], PowerSystemResource=None, Procedures=[], Terminal=None, maxValue=None, minValue=None, normalValue=None, positiveFlowIn=None, AnalogValues=[], LimitSets=[]), '_98a81464-d7b6-4044-9b48-a92e179884dc': Analog(mRID='_98a81464-d7b6-4044-9b48-a92e179884dc', aliasName=None, description=None, name='ACLineSegment_632645_Voltage', Names=[], measurementType=None, phases=None, Asset=None, Locations=[], PowerSystemResource=None, Procedures=[], Terminal=None, maxValue=None, minValue=None, normalValue=None, positiveFlowIn=None, AnalogValues=[], LimitSets=[]), '_b393e719-0981-4498-9d96-07f1be7de009': Analog(mRID='_b393e719-0981-4498-9d96-07f1be7de009', aliasName=None, description=None, name='Breaker_brkr1_Voltage', Names=[], measurementType=None, phases=None, Asset=None, Locations=[], PowerSystemResource=None, Procedures=[], Terminal=None, maxValue=None, minValue=None, normalValue=None, positiveFlowIn=None, AnalogValues=[], LimitSets=[]), '_d56a4982-0c80-45d0-8cb8-c24097138b63': Analog(mRID='_d56a4982-0c80-45d0-8cb8-c24097138b63', aliasName=None, description=None, name='ACLineSegment_632633_Voltage', Names=[], measurementType=None, phases=None, Asset=None, Locations=[], PowerSystemResource=None, Procedures=[], Terminal=None, maxValue=None, minValue=None, normalValue=None, positiveFlowIn=None, AnalogValues=[], LimitSets=[]), '_d638fbbc-9b85-416e-87b8-37c9785e1611': Analog(mRID='_d638fbbc-9b85-416e-87b8-37c9785e1611', aliasName=None, description=None, name='ACLineSegment_632633_Voltage', Names=[], measurementType=None, phases=None, Asset=None, Locations=[], PowerSystemResource=None, Procedures=[], Terminal=None, maxValue=None, minValue=None, normalValue=None, positiveFlowIn=None, AnalogValues=[], LimitSets=[]), '_d8ea43c7-2107-4975-9ddb-4279628daf18': Analog(mRID='_d8ea43c7-2107-4975-9ddb-4279628daf18', aliasName=None, description=None, name='ACLineSegment_632645_Voltage', Names=[], measurementType=None, phases=None, Asset=None, Locations=[], PowerSystemResource=None, Procedures=[], Terminal=None, maxValue=None, minValue=None, normalValue=None, positiveFlowIn=None, AnalogValues=[], LimitSets=[]), '_d92644c9-5bd2-4312-8e31-3bec6510e646': Analog(mRID='_d92644c9-5bd2-4312-8e31-3bec6510e646', aliasName=None, description=None, name='Recloser_rec1_Voltage', Names=[], measurementType=None, phases=None, Asset=None, Locations=[], PowerSystemResource=None, Procedures=[], Terminal=None, maxValue=None, minValue=None, normalValue=None, positiveFlowIn=None, AnalogValues=[], LimitSets=[]), '_dad6dd20-9bfc-4bd9-b76e-2e0fd3b0d5ba': Analog(mRID='_dad6dd20-9bfc-4bd9-b76e-2e0fd3b0d5ba', aliasName=None, description=None, name='Recloser_rec1_Voltage', Names=[], measurementType=None, phases=None, Asset=None, Locations=[], PowerSystemResource=None, Procedures=[], Terminal=None, maxValue=None, minValue=None, normalValue=None, positiveFlowIn=None, AnalogValues=[], LimitSets=[]), '_f11a9ad9-5b68-483b-b52f-dd4af07bb77d': Analog(mRID='_f11a9ad9-5b68-483b-b52f-dd4af07bb77d', aliasName=None, description=None, name='Breaker_brkr1_Voltage', Names=[], measurementType=None, phases=None, Asset=None, Locations=[], PowerSystemResource=None, Procedures=[], Terminal=None, maxValue=None, minValue=None, normalValue=None, positiveFlowIn=None, AnalogValues=[], LimitSets=[]), '_fc4adc62-5608-467f-aab7-75893b574998': Analog(mRID='_fc4adc62-5608-467f-aab7-75893b574998', aliasName=None, description=None, name='ACLineSegment_650632_Voltage', Names=[], measurementType=None, phases=None, Asset=None, Locations=[], PowerSystemResource=None, Procedures=[], Terminal=None, maxValue=None, minValue=None, normalValue=None, positiveFlowIn=None, AnalogValues=[], LimitSets=[]), '_198ca97f-d307-4fe7-8a79-5caa1c3e45d0': Analog(mRID='_198ca97f-d307-4fe7-8a79-5caa1c3e45d0', aliasName=None, description=None, name='Recloser_rec1_Current', Names=[], measurementType=None, phases=None, Asset=None, Locations=[], PowerSystemResource=None, Procedures=[], Terminal=None, maxValue=None, minValue=None, normalValue=None, positiveFlowIn=None, AnalogValues=[], LimitSets=[]), '_907b4408-7271-4407-9e38-3d019dc1bc68': Analog(mRID='_907b4408-7271-4407-9e38-3d019dc1bc68', aliasName=None, description=None, name='Recloser_rec1_Current', Names=[], measurementType=None, phases=None, Asset=None, Locations=[], PowerSystemResource=None, Procedures=[], Terminal=None, maxValue=None, minValue=None, normalValue=None, positiveFlowIn=None, AnalogValues=[], LimitSets=[]), '_cc70103a-126e-4ec1-8583-12412dd8195d': Analog(mRID='_cc70103a-126e-4ec1-8583-12412dd8195d', aliasName=None, description=None, name='Recloser_rec1_Current', Names=[], measurementType=None, phases=None, Asset=None, Locations=[], PowerSystemResource=None, Procedures=[], Terminal=None, maxValue=None, minValue=None, normalValue=None, positiveFlowIn=None, AnalogValues=[], LimitSets=[])}, <class 'cimlab.data_profile.rc4_2021.gridappsd_cim_profile_rc4_2021.Discrete'>: {'_5d00b173-726b-4f64-b93e-c60648276c66': Discrete(mRID='_5d00b173-726b-4f64-b93e-c60648276c66', aliasName=None, description=None, name='RatioTapChanger_Reg', Names=[], measurementType=None, phases=None, Asset=None, Locations=[], PowerSystemResource=None, Procedures=[], Terminal=None, maxValue=None, minValue=None, normalValue=None, DiscreteValues=[], ValueAliasSet=None), '_8d72f997-ba3e-4954-91b6-62fc3304d165': Discrete(mRID='_8d72f997-ba3e-4954-91b6-62fc3304d165', aliasName=None, description=None, name='RatioTapChanger_Reg', Names=[], measurementType=None, phases=None, Asset=None, Locations=[], PowerSystemResource=None, Procedures=[], Terminal=None, maxValue=None, minValue=None, normalValue=None, DiscreteValues=[], ValueAliasSet=None), '_f782d376-467f-46bc-a0f5-3f500d6570aa': Discrete(mRID='_f782d376-467f-46bc-a0f5-3f500d6570aa', aliasName=None, description=None, name='RatioTapChanger_Reg', Names=[], measurementType=None, phases=None, Asset=None, Locations=[], PowerSystemResource=None, Procedures=[], Terminal=None, maxValue=None, minValue=None, normalValue=None, DiscreteValues=[], ValueAliasSet=None), '_7ca7c18c-3861-47bf-82cf-5a72d618b18a': Discrete(mRID='_7ca7c18c-3861-47bf-82cf-5a72d618b18a', aliasName=None, description=None, name='Recloser_rec1_State', Names=[], measurementType=None, phases=None, Asset=None, Locations=[], PowerSystemResource=None, Procedures=[], Terminal=None, maxValue=None, minValue=None, normalValue=None, DiscreteValues=[], ValueAliasSet=None), '_80ef10f9-3f4f-4fd2-8262-caedf7442fda': Discrete(mRID='_80ef10f9-3f4f-4fd2-8262-caedf7442fda', aliasName=None, description=None, name='Recloser_rec1_State', Names=[], measurementType=None, phases=None, Asset=None, Locations=[], PowerSystemResource=None, Procedures=[], Terminal=None, maxValue=None, minValue=None, normalValue=None, DiscreteValues=[], ValueAliasSet=None), '_cd64f70b-91d8-460b-af28-688e9709f319': Discrete(mRID='_cd64f70b-91d8-460b-af28-688e9709f319', aliasName=None, description=None, name='Recloser_rec1_State', Names=[], measurementType=None, phases=None, Asset=None, Locations=[], PowerSystemResource=None, Procedures=[], Terminal=None, maxValue=None, minValue=None, normalValue=None, DiscreteValues=[], ValueAliasSet=None)}, <class 'cimlab.data_profile.rc4_2021.gridappsd_cim_profile_rc4_2021.ConnectivityNode'>: {'_0124E881-B82D-4206-BBDF-37D585159872': ConnectivityNode(mRID='_0124E881-B82D-4206-BBDF-37D585159872', aliasName=None, description=None, name='645', Names=[], ConnectivityNodeContainer=None, OperationalLimitSet=[], SvInjection=[], SvVoltage=None, Terminals=[], TopologicalNode=None), '_673E896A-DCBF-4E43-9924-BEB31C5B6005': ConnectivityNode(mRID='_673E896A-DCBF-4E43-9924-BEB31C5B6005', aliasName=None, description=None, name='rg60', Names=[], ConnectivityNodeContainer=None, OperationalLimitSet=[], SvInjection=[], SvVoltage=None, Terminals=[], TopologicalNode=None), '_6CB5E5CE-2CD0-40CC-A979-B4F9ED05E49B': ConnectivityNode(mRID='_6CB5E5CE-2CD0-40CC-A979-B4F9ED05E49B', aliasName=None, description=None, name='632', Names=[], ConnectivityNodeContainer=None, OperationalLimitSet=[], SvInjection=[], SvVoltage=None, Terminals=[], TopologicalNode=None), '_8C58660F-C62C-4903-BE72-22F1255B1E62': ConnectivityNode(mRID='_8C58660F-C62C-4903-BE72-22F1255B1E62', aliasName=None, description=None, name='646', Names=[], ConnectivityNodeContainer=None, OperationalLimitSet=[], SvInjection=[], SvVoltage=None, Terminals=[], TopologicalNode=None), '_94F822E0-7130-4205-8597-B47110BBEF4B': ConnectivityNode(mRID='_94F822E0-7130-4205-8597-B47110BBEF4B', aliasName=None, description=None, name='brkr', Names=[], ConnectivityNodeContainer=None, OperationalLimitSet=[], SvInjection=[], SvVoltage=None, Terminals=[], TopologicalNode=None), '_C6256170-E6ED-4F91-8EBD-748090C3FDD5': ConnectivityNode(mRID='_C6256170-E6ED-4F91-8EBD-748090C3FDD5', aliasName=None, description=None, name='633', Names=[], ConnectivityNodeContainer=None, OperationalLimitSet=[], SvInjection=[], SvVoltage=None, Terminals=[], TopologicalNode=None)}, <class 'cimlab.data_profile.rc4_2021.gridappsd_cim_profile_rc4_2021.Breaker'>: {'_52DE9189-20DC-4C73-BDEE-E960FE1F9493': Breaker(mRID='_52DE9189-20DC-4C73-BDEE-E960FE1F9493', aliasName=None, description=None, name='brkr1', Names=[], AssetDatasheet=None, Assets=[], ConfigurationEvent=[], Controls=[], Location=None, Measurements=[], OperatingShare=[], PSRType=None, ReportingGroup=[], aggregate=None, inService=None, networkAnalysisEnabled=None, normallyInService=None, AdditionalEquipmentContainer=[], EquipmentContainer=None, Faults=[], OperationalLimitSet=[], UsagePoints=None, BaseVoltage=None, SvStatus=[], Terminals=[], normalOpen=None, open=None, ratedCurrent=None, retained=None, CompositeSwitch=None, SvSwitch=[], SwitchPhase=[], SwitchSchedules=[], breakingCapacity=None, inTransitTime=None)}, <class 'cimlab.data_profile.rc4_2021.gridappsd_cim_profile_rc4_2021.Recloser'>: {'_CE5D0651-676B-4AF3-8D67-41BF1B33E30C': Recloser(mRID='_CE5D0651-676B-4AF3-8D67-41BF1B33E30C', aliasName=None, description=None, name='rec1', Names=[], AssetDatasheet=None, Assets=[], ConfigurationEvent=[], Controls=[], Location=None, Measurements=[], OperatingShare=[], PSRType=None, ReportingGroup=[], aggregate=None, inService=None, networkAnalysisEnabled=None, normallyInService=None, AdditionalEquipmentContainer=[], EquipmentContainer=None, Faults=[], OperationalLimitSet=[], UsagePoints=None, BaseVoltage=None, SvStatus=[], Terminals=[], normalOpen=None, open=None, ratedCurrent=None, retained=None, CompositeSwitch=None, SvSwitch=[], SwitchPhase=[], SwitchSchedules=[], breakingCapacity=None)}}')\u001b[0m\n\u001b[0m                                                                                                          ^\u001b[0m\n\u001b[0;31mSyntaxError\u001b[0m\u001b[0;31m:\u001b[0m invalid syntax\n"
     ]
    }
   ],
   "source": [
    "switch_area = network.switch_areas[0]\n",
    "\n",
    "# Get phase, bus info about ACLineSegments\n",
    "switch_area.get_all_attributes(cim.ACLineSegment)\n",
    "switch_area.get_all_attributes(cim.ACLineSegmentPhase)\n",
    "switch_area.get_all_attributes(cim.Terminal)\n",
    "\n",
    "line_ids = list(switch_area.typed_catalog[cim.ACLineSegment].keys())\n",
    "for line_id in line_ids:\n",
    "    print('line mrid: ',line_id)\n",
    "    print('line name:', switch_area.typed_catalog[cim.ACLineSegment][line_id].name)\n",
    "    print('bus 1: ', switch_area.typed_catalog[cim.ACLineSegment][line_id].Terminals[0].ConnectivityNode.mRID)\n",
    "    print('bus 2: ', switch_area.typed_catalog[cim.ACLineSegment][line_id].Terminals[1].ConnectivityNode.mRID)\n",
    "    for line_phs in switch_area.typed_catalog[cim.ACLineSegment][line_id].ACLineSegmentPhases:\n",
    "        print('phase ', line_phs.phase, ': ', line_phs.mRID)\n",
    "    "
   ]
  },
  {
   "cell_type": "code",
   "execution_count": null,
   "id": "1e37d115",
   "metadata": {},
   "outputs": [],
   "source": [
    "switch_area = network.switch_areas[0]\n",
    "\n",
    "switch_area.get_all_attributes(cim.EnergyConsumer)\n",
    "switch_area.get_all_attributes(cim.EnergyConsumerPhase)\n",
    "\n",
    "load_ids = list(switch_area.typed_catalog[cim.EnergyConsumer].keys())\n",
    "\n",
    "for load in load_ids:\n",
    "    print('p = ', switch_area.typed_catalog[cim.EnergyConsumer][load].p)\n",
    "    print('q = ', switch_area.typed_catalog[cim.EnergyConsumer][load].q)\n",
    "    for load_phs in switch_area.typed_catalog[cim.EnergyConsumer][load].EnergyConsumerPhase:\n",
    "        print('phases: ', load_phs.phase)"
   ]
  },
  {
   "cell_type": "code",
   "execution_count": null,
   "id": "6ff4f097",
   "metadata": {},
   "outputs": [],
   "source": [
    "network.get_all_attributes(cim.TransformerTank)\n",
    "network.get_all_attributes(cim.TransformerTankEnd)\n",
    "network.get_all_attributes(cim.TransformerTankInfo)\n",
    "network.get_all_attributes(cim.TransformerEndInfo)\n",
    "network.get_all_attributes(cim.ShortCircuitTest)\n",
    "network.get_all_attributes(cim.NoLoadTest)"
   ]
  },
  {
   "cell_type": "code",
   "execution_count": null,
   "id": "83e8f6cf",
   "metadata": {},
   "outputs": [],
   "source": [
    "network_area=switch_area\n",
    "network_area.get_all_attributes(cim.ACLineSegment)\n",
    "network_area.get_all_attributes(cim.ACLineSegmentPhase)\n",
    "network_area.get_all_attributes(cim.PerLengthPhaseImpedance)\n",
    "network_area.get_all_attributes(cim.PhaseImpedanceData)\n",
    "\n",
    "network_area.get_all_attributes(cim.WireSpacingInfo)\n",
    "network_area.get_all_attributes(cim.WirePosition)\n",
    "network_area.get_all_attributes(cim.OverheadWireInfo)\n",
    "network_area.get_all_attributes(cim.ConcentricNeutralCableInfo)\n",
    "network_area.get_all_attributes(cim.TapeShieldCableInfo)\n",
    "\n",
    "network_area.get_all_attributes(cim.Terminal) #bus info"
   ]
  },
  {
   "cell_type": "code",
   "execution_count": null,
   "id": "3545573d",
   "metadata": {},
   "outputs": [],
   "source": [
    "line_ids = list(network.typed_catalog[cim.ACLineSegment].keys())\n",
    "for line_id in line_ids:\n",
    "    print('line mrid: ',line_id)\n",
    "    print('line name:', network.typed_catalog[cim.ACLineSegment][line_id].name)\n",
    "    print('bus 1: ', network.typed_catalog[cim.ACLineSegment][line_id].Terminals[0].ConnectivityNode.mRID)\n",
    "    print('bus 2: ', network.typed_catalog[cim.ACLineSegment][line_id].Terminals[1].ConnectivityNode.mRID)\n",
    "    for line_phs in network.typed_catalog[cim.ACLineSegment][line_id].ACLineSegmentPhases:\n",
    "        print('phase ', line_phs.phase, ': ', line_phs.mRID)\n",
    "        if line_phs.WireInfo is not None:\n",
    "            print('gmr: ', line_phs.WireInfo.gmr)\n",
    "    if network.typed_catalog[cim.ACLineSegment][line_id].PerLengthImpedance is not None:\n",
    "        for impedance in network.typed_catalog[cim.ACLineSegment][line_id].PerLengthImpedance.PhaseImpedanceData:\n",
    "            pr int('row:', impedance.row, 'col:', impedance.column, 'r:', impedance.r, 'x:', impedance.x, 'b:', impedance.b)\n",
    "#     if network.typed_catalog[cim.ACLineSegment][line_id].WireSpacingInfo is not None:\n",
    "#         for wire_info in network.typed_catalog[cim.ACLineSegment][line_id].WireSpacingInfo.WireAssemblyInfo:\n",
    "#             print('row:', wire_info.)"
   ]
  },
  {
   "cell_type": "code",
   "execution_count": null,
   "id": "879c37b2",
   "metadata": {},
   "outputs": [],
   "source": [
    "print(switch_area.get_attributes_query(cim.ConcentricNeutralCableInfo))"
   ]
  },
  {
   "cell_type": "code",
   "execution_count": null,
   "id": "37cd84cb",
   "metadata": {},
   "outputs": [],
   "source": [
    "network.typed_catalog[cim.ACLineSegmentPhase][line_id].AssetInfo"
   ]
  },
  {
   "cell_type": "code",
   "execution_count": null,
   "id": "9a269f74",
   "metadata": {},
   "outputs": [],
   "source": [
    "json.loads(network.__dumps__(cim.OverheadWireInfo))"
   ]
  },
  {
   "cell_type": "code",
   "execution_count": null,
   "id": "04171b5f",
   "metadata": {},
   "outputs": [],
   "source": [
    "secondary_area = network.switch_areas[4].secondary_areas[0]\n",
    "secondary_area.get_all_attributes(cim.PowerElectronicsConnection)\n",
    "secondary_area.get_all_attributes(cim.PowerElectronicsConnectionPhase)\n",
    "\n",
    "pec_ids = list(secondary_area.typed_catalog[cim.PowerElectronicsConnection])\n",
    "\n",
    "for pec in pec_ids:\n",
    "    print('p = ', secondary_area.typed_catalog[cim.PowerElectronicsConnection][pec].p)\n",
    "    print('q = ', secondary_area.typed_catalog[cim.PowerElectronicsConnection][pec].q)\n",
    "    for pec_phs in secondary_area.typed_catalog[cim.PowerElectronicsConnection][pec].PowerElectronicsConnectionPhases:\n",
    "        print('phase ', pec_phs.phase, ': ', pec_phs.mRID)"
   ]
  },
  {
   "cell_type": "code",
   "execution_count": null,
   "id": "b8e3640b",
   "metadata": {},
   "outputs": [],
   "source": [
    "network_area.typed_catalog[cim.ACLineSegment][line_id]"
   ]
  },
  {
   "cell_type": "code",
   "execution_count": null,
   "id": "ab64f8ab",
   "metadata": {},
   "outputs": [],
   "source": [
    "import sys\n",
    "path = sys.argv[0]\n",
    "if path != '/gridappsd/services/gridappsd-topology-processor':\n",
    "    print(8890)"
   ]
  },
  {
   "cell_type": "code",
   "execution_count": null,
   "id": "ae71bed7",
   "metadata": {},
   "outputs": [],
   "source": [
    "values = ['_0649C1EF-E39F-4B46-AD80-D3C180E4562E']\n",
    "message = bg.sparql.get_class_type_sparql(feeder_mrid, values)\n",
    "output = bg.execute(message)\n",
    "out = output['results']['bindings']\n",
    "if values and not out:\n",
    "    print('yes')"
   ]
  },
  {
   "cell_type": "code",
   "execution_count": null,
   "id": "720668d3",
   "metadata": {},
   "outputs": [],
   "source": []
  },
  {
   "cell_type": "code",
   "execution_count": null,
   "id": "91106d81",
   "metadata": {},
   "outputs": [],
   "source": [
    "cim.ACLineSegmentPhase()"
   ]
  },
  {
   "cell_type": "code",
   "execution_count": null,
   "id": "a060daf4",
   "metadata": {},
   "outputs": [],
   "source": []
  },
  {
   "cell_type": "code",
   "execution_count": null,
   "id": "279308b9",
   "metadata": {},
   "outputs": [],
   "source": []
  }
 ],
 "metadata": {
  "kernelspec": {
   "display_name": "Python 3 (ipykernel)",
   "language": "python",
   "name": "python3"
  },
  "language_info": {
   "codemirror_mode": {
    "name": "ipython",
    "version": 3
   },
   "file_extension": ".py",
   "mimetype": "text/x-python",
   "name": "python",
   "nbconvert_exporter": "python",
   "pygments_lexer": "ipython3",
   "version": "3.8.0"
  }
 },
 "nbformat": 4,
 "nbformat_minor": 5
}
