{
 "cells": [
  {
   "cell_type": "code",
   "execution_count": 1,
   "metadata": {},
   "outputs": [],
   "source": [
    "from cim.loaders import Parameter, ConnectionParameters\n",
    "from cim.loaders.blazegraph import BlazegraphConnection\n",
    "from cim.loaders.gridappsd import GridappsdConnection, get_topology_response\n",
    "from cim.models.distributed_model import DistributedModel\n",
    "import cim.data_profile as cim\n",
    "import json\n"
   ]
  },
  {
   "cell_type": "code",
   "execution_count": 2,
   "metadata": {},
   "outputs": [],
   "source": [
    "# Blazegraph connection for running inside the container\n",
    "params = ConnectionParameters([Parameter(key=\"url\", value=\"http://blazegraph:8080/bigdata/namespace/kb/sparql\")])\n",
    "bg = BlazegraphConnection(params)"
   ]
  },
  {
   "cell_type": "code",
   "execution_count": 3,
   "metadata": {},
   "outputs": [],
   "source": [
    "# Blazegraph connection for running outside the container\n",
    "params = ConnectionParameters([Parameter(key=\"url\", value=\"http://localhost:8889/bigdata/namespace/kb/sparql\")])\n",
    "bg = BlazegraphConnection(params)"
   ]
  },
  {
   "cell_type": "code",
   "execution_count": 4,
   "metadata": {},
   "outputs": [],
   "source": [
    "#feeder_mrid = \"_C1C3E687-6FFD-C753-582B-632A27E28507\"  # 123 bus\n",
    "#feeder_mrid = \"_49AD8E07-3BF9-A4E2-CB8F-C3722F837B62\"  # 13 bus\n",
    "feeder_mrid = \"_5B816B93-7A5F-B64C-8460-47C17D6E4B0F\" # 13 bus asets\n",
    "#feeder_mrid = \"_4F76A5F9-271D-9EB8-5E31-AA362D86F2C3\"  # 8500 node\n",
    "#feeder_mrid = \"_67AB291F-DCCD-31B7-B499-338206B9828F\" # J1\n",
    "#feeder_mrid = \"_9CE150A8-8CC5-A0F9-B67E-BBD8C79D3095\"  # R2 12.47 3\n",
    "#feeder_mrid = \"_EE71F6C9-56F0-4167-A14E-7F4C71F10EAA\" #9500 node"
   ]
  },
  {
   "cell_type": "code",
   "execution_count": 5,
   "metadata": {},
   "outputs": [],
   "source": [
    "feeder = cim.Feeder(mRID=feeder_mrid)"
   ]
  },
  {
   "cell_type": "code",
   "execution_count": 6,
   "metadata": {},
   "outputs": [],
   "source": [
    "topology_response = get_topology_response(feeder_mrid)\n",
    "# with open('topo_message.json') as topo_file:\n",
    "#     topology_response = json.load(topo_file)\n"
   ]
  },
  {
   "cell_type": "code",
   "execution_count": 7,
   "metadata": {},
   "outputs": [
    {
     "name": "stdout",
     "output_type": "stream",
     "text": [
      "LinearShuntCompensator\n",
      "PowerTransformer\n",
      "LoadBreakSwitch\n",
      "warning: object class missing: Analog\n",
      "warning: object class missing: Analog\n",
      "warning: object class missing: Analog\n",
      "warning: object class missing: Analog\n",
      "warning: object class missing: Analog\n",
      "warning: object class missing: Analog\n",
      "warning: object class missing: Analog\n",
      "warning: object class missing: Analog\n",
      "warning: object class missing: Analog\n",
      "warning: object class missing: Analog\n",
      "warning: object class missing: Analog\n",
      "warning: object class missing: Analog\n",
      "warning: object class missing: Analog\n",
      "warning: object class missing: Analog\n",
      "warning: object class missing: Analog\n",
      "warning: object class missing: Analog\n",
      "warning: object class missing: Analog\n",
      "warning: object class missing: Analog\n",
      "warning: object class missing: Analog\n",
      "warning: object class missing: Analog\n",
      "warning: object class missing: Discrete\n",
      "warning: object class missing: Discrete\n",
      "warning: object class missing: Discrete\n",
      "warning: object class missing: Discrete\n",
      "warning: object class missing: Analog\n",
      "warning: object class missing: Analog\n",
      "warning: object class missing: Analog\n",
      "warning: object class missing: Analog\n",
      "warning: object class missing: Analog\n",
      "warning: object class missing: Analog\n",
      "warning: object class missing: Discrete\n",
      "warning: object class missing: Discrete\n",
      "warning: object class missing: Analog\n",
      "warning: object class missing: Discrete\n",
      "warning: object class missing: Analog\n",
      "warning: object class missing: Discrete\n",
      "warning: object class missing: Discrete\n",
      "warning: object class missing: Discrete\n",
      "warning: object class missing: Analog\n",
      "warning: object class missing: Analog\n",
      "warning: object class missing: Analog\n",
      "ACLineSegment\n",
      "TransformerTank\n",
      "ACLineSegment\n",
      "TransformerTank\n",
      "ACLineSegment\n",
      "ACLineSegment\n",
      "ACLineSegment\n",
      "TransformerTank\n",
      "ACLineSegment\n",
      "ACLineSegment\n",
      "TransformerTank\n",
      "ACLineSegment\n",
      "ACLineSegment\n",
      "ACLineSegment\n",
      "TransformerTank\n",
      "ACLineSegment\n",
      "warning: object class missing: Analog\n",
      "warning: object class missing: Analog\n",
      "warning: object class missing: Analog\n",
      "warning: object class missing: Analog\n",
      "warning: object class missing: Analog\n",
      "warning: object class missing: Analog\n",
      "warning: object class missing: Analog\n",
      "warning: object class missing: Analog\n",
      "warning: object class missing: Analog\n",
      "warning: object class missing: Analog\n",
      "warning: object class missing: Analog\n",
      "warning: object class missing: Analog\n",
      "warning: object class missing: Analog\n",
      "warning: object class missing: Analog\n",
      "warning: object class missing: Analog\n",
      "warning: object class missing: Analog\n",
      "warning: object class missing: Analog\n",
      "warning: object class missing: Analog\n",
      "warning: object class missing: Analog\n",
      "warning: object class missing: Analog\n",
      "warning: object class missing: Analog\n",
      "warning: object class missing: Analog\n",
      "warning: object class missing: Analog\n",
      "warning: object class missing: Analog\n",
      "warning: object class missing: Analog\n",
      "warning: object class missing: Analog\n",
      "warning: object class missing: Analog\n",
      "warning: object class missing: Analog\n",
      "warning: object class missing: Analog\n",
      "warning: object class missing: Analog\n",
      "warning: object class missing: Analog\n",
      "warning: object class missing: Analog\n",
      "warning: object class missing: Analog\n",
      "warning: object class missing: Analog\n",
      "warning: object class missing: Analog\n",
      "warning: object class missing: Analog\n",
      "warning: object class missing: Analog\n",
      "warning: object class missing: Analog\n",
      "warning: object class missing: Analog\n",
      "warning: object class missing: Analog\n",
      "warning: object class missing: Analog\n",
      "warning: object class missing: Analog\n",
      "warning: object class missing: Analog\n",
      "warning: object class missing: Analog\n",
      "warning: object class missing: Analog\n",
      "warning: object class missing: Analog\n",
      "warning: object class missing: Analog\n",
      "warning: object class missing: Analog\n",
      "warning: object class missing: Analog\n",
      "warning: object class missing: Analog\n",
      "warning: object class missing: Analog\n",
      "warning: object class missing: Analog\n",
      "warning: object class missing: Analog\n",
      "warning: object class missing: Analog\n",
      "warning: object class missing: Analog\n",
      "warning: object class missing: Analog\n",
      "warning: object class missing: Analog\n",
      "warning: object class missing: Analog\n",
      "warning: object class missing: Analog\n",
      "warning: object class missing: Analog\n",
      "warning: object class missing: Analog\n",
      "warning: object class missing: Analog\n",
      "warning: object class missing: Analog\n",
      "warning: object class missing: Analog\n",
      "warning: object class missing: Analog\n",
      "warning: object class missing: Analog\n",
      "warning: object class missing: Analog\n",
      "warning: object class missing: Analog\n",
      "ConnectivityNode\n",
      "ConnectivityNode\n",
      "ConnectivityNode\n",
      "ConnectivityNode\n",
      "ConnectivityNode\n",
      "ConnectivityNode\n",
      "ConnectivityNode\n",
      "ConnectivityNode\n",
      "ConnectivityNode\n",
      "ConnectivityNode\n",
      "ConnectivityNode\n",
      "ConnectivityNode\n",
      "ConnectivityNode\n",
      "ConnectivityNode\n",
      "LinearShuntCompensator\n",
      "ACLineSegment\n",
      "warning: object class missing: Analog\n",
      "warning: object class missing: Analog\n",
      "warning: object class missing: Analog\n",
      "warning: object class missing: Analog\n",
      "warning: object class missing: Analog\n",
      "warning: object class missing: Analog\n",
      "warning: object class missing: Analog\n",
      "warning: object class missing: Analog\n",
      "warning: object class missing: Analog\n",
      "warning: object class missing: Analog\n",
      "warning: object class missing: Analog\n",
      "warning: object class missing: Analog\n",
      "warning: object class missing: Analog\n",
      "warning: object class missing: Analog\n",
      "warning: object class missing: Discrete\n",
      "warning: object class missing: Analog\n",
      "warning: object class missing: Analog\n",
      "warning: object class missing: Analog\n",
      "warning: object class missing: Analog\n",
      "warning: object class missing: Discrete\n",
      "warning: object class missing: Analog\n",
      "warning: object class missing: Discrete\n",
      "warning: object class missing: Analog\n",
      "ConnectivityNode\n",
      "ConnectivityNode\n",
      "LoadBreakSwitch\n"
     ]
    }
   ],
   "source": [
    "network = DistributedModel(connection=bg, feeder=feeder, topology=topology_response)"
   ]
  },
  {
   "cell_type": "code",
   "execution_count": 8,
   "metadata": {},
   "outputs": [
    {
     "name": "stdout",
     "output_type": "stream",
     "text": [
      "\n",
      "        PREFIX r:  <http://www.w3.org/1999/02/22-rdf-syntax-ns#>\n",
      "        PREFIX cim:  <http://iec.ch/TC57/CIM100#>\n",
      "        SELECT ?mRID ?name ?BaseVoltage ?Location ?RegulatingControl ?aVRDelay ?b0PerSection \n",
      "        ?bPerSection ?controlEnabled ?g0PerSection ?gPerSection ?grounded ?maximumSections ?nomU \n",
      "        ?normalSections ?phaseConnection ?sections ?Terminals ?ShuntCompensatorPhase \n",
      "        (group_concat(distinct ?Measurement; separator=\";\") as ?Measurements) \n",
      "        WHERE { \n",
      "          ?eq r:type cim:LinearShuntCompensator.\n",
      "          VALUES ?fdrid {\"_5B816B93-7A5F-B64C-8460-47C17D6E4B0F\"}\n",
      "          VALUES ?mRID { \"_6A7D7AF8-A0F7-41B6-BB0C-160EAE054DEA\" \n",
      "               } \n",
      "        ?eq cim:Equipment.EquipmentContainer ?fdr. #filter by feeder\n",
      "        ?fdr cim:IdentifiedObject.mRID ?fdrid. #filter by feeder\n",
      "        ?eq cim:IdentifiedObject.mRID ?mRID. #get cap mrid\n",
      "        ?eq cim:IdentifiedObject.name ?name. #get cap name\n",
      "\n",
      "        ?eq cim:ConductingEquipment.BaseVoltage ?bv. #get basevoltage object\n",
      "        ?bv cim:IdentifiedObject.mRID ?BaseVoltage. \n",
      "\n",
      "        OPTIONAL {?eq cim:PowerSystemResource.Location ?loc. #get location object\n",
      "            ?loc cim:IdentifiedObject.mRID ?Location.} #get location mrid\n",
      "\n",
      "        OPTIONAL {?ctl cim:RegulatingControl.RegulatingCondEq ?eq. #get control\n",
      "            ?ctl cim:RegulatingControl.enabled ?controlEnabled. #get enabled\n",
      "            ?ctl cim:IdentifiedObject.mRID ?RegulatingControl} #get control mrid\n",
      "\n",
      "        ?t cim:Terminal.ConductingEquipment ?eq.\n",
      "        ?t cim:IdentifiedObject.mRID ?Terminals\n",
      "        OPTIONAL {?meas cim:Measurement.Terminal ?t.\n",
      "            ?meas cim:IdentifiedObject.mRID ?Measurement}\n",
      "\n",
      "        OPTIONAL {?eq cim:ShuntCompensator.grounded ?grounded.}\n",
      "        OPTIONAL {?eq cim:ShuntCompensator.maximumSections ?maximumSections.}\n",
      "        OPTIONAL {?eq cim:ShuntCompensator.nomU ?nomU.}\n",
      "        OPTIONAL {?eq cim:ShuntCompensator.normalSections ?normalSections.}\n",
      "        OPTIONAL {?eq cim:ShuntCompensator.aVRDelay ?aVRDelay.}\n",
      "        OPTIONAL {?eq cim:ShuntCompensator.phaseConnection ?phaseConn.\n",
      "            bind(strafter(str(?phaseConn),\"CIM100#\") as ?phaseConnection)}\n",
      "        OPTIONAL {?spc cim:ShuntCompensatorPhase.ShuntCompensator ?eq.\n",
      "            ?spc cim:IdentifiedObject.mRID ?ShuntCompensatorPhase.}\n",
      "\n",
      "        OPTIONAL {?eq cim:LinearShuntCompensator.b0PerSection ?b0PerSection.}\n",
      "        OPTIONAL {?eq cim:LinearShuntCompensator.bPerSection ?bPerSection.}\n",
      "        OPTIONAL {?eq cim:LinearShuntCompensator.g0PerSection ?g0PerSection.}\n",
      "        OPTIONAL {?eq cim:LinearShuntCompensator.gPerSection ?gPerSection.}\n",
      "        }\n",
      "        GROUP by  ?mRID ?name ?BaseVoltage ?Location ?RegulatingControl ?aVRDelay ?b0PerSection \n",
      "        ?bPerSection ?controlEnabled ?g0PerSection ?gPerSection ?grounded ?maximumSections ?nomU\n",
      "        ?normalSections ?phaseConnection ?sections ?Terminals ?ShuntCompensatorPhase\n",
      "        ORDER by  ?name\n",
      "        \n",
      "\n",
      "        PREFIX r:  <http://www.w3.org/1999/02/22-rdf-syntax-ns#>\n",
      "        PREFIX cim:  <http://iec.ch/TC57/CIM100#>\n",
      "        SELECT ?mRID ?name ?BaseVoltage ?Location ?length ?bch ?r ?x ?gch ?b0ch ?r0 ?x0 ?g0ch \n",
      "        ?PerLengthImpedance ?WireSpacingInfo\n",
      "        (group_concat(distinct ?Terminal; separator=\";\") as ?Terminals) \n",
      "        (group_concat(distinct ?Measurement; separator=\";\") as ?Measurements) \n",
      "        (group_concat(distinct ?ACLineSegmentPhase; separator=';') as ?ACLineSegmentPhases)  \n",
      "        WHERE {          \n",
      "          ?eq r:type cim:ACLineSegment.\n",
      "          VALUES ?fdrid {\"_5B816B93-7A5F-B64C-8460-47C17D6E4B0F\"}\n",
      "          VALUES ?mRID { \"_6EBB2188-CBE1-4FEC-9406-83DE8E61F9CB\" \n",
      "               } \n",
      "        ?eq cim:Equipment.EquipmentContainer ?fdr.\n",
      "        ?fdr cim:IdentifiedObject.mRID ?fdrid.\n",
      "        ?eq cim:IdentifiedObject.mRID ?mRID.\n",
      "        ?eq cim:IdentifiedObject.name ?name.\n",
      "        ?eq cim:ConductingEquipment.BaseVoltage ?bv.\n",
      "        ?bv cim:IdentifiedObject.mRID ?BaseVoltage.\n",
      "\n",
      "        OPTIONAL {?eq cim:PowerSystemResource.Location ?loc.\n",
      "        ?loc cim:IdentifiedObject.mRID ?Location.}\n",
      "\n",
      "        ?t cim:Terminal.ConductingEquipment ?eq.\n",
      "        ?t cim:IdentifiedObject.mRID ?Terminal\n",
      "\n",
      "        OPTIONAL {?meas cim:Measurement.Terminal ?t.\n",
      "          ?meas cim:IdentifiedObject.mRID ?Measurement}\n",
      "\n",
      "        OPTIONAL {?eq cim:Conductor.length ?length.}\n",
      "        \n",
      "        OPTIONAL {?eq cim:ACLineSegment.bch ?bch.}\n",
      "        OPTIONAL {?eq cim:ACLineSegment.r ?r0.}\n",
      "        OPTIONAL {?eq cim:ACLineSegment.x ?x0.}\n",
      "        OPTIONAL {?eq cim:ACLineSegment.g ?r0.}\n",
      "        OPTIONAL {?eq cim:ACLineSegment.b0ch ?b0.}\n",
      "        OPTIONAL {?eq cim:ACLineSegment.r0 ?r0.}\n",
      "        OPTIONAL {?eq cim:ACLineSegment.x0 ?x0.}\n",
      "        OPTIONAL {?eq cim:ACLineSegment.g0ch ?b0.}\n",
      "\n",
      "        OPTIONAL {?eq cim:ACLineSegment.PerLengthImpedance ?pli.\n",
      "                  ?pli cim:IdentifiedObject.mRID ?PerLengthImpedance.}\n",
      "        OPTIONAL {?eq cim:ACLineSegment.WireSpacingInfo ?wsi.\n",
      "                  ?wsi cim:IdentifiedObject.mRID ?WireSpacingInfo.}\n",
      "        OPTIONAL {?aclsp cim:ACLineSegmentPhase.ACLineSegment ?eq.\n",
      "                  ?aclsp cim:IdentifiedObject.mRID ?ACLineSegmentPhase.}\n",
      "\n",
      "        }\n",
      "        GROUP by ?mRID ?name ?BaseVoltage ?Location ?length ?bch ?r ?x ?gch ?b0ch ?r0 ?x0 ?g0ch \n",
      "                ?PerLengthImpedance ?WireSpacingInfo \n",
      "        ORDER by  ?name\n",
      "        \n",
      "\n",
      "        PREFIX r:  <http://www.w3.org/1999/02/22-rdf-syntax-ns#>\n",
      "        PREFIX cim:  <http://iec.ch/TC57/CIM100#>\n",
      "        SELECT ?mRID ?name ?usage ?phaseWireCount ?phaseWireSpacing ?isCable \n",
      "        (group_concat(distinct ?ACLineSegment; separator=';') as ?ACLineSegments)\n",
      "        (group_concat(distinct ?WirePosition; separator=';') as ?WirePositions)\n",
      "        WHERE {          \n",
      "          ?eq r:type cim:WireSpacingInfo.\n",
      "          VALUES ?fdrid {\"_5B816B93-7A5F-B64C-8460-47C17D6E4B0F\"}\n",
      "          VALUES ?mRID { \"_48A5C17E-B098-446D-B26F-2D1B198ED260\" \n",
      "               } \n",
      "        \n",
      "        ?line cim:ACLineSegment.WireSpacingInfo ?eq.\n",
      "        ?line cim:Equipment.EquipmentContainer ?fdr.\n",
      "        ?line cim:IdentifiedObject.mRID ?ACLineSegment.\n",
      "        ?fdr cim:IdentifiedObject.mRID ?fdrid.\n",
      "        ?eq cim:IdentifiedObject.mRID ?mRID.\n",
      "        ?eq cim:IdentifiedObject.name ?name.\n",
      "\n",
      "        OPTIONAL {?eq cim:WireSpacingInfo.usage ?usage.}\n",
      "        OPTIONAL {?eq cim:WireSpacingInfo.phaseWireCount ?phaseWireCount.}\n",
      "        OPTIONAL {?eq cim:WireSpacingInfo.phaseWireSpacing ?phaseWireSpacing.}\n",
      "        OPTIONAL {?eq cim:WireSpacingInfo.isCable ?isCable.}\n",
      "\n",
      "        OPTIONAL {?wp cim:WirePosition.WireSpacingInfo ?eq.\n",
      "                  ?wp cim:IdentifiedObject.mRID ?WirePosition.}\n",
      "        }\n",
      "        GROUP by ?mRID ?name ?usage ?phaseWireCount ?phaseWireSpacing ?isCable\n",
      "        ORDER by  ?name\n",
      "        \n"
     ]
    }
   ],
   "source": [
    "network.switch_areas[0].get_all_attributes(cim.LinearShuntCompensator)\n",
    "network.switch_areas[0].get_all_attributes(cim.ACLineSegment)\n",
    "network.switch_areas[0].get_all_attributes(cim.WireSpacingInfo)\n",
    "\n"
   ]
  },
  {
   "cell_type": "code",
   "execution_count": 9,
   "metadata": {},
   "outputs": [
    {
     "ename": "IndexError",
     "evalue": "list index out of range",
     "output_type": "error",
     "traceback": [
      "\u001b[0;31m---------------------------------------------------------------------------\u001b[0m",
      "\u001b[0;31mIndexError\u001b[0m                                Traceback (most recent call last)",
      "\u001b[0;32m<ipython-input-9-111c2fcd2301>\u001b[0m in \u001b[0;36m<module>\u001b[0;34m\u001b[0m\n\u001b[0;32m----> 1\u001b[0;31m \u001b[0mnetwork\u001b[0m\u001b[0;34m.\u001b[0m\u001b[0mswitch_areas\u001b[0m\u001b[0;34m[\u001b[0m\u001b[0;36m1\u001b[0m\u001b[0;34m]\u001b[0m\u001b[0;34m.\u001b[0m\u001b[0msecondary_areas\u001b[0m\u001b[0;34m[\u001b[0m\u001b[0;36m0\u001b[0m\u001b[0;34m]\u001b[0m\u001b[0;34m.\u001b[0m\u001b[0mget_all_attributes\u001b[0m\u001b[0;34m(\u001b[0m\u001b[0mcim\u001b[0m\u001b[0;34m.\u001b[0m\u001b[0mEnergyConsumer\u001b[0m\u001b[0;34m)\u001b[0m\u001b[0;34m\u001b[0m\u001b[0;34m\u001b[0m\u001b[0m\n\u001b[0m\u001b[1;32m      2\u001b[0m \u001b[0mnetwork\u001b[0m\u001b[0;34m.\u001b[0m\u001b[0mswitch_areas\u001b[0m\u001b[0;34m[\u001b[0m\u001b[0;36m0\u001b[0m\u001b[0;34m]\u001b[0m\u001b[0;34m.\u001b[0m\u001b[0msecondary_areas\u001b[0m\u001b[0;34m[\u001b[0m\u001b[0;36m0\u001b[0m\u001b[0;34m]\u001b[0m\u001b[0;34m.\u001b[0m\u001b[0mget_all_attributes\u001b[0m\u001b[0;34m(\u001b[0m\u001b[0mcim\u001b[0m\u001b[0;34m.\u001b[0m\u001b[0mEnergyConsumerPhase\u001b[0m\u001b[0;34m)\u001b[0m\u001b[0;34m\u001b[0m\u001b[0;34m\u001b[0m\u001b[0m\n",
      "\u001b[0;31mIndexError\u001b[0m: list index out of range"
     ]
    }
   ],
   "source": [
    "network.switch_areas[1].secondary_areas[0].get_all_attributes(cim.EnergyConsumer)\n",
    "network.switch_areas[0].secondary_areas[0].get_all_attributes(cim.EnergyConsumerPhase)"
   ]
  },
  {
   "cell_type": "code",
   "execution_count": null,
   "metadata": {},
   "outputs": [],
   "source": [
    "network.switch_areas[0].secondary_areas[0].typed_catalog[cim.EnergyConsumerPhase]"
   ]
  },
  {
   "cell_type": "code",
   "execution_count": null,
   "metadata": {},
   "outputs": [],
   "source": [
    "bg.create_default_instances(feeder.mRID, ['_48A5C17E-B098-446D-B26F-2D1B198ED260'] )"
   ]
  },
  {
   "cell_type": "code",
   "execution_count": 10,
   "metadata": {},
   "outputs": [
    {
     "name": "stdout",
     "output_type": "stream",
     "text": [
      "\n",
      "        PREFIX r:  <http://www.w3.org/1999/02/22-rdf-syntax-ns#>\n",
      "        PREFIX cim:  <http://iec.ch/TC57/CIM100#>\n",
      "        SELECT ?mRID ?name ?BaseVoltage ?Location ?length ?bch ?r ?x ?gch ?b0ch ?r0 ?x0 ?g0ch \n",
      "        ?PerLengthImpedance ?WireSpacingInfo\n",
      "        (group_concat(distinct ?Terminal; separator=\";\") as ?Terminals) \n",
      "        (group_concat(distinct ?Measurement; separator=\";\") as ?Measurements) \n",
      "        (group_concat(distinct ?ACLineSegmentPhase; separator=';') as ?ACLineSegmentPhases)  \n",
      "        WHERE {          \n",
      "          ?eq r:type cim:ACLineSegment.\n",
      "          VALUES ?fdrid {\"_5B816B93-7A5F-B64C-8460-47C17D6E4B0F\"}\n",
      "          VALUES ?mRID { \"_08848DC6-BB11-4647-9C21-475BAD66A8B8\" \n",
      " \"_173879C4-4FDB-4521-A60D-5B102B3781B2\" \n",
      " \"_4774208A-B9AB-4051-8BC9-4F7C8EA6552A\" \n",
      " \"_603106B5-1DC7-40B1-A264-98774F6FD16D\" \n",
      " \"_67A2574B-8146-464D-B93C-B9FCBCE913BC\" \n",
      " \"_6DEF3353-8276-402F-AC8E-3DEF4A396FFE\" \n",
      " \"_6EBB2188-CBE1-4FEC-9406-83DE8E61F9CB\" \n",
      " \"_8A62F620-7C58-4662-AE5C-F41F5E3F0022\" \n",
      " \"_8C536493-14B8-41D0-8EE4-CAE4DFF33839\" \n",
      " \"_A98417B1-4A7F-484F-97C8-9B91F29A26F1\" \n",
      " \"_E062E187-F149-4555-8E27-2EE0C9D75274\" \n",
      "               } \n",
      "        ?eq cim:Equipment.EquipmentContainer ?fdr.\n",
      "        ?fdr cim:IdentifiedObject.mRID ?fdrid.\n",
      "        ?eq cim:IdentifiedObject.mRID ?mRID.\n",
      "        ?eq cim:IdentifiedObject.name ?name.\n",
      "        ?eq cim:ConductingEquipment.BaseVoltage ?bv.\n",
      "        ?bv cim:IdentifiedObject.mRID ?BaseVoltage.\n",
      "\n",
      "        OPTIONAL {?eq cim:PowerSystemResource.Location ?loc.\n",
      "        ?loc cim:IdentifiedObject.mRID ?Location.}\n",
      "\n",
      "        ?t cim:Terminal.ConductingEquipment ?eq.\n",
      "        ?t cim:IdentifiedObject.mRID ?Terminal\n",
      "\n",
      "        OPTIONAL {?meas cim:Measurement.Terminal ?t.\n",
      "          ?meas cim:IdentifiedObject.mRID ?Measurement}\n",
      "\n",
      "        OPTIONAL {?eq cim:Conductor.length ?length.}\n",
      "        \n",
      "        OPTIONAL {?eq cim:ACLineSegment.bch ?bch.}\n",
      "        OPTIONAL {?eq cim:ACLineSegment.r ?r0.}\n",
      "        OPTIONAL {?eq cim:ACLineSegment.x ?x0.}\n",
      "        OPTIONAL {?eq cim:ACLineSegment.g ?r0.}\n",
      "        OPTIONAL {?eq cim:ACLineSegment.b0ch ?b0.}\n",
      "        OPTIONAL {?eq cim:ACLineSegment.r0 ?r0.}\n",
      "        OPTIONAL {?eq cim:ACLineSegment.x0 ?x0.}\n",
      "        OPTIONAL {?eq cim:ACLineSegment.g0ch ?b0.}\n",
      "\n",
      "        OPTIONAL {?eq cim:ACLineSegment.PerLengthImpedance ?pli.\n",
      "                  ?pli cim:IdentifiedObject.mRID ?PerLengthImpedance.}\n",
      "        OPTIONAL {?eq cim:ACLineSegment.WireSpacingInfo ?wsi.\n",
      "                  ?wsi cim:IdentifiedObject.mRID ?WireSpacingInfo.}\n",
      "        OPTIONAL {?aclsp cim:ACLineSegmentPhase.ACLineSegment ?eq.\n",
      "                  ?aclsp cim:IdentifiedObject.mRID ?ACLineSegmentPhase.}\n",
      "\n",
      "        }\n",
      "        GROUP by ?mRID ?name ?BaseVoltage ?Location ?length ?bch ?r ?x ?gch ?b0ch ?r0 ?x0 ?g0ch \n",
      "                ?PerLengthImpedance ?WireSpacingInfo \n",
      "        ORDER by  ?name\n",
      "        \n",
      "\n",
      "        PREFIX r:  <http://www.w3.org/1999/02/22-rdf-syntax-ns#>\n",
      "        PREFIX cim:  <http://iec.ch/TC57/CIM100#>\n",
      "        SELECT ?mRID ?name ?usage ?phaseWireCount ?phaseWireSpacing ?isCable \n",
      "        (group_concat(distinct ?ACLineSegment; separator=';') as ?ACLineSegments)\n",
      "        (group_concat(distinct ?WirePosition; separator=';') as ?WirePositions)\n",
      "        WHERE {          \n",
      "          ?eq r:type cim:WireSpacingInfo.\n",
      "          VALUES ?fdrid {\"_5B816B93-7A5F-B64C-8460-47C17D6E4B0F\"}\n",
      "          VALUES ?mRID { \"_E804FC3A-4DE8-4497-B83D-EBE8974C791B\" \n",
      " \"_3B22E834-067C-49EA-A4C0-5AA2E616DCB7\" \n",
      " \"_516D90DD-274F-4A22-BD8E-44F2845D3B61\" \n",
      " \"_6D837E4D-634C-4C07-B8C7-C6377EF1A330\" \n",
      " \"_7FAE2DF5-CDFB-4268-945E-27EB8AE81220\" \n",
      " \"_42F6BF8A-F301-476D-A18B-7EC0BF7A5DE3\" \n",
      " \"_48A5C17E-B098-446D-B26F-2D1B198ED260\" \n",
      "               } \n",
      "        \n",
      "        ?line cim:ACLineSegment.WireSpacingInfo ?eq.\n",
      "        ?line cim:Equipment.EquipmentContainer ?fdr.\n",
      "        ?line cim:IdentifiedObject.mRID ?ACLineSegment.\n",
      "        ?fdr cim:IdentifiedObject.mRID ?fdrid.\n",
      "        ?eq cim:IdentifiedObject.mRID ?mRID.\n",
      "        ?eq cim:IdentifiedObject.name ?name.\n",
      "\n",
      "        OPTIONAL {?eq cim:WireSpacingInfo.usage ?usage.}\n",
      "        OPTIONAL {?eq cim:WireSpacingInfo.phaseWireCount ?phaseWireCount.}\n",
      "        OPTIONAL {?eq cim:WireSpacingInfo.phaseWireSpacing ?phaseWireSpacing.}\n",
      "        OPTIONAL {?eq cim:WireSpacingInfo.isCable ?isCable.}\n",
      "\n",
      "        OPTIONAL {?wp cim:WirePosition.WireSpacingInfo ?eq.\n",
      "                  ?wp cim:IdentifiedObject.mRID ?WirePosition.}\n",
      "        }\n",
      "        GROUP by ?mRID ?name ?usage ?phaseWireCount ?phaseWireSpacing ?isCable\n",
      "        ORDER by  ?name\n",
      "        \n"
     ]
    }
   ],
   "source": [
    "network.get_all_attributes(cim.ACLineSegment)\n",
    "network.get_all_attributes(cim.WireSpacingInfo)\n",
    "network.get_all_attributes(cim.WirePosition)"
   ]
  },
  {
   "cell_type": "code",
   "execution_count": 51,
   "metadata": {},
   "outputs": [
    {
     "data": {
      "text/plain": [
       "WireSpacingInfo(mRID='_E804FC3A-4DE8-4497-B83D-EBE8974C791B', aliasName=None, description=None, name='602', Names=[], Assets=[], PowerSystemResources=[], isCable='false', phaseWireCount='1', phaseWireSpacing='0', ACLineSegments='_67A2574B-8146-464D-B93C-B9FCBCE913BC', WireAssemblyInfo=[], WirePositions=['_4646B654-2416-424E-B953-6D81AFA95358', '_62281BF1-8A90-4E20-B4D3-F2C679E8C20C', '_85BA2D54-B38B-458E-8C9C-CEB7D2BF8FD8', '_FDE19188-F0F1-4EFC-B0F1-FFE9391ADE02'])"
      ]
     },
     "execution_count": 51,
     "metadata": {},
     "output_type": "execute_result"
    }
   ],
   "source": [
    "a"
   ]
  },
  {
   "cell_type": "code",
   "execution_count": 82,
   "metadata": {},
   "outputs": [
    {
     "name": "stdout",
     "output_type": "stream",
     "text": [
      "List['ACLineSegment']\n",
      "ACLineSegment\n"
     ]
    }
   ],
   "source": [
    "from typing import List\n",
    "import re\n",
    "a = network.typed_catalog[cim.WireSpacingInfo]['_E804FC3A-4DE8-4497-B83D-EBE8974C791B']\n",
    "at_type = a.__dataclass_fields__['ACLineSegments'].type\n",
    "print(at_type)\n",
    "if 'List' in at_type:\n",
    "    at_cls = re.match(r'List\\[\\'(.*)\\']',at_type)\n",
    "    print(at_cls.group(1))\n",
    "    # re.match(r'<img.*?>',line)\n",
    "# imgtag.group(0)\n"
   ]
  },
  {
   "cell_type": "code",
   "execution_count": 32,
   "metadata": {},
   "outputs": [
    {
     "name": "stdout",
     "output_type": "stream",
     "text": [
      "WirePosition\n",
      "WirePosition\n",
      "WirePosition\n",
      "WirePosition\n"
     ]
    },
    {
     "data": {
      "text/plain": [
       "{'_08848DC6-BB11-4647-9C21-475BAD66A8B8': ACLineSegment(mRID='_08848DC6-BB11-4647-9C21-475BAD66A8B8', aliasName=None, description=None, name='671684', Names=[], AssetDatasheet=None, Assets=[], Controls=[], Location=Location(mRID='_2DE7691B-723B-416A-87B6-35B22FBA52B6', aliasName=None, description=None, name=None, Names=[], Assets=[], CoordinateSystem=None, Fault=[], Measurements=[], PowerSystemResources=[]), Measurements=['_6bf90aff-8a2e-431f-b159-2df722dee9f4', '_a190d1ea-47a7-482a-83ba-ed1936917bee', '_09c6dcc8-20d9-4249-bf99-efc6a4219812', '_212713f5-2b03-4282-993c-3064558680fa'], inService=None, Faults=[], OperationalLimitSet=[], BaseVoltage=BaseVoltage(mRID='_3CB8BE1F-37D8-4CC8-88BB-5C0D14D7D7B3', aliasName=None, description=None, name=None, Names=[], nominalVoltage=None, ConductingEquipment=[], TopologicalNode=[], TransformerEnds=[]), SvStatus=[], Terminals=['_636377F0-4E50-4C65-9320-35E0A68731BE', '_38B542B8-1A65-4211-9B2C-73FC39382959'], length='91.44', b0ch=None, bch=None, g0ch=None, gch=None, r=None, r0=None, x=None, x0=None, ACLineSegmentPhases=['_1D64743E-4A88-4098-8F86-D45366F70AFA', '_6DF2D0DA-56BF-4EEB-921C-536464AC4C26', '_BE2F153C-C16A-4BFA-9E29-8AA09F39BEEF'], PerLengthImpedance=None, WireSpacingInfo=WireSpacingInfo(mRID='_6D837E4D-634C-4C07-B8C7-C6377EF1A330', aliasName=None, description=None, name='604', Names=[], Assets=[], PowerSystemResources=[], isCable='false', phaseWireCount='1', phaseWireSpacing='0', ACLineSegments='_08848DC6-BB11-4647-9C21-475BAD66A8B8', WireAssemblyInfo=[], WirePositions=['_13FB5580-1F14-47A4-BAAE-57F125976634', '_31C58062-102F-4ECD-83C4-173B161CD0B1', '_D11A0CFD-EC1B-479D-9506-7A2743B4A854'])),\n",
       " '_173879C4-4FDB-4521-A60D-5B102B3781B2': ACLineSegment(mRID='_173879C4-4FDB-4521-A60D-5B102B3781B2', aliasName=None, description=None, name='645646', Names=[], AssetDatasheet=None, Assets=[], Controls=[], Location=Location(mRID='_223C440A-5D7D-4FC0-A2C7-0E222B681426', aliasName=None, description=None, name=None, Names=[], Assets=[], CoordinateSystem=None, Fault=[], Measurements=[], PowerSystemResources=[]), Measurements=['_2cde7c40-024a-4424-a918-ec741ace6576', '_f4413a2b-3be4-4598-8445-c5d35c92d258', '_88ccf5a8-7dd6-4ae1-b9b0-2a37f01621fe', '_a100cb90-2513-410b-b3ee-247d6d9c0ddf'], inService=None, Faults=[], OperationalLimitSet=[], BaseVoltage=BaseVoltage(mRID='_3CB8BE1F-37D8-4CC8-88BB-5C0D14D7D7B3', aliasName=None, description=None, name=None, Names=[], nominalVoltage=None, ConductingEquipment=[], TopologicalNode=[], TransformerEnds=[]), SvStatus=[], Terminals=['_CA7CF6E9-DC73-4970-AED7-97D2F1AB9C7D', '_91E21558-6FAE-47D6-9756-D3703B4CCFE6'], length='91.40824', b0ch=None, bch=None, g0ch=None, gch=None, r=None, r0=None, x=None, x0=None, ACLineSegmentPhases=['_A5ED6EC7-2D5A-4F0A-B5A6-8DFB3A7DACBC', '_FA8A472C-6D2C-4605-A594-4200AED4FC3F'], PerLengthImpedance=PerLengthImpedance(mRID='_14F49BE6-1C8F-4892-9868-910DD8605ECD', aliasName=None, description=None, name=None, Names=[], WireAssemblyInfo=None, ACLineSegments=[]), WireSpacingInfo=None),\n",
       " '_4774208A-B9AB-4051-8BC9-4F7C8EA6552A': ACLineSegment(mRID='_4774208A-B9AB-4051-8BC9-4F7C8EA6552A', aliasName=None, description=None, name='670671', Names=[], AssetDatasheet=None, Assets=[], Controls=[], Location=Location(mRID='_9160AFFA-5E86-4EFB-901B-23984101B742', aliasName=None, description=None, name=None, Names=[], Assets=[], CoordinateSystem=None, Fault=[], Measurements=[], PowerSystemResources=[]), Measurements=['_514cc32e-71eb-43a1-ba66-1b90ee1f8e06', '_c2566070-8040-4a35-8d6a-e6be990eb609', '_d02906b5-206e-458d-bd3a-16877afb5689'], inService=None, Faults=[], OperationalLimitSet=[], BaseVoltage=BaseVoltage(mRID='_3CB8BE1F-37D8-4CC8-88BB-5C0D14D7D7B3', aliasName=None, description=None, name=None, Names=[], nominalVoltage=None, ConductingEquipment=[], TopologicalNode=[], TransformerEnds=[]), SvStatus=[], Terminals=['_04DCA1EA-04D2-48D8-8394-82E412AF5616', '_AF113CF9-9B02-4D61-B831-1E02709C8E93'], length='406.2984', b0ch=None, bch=None, g0ch=None, gch=None, r=None, r0=None, x=None, x0=None, ACLineSegmentPhases=['_751872D8-9747-4322-95A1-D5F7D634BFEF', '_A884FBB3-F68C-4432-80C0-93784DD82B94', '_BDC43EFC-258E-486E-AB87-B226B910417E', '_CD77D72C-E33C-45B5-9145-8209BE58B06C'], PerLengthImpedance=None, WireSpacingInfo=WireSpacingInfo(mRID='_516D90DD-274F-4A22-BD8E-44F2845D3B61', aliasName=None, description=None, name=None, Names=[], Assets=[], PowerSystemResources=[], isCable=None, phaseWireCount=None, phaseWireSpacing=None, ACLineSegments=[], WireAssemblyInfo=[], WirePositions=[])),\n",
       " '_603106B5-1DC7-40B1-A264-98774F6FD16D': ACLineSegment(mRID='_603106B5-1DC7-40B1-A264-98774F6FD16D', aliasName=None, description=None, name='671680', Names=[], AssetDatasheet=None, Assets=[], Controls=[], Location=Location(mRID='_55091F0F-6AC5-485E-8165-170F62D69D8C', aliasName=None, description=None, name=None, Names=[], Assets=[], CoordinateSystem=None, Fault=[], Measurements=[], PowerSystemResources=[]), Measurements=['_3898c8ad-8875-474a-888f-0b8db610dc95', '_d7863aa7-9ea8-44f4-860e-d4bdb1dcb0e6', '_ebe15e98-b5b5-4b10-aa09-1fbbdf045053', '_4d8f00e8-eccb-47fe-8919-fc053d18ed74', '_ad4f6589-46dd-479d-932e-8757be636de2', '_be5eb52a-aa67-497b-920b-61c67cf43492'], inService=None, Faults=[], OperationalLimitSet=[], BaseVoltage=BaseVoltage(mRID='_3CB8BE1F-37D8-4CC8-88BB-5C0D14D7D7B3', aliasName=None, description=None, name=None, Names=[], nominalVoltage=None, ConductingEquipment=[], TopologicalNode=[], TransformerEnds=[]), SvStatus=[], Terminals=['_78ED9EED-991C-4622-9475-A17212AED8AF', '_2DC3EF16-F881-42A9-BF65-1158799F132A'], length='304.8', b0ch=None, bch=None, g0ch=None, gch=None, r=None, r0=None, x=None, x0=None, ACLineSegmentPhases=['_1B45289A-C7DD-4129-8AA7-4A10A29DEEB8', '_1C29457E-E627-4FC3-A235-AE6EEA79943C', '_53BA78DF-EECC-4EDE-BBDF-E12AD62B76B6', '_62F7C0F1-96AA-4B70-B86F-0AFB799EEAA3'], PerLengthImpedance=None, WireSpacingInfo=WireSpacingInfo(mRID='_516D90DD-274F-4A22-BD8E-44F2845D3B61', aliasName=None, description=None, name=None, Names=[], Assets=[], PowerSystemResources=[], isCable=None, phaseWireCount=None, phaseWireSpacing=None, ACLineSegments=[], WireAssemblyInfo=[], WirePositions=[])),\n",
       " '_67A2574B-8146-464D-B93C-B9FCBCE913BC': ACLineSegment(mRID='_67A2574B-8146-464D-B93C-B9FCBCE913BC', aliasName=None, description=None, name='632633', Names=[], AssetDatasheet=None, Assets=[], Controls=[], Location=Location(mRID='_887ED44C-D0BE-413A-8182-FDEC5F287CE1', aliasName=None, description=None, name=None, Names=[], Assets=[], CoordinateSystem=None, Fault=[], Measurements=[], PowerSystemResources=[]), Measurements=['_a42d7bdf-0aaf-40a8-8c1f-96b9800d8c2d', '_b8b07618-5dd5-41f2-9f8f-0cfa5249fa7b', '_c661c480-5724-4c94-9b32-fcaa3a068495', '_0770d816-8945-4d8a-83ba-4befd0b1ceca', '_0cb3e0eb-8152-41e5-b812-ea180291cc17', '_2d7f29ef-3610-48be-a42b-759287015f89', '_62c46369-e4a4-44c8-bfbd-57753eda84f2', '_64d914aa-0de0-49c9-b2b5-b12c6412e1e0', '_d52476dc-6c4c-4cce-900c-6d15fb8e35de'], inService=None, Faults=[], OperationalLimitSet=[], BaseVoltage=BaseVoltage(mRID='_3CB8BE1F-37D8-4CC8-88BB-5C0D14D7D7B3', aliasName=None, description=None, name=None, Names=[], nominalVoltage=None, ConductingEquipment=[], TopologicalNode=[], TransformerEnds=[]), SvStatus=[], Terminals=['_2E9A8734-C4F8-4C76-8AF3-F0627DCBCBEB', '_EB08CE02-875B-4409-B16C-615D8F87D372'], length='152.4', b0ch=None, bch=None, g0ch=None, gch=None, r=None, r0=None, x=None, x0=None, ACLineSegmentPhases=['_18D18B0F-D77D-4BBA-95B1-9917C71FE01F', '_BC21D98C-54A6-4590-806E-AA93468A77A7', '_D86836B7-A6CF-4E85-9DA6-BCCAF88C9509', '_E03CE9A6-46A1-450D-ABD6-D9AB22849342'], PerLengthImpedance=None, WireSpacingInfo=WireSpacingInfo(mRID='_E804FC3A-4DE8-4497-B83D-EBE8974C791B', aliasName=None, description=None, name='602', Names=[], Assets=[], PowerSystemResources=[], isCable='false', phaseWireCount='1', phaseWireSpacing='0', ACLineSegments='_67A2574B-8146-464D-B93C-B9FCBCE913BC', WireAssemblyInfo=[], WirePositions=['_4646B654-2416-424E-B953-6D81AFA95358', '_62281BF1-8A90-4E20-B4D3-F2C679E8C20C', '_85BA2D54-B38B-458E-8C9C-CEB7D2BF8FD8', '_FDE19188-F0F1-4EFC-B0F1-FFE9391ADE02'])),\n",
       " '_6DEF3353-8276-402F-AC8E-3DEF4A396FFE': ACLineSegment(mRID='_6DEF3353-8276-402F-AC8E-3DEF4A396FFE', aliasName=None, description=None, name='650632', Names=[], AssetDatasheet=None, Assets=[], Controls=[], Location=Location(mRID='_932E8033-90CD-4719-9F3D-DC60B64B9F49', aliasName=None, description=None, name=None, Names=[], Assets=[], CoordinateSystem=None, Fault=[], Measurements=[], PowerSystemResources=[]), Measurements=['_0abf862b-2660-4ab1-ae2a-df11d7534b12', '_27978a6f-6576-4df1-b361-c282e7cd0318', '_2d3547e6-1386-41c3-b6d2-50beba7471c5', '_5fc02153-d0d0-4a93-9ece-f61afa811f62', '_d01caddf-1390-4819-a492-18846eae16b8', '_e07fbc4b-63ed-421d-9d5e-ea5d63fa200c'], inService=None, Faults=[], OperationalLimitSet=[], BaseVoltage=BaseVoltage(mRID='_3CB8BE1F-37D8-4CC8-88BB-5C0D14D7D7B3', aliasName=None, description=None, name=None, Names=[], nominalVoltage=None, ConductingEquipment=[], TopologicalNode=[], TransformerEnds=[]), SvStatus=[], Terminals=['_60290BDE-69A0-49FC-BEE2-B8C355B51330', '_82C4B32A-62D0-41FB-8A29-C64F3870E3EF'], length='609.6', b0ch=None, bch=None, g0ch=None, gch=None, r=None, r0=None, x=None, x0=None, ACLineSegmentPhases=['_0A0392F1-21ED-4AF5-8D42-44535B1A3ED1', '_3B8C7DC4-3770-4E5F-855F-04A26B9D5F5F', '_4131283B-4405-4490-B43D-D6BB184CCD34', '_65555B1A-1EDD-4E63-BB54-B566B14C939E'], PerLengthImpedance=None, WireSpacingInfo=WireSpacingInfo(mRID='_516D90DD-274F-4A22-BD8E-44F2845D3B61', aliasName=None, description=None, name=None, Names=[], Assets=[], PowerSystemResources=[], isCable=None, phaseWireCount=None, phaseWireSpacing=None, ACLineSegments=[], WireAssemblyInfo=[], WirePositions=[])),\n",
       " '_6EBB2188-CBE1-4FEC-9406-83DE8E61F9CB': ACLineSegment(mRID='_6EBB2188-CBE1-4FEC-9406-83DE8E61F9CB', aliasName=None, description=None, name='692675', Names=[], AssetDatasheet=None, Assets=[], Controls=[], Location=Location(mRID='_6D36746B-C083-4CE2-87DD-256D6C668613', aliasName=None, description=None, name=None, Names=[], Assets=[], CoordinateSystem=None, Fault=[], Measurements=[], PowerSystemResources=[]), Measurements=['_18b33a13-c766-48f2-af7a-09027fd38693', '_4e706e09-bcd3-4177-8936-8981552cfd0f', '_6fa6beec-44fd-487c-b8ec-592c5e2e7ff4'], inService=None, Faults=[], OperationalLimitSet=[], BaseVoltage=BaseVoltage(mRID='_3CB8BE1F-37D8-4CC8-88BB-5C0D14D7D7B3', aliasName=None, description=None, name=None, Names=[], nominalVoltage=None, ConductingEquipment=[], TopologicalNode=[], TransformerEnds=[]), SvStatus=[], Terminals=['_FD181CFF-8F3F-43E0-96D4-FA80E71D6A2E', '_30DE3992-164E-4202-9928-92BB035621B3'], length='152.4', b0ch=None, bch=None, g0ch=None, gch=None, r=None, r0=None, x=None, x0=None, ACLineSegmentPhases=['_35FF14DC-7F66-44F6-A767-32F3D382C173', '_C3AAFFD5-8C98-4DB5-8E6C-DC99E345D13C', '_C7529946-755B-4322-950A-AE9FD9D9F1F6'], PerLengthImpedance=None, WireSpacingInfo=WireSpacingInfo(mRID='_48A5C17E-B098-446D-B26F-2D1B198ED260', aliasName=None, description=None, name='606', Names=[], Assets=[], PowerSystemResources=[], isCable='true', phaseWireCount='1', phaseWireSpacing='0', ACLineSegments='_6EBB2188-CBE1-4FEC-9406-83DE8E61F9CB', WireAssemblyInfo=[], WirePositions=['_EB553355-584D-43F2-8AD5-47B1A1F1B541', '_F4D126B4-B9FC-4B36-BEA1-D395A50F56EB', '_F6713734-1CA5-4465-BDE3-E68E90F2AD57'])),\n",
       " '_8A62F620-7C58-4662-AE5C-F41F5E3F0022': ACLineSegment(mRID='_8A62F620-7C58-4662-AE5C-F41F5E3F0022', aliasName=None, description=None, name='632670', Names=[], AssetDatasheet=None, Assets=[], Controls=[], Location=Location(mRID='_06B70B6D-EE1A-43C2-B45C-9FCEE475A889', aliasName=None, description=None, name=None, Names=[], Assets=[], CoordinateSystem=None, Fault=[], Measurements=[], PowerSystemResources=[]), Measurements=['_1989530e-5778-4962-a858-aef4251e9754', '_793c5342-d2b9-4647-a721-12e5b700888b', '_bcc68f5a-b375-406a-b986-7cca94687ac0', '_36b7ab12-858c-41d2-b9a3-904b4156d5ac', '_cad1e7e5-ef37-40b4-83a5-6199cb891ffd', '_cb260fda-a67c-4def-b663-b4584073dc2e'], inService=None, Faults=[], OperationalLimitSet=[], BaseVoltage=BaseVoltage(mRID='_3CB8BE1F-37D8-4CC8-88BB-5C0D14D7D7B3', aliasName=None, description=None, name=None, Names=[], nominalVoltage=None, ConductingEquipment=[], TopologicalNode=[], TransformerEnds=[]), SvStatus=[], Terminals=['_CE8A51BA-8160-4AAA-907B-853BD19141E3', '_B6000E34-260D-470F-B6F4-069DBEC65631'], length='203.3016', b0ch=None, bch=None, g0ch=None, gch=None, r=None, r0=None, x=None, x0=None, ACLineSegmentPhases=['_5ACFD5E9-FC70-47F2-9B90-9520D849FC22', '_6B14CFBF-7C00-435A-9327-2930D30591CC', '_C1E80A57-436B-47DB-B64A-2C0FE569D2BF', '_E7BAEADD-0D09-427C-A790-3819ED4656D0'], PerLengthImpedance=None, WireSpacingInfo=WireSpacingInfo(mRID='_516D90DD-274F-4A22-BD8E-44F2845D3B61', aliasName=None, description=None, name='601', Names=[], Assets=[], PowerSystemResources=[], isCable='false', phaseWireCount='1', phaseWireSpacing='0', ACLineSegments=['_6DEF3353-8276-402F-AC8E-3DEF4A396FFE', '_8A62F620-7C58-4662-AE5C-F41F5E3F0022', '_4774208A-B9AB-4051-8BC9-4F7C8EA6552A', '_603106B5-1DC7-40B1-A264-98774F6FD16D'], WireAssemblyInfo=[], WirePositions=['_64D89EF8-60E7-486A-8BA8-27A2DDCB28C7', '_7C4CB7EC-4ED3-497F-9106-B1B8364E4627', '_CBFEC50B-A94A-4B42-A83A-45FC25B11F9D', '_F0677038-7445-4F72-BB1C-FD9B406B2E1F'])),\n",
       " '_8C536493-14B8-41D0-8EE4-CAE4DFF33839': ACLineSegment(mRID='_8C536493-14B8-41D0-8EE4-CAE4DFF33839', aliasName=None, description=None, name='684611', Names=[], AssetDatasheet=None, Assets=[], Controls=[], Location=Location(mRID='_5D45993D-7DA8-4193-8E80-1F783DE4CA5C', aliasName=None, description=None, name=None, Names=[], Assets=[], CoordinateSystem=None, Fault=[], Measurements=[], PowerSystemResources=[]), Measurements=['_a5d0b44f-b9b9-481e-a909-876486e5d1f0'], inService=None, Faults=[], OperationalLimitSet=[], BaseVoltage=BaseVoltage(mRID='_3CB8BE1F-37D8-4CC8-88BB-5C0D14D7D7B3', aliasName=None, description=None, name=None, Names=[], nominalVoltage=None, ConductingEquipment=[], TopologicalNode=[], TransformerEnds=[]), SvStatus=[], Terminals=['_DEE28585-C381-4C31-8F9A-D6E138130719', '_53964AFB-BE4E-4890-A694-957172605378'], length='91.44', b0ch=None, bch=None, g0ch=None, gch=None, r=None, r0=None, x=None, x0=None, ACLineSegmentPhases=['_59EB46DC-3D44-46C8-AFA6-13845A36D90F', '_D0B319EB-B001-4C89-A605-E2BC1813DE92'], PerLengthImpedance=None, WireSpacingInfo=WireSpacingInfo(mRID='_7FAE2DF5-CDFB-4268-945E-27EB8AE81220', aliasName=None, description=None, name='510', Names=[], Assets=[], PowerSystemResources=[], isCable='false', phaseWireCount='1', phaseWireSpacing='0', ACLineSegments='_8C536493-14B8-41D0-8EE4-CAE4DFF33839', WireAssemblyInfo=[], WirePositions=['_BC5A7CC3-06EA-4812-AB72-915000CF392C', '_E72A5E73-15F0-4FE5-BFFE-D4C9491106DA'])),\n",
       " '_A98417B1-4A7F-484F-97C8-9B91F29A26F1': ACLineSegment(mRID='_A98417B1-4A7F-484F-97C8-9B91F29A26F1', aliasName=None, description=None, name='632645', Names=[], AssetDatasheet=None, Assets=[], Controls=[], Location=Location(mRID='_DE19C1E0-C2FF-41BF-B897-1DBB7E7BFBCC', aliasName=None, description=None, name=None, Names=[], Assets=[], CoordinateSystem=None, Fault=[], Measurements=[], PowerSystemResources=[]), Measurements=['_1d79be5f-ebf8-4d48-9d24-ad539a097ab7', '_93df2b7e-fe08-4ff6-aee2-6376188e8900', '_1c2590c9-c7b0-4090-94b8-43e9b2f15477', '_b95a705b-041e-4ef3-b278-65c7e3311cf7'], inService=None, Faults=[], OperationalLimitSet=[], BaseVoltage=BaseVoltage(mRID='_3CB8BE1F-37D8-4CC8-88BB-5C0D14D7D7B3', aliasName=None, description=None, name=None, Names=[], nominalVoltage=None, ConductingEquipment=[], TopologicalNode=[], TransformerEnds=[]), SvStatus=[], Terminals=['_E34BA9AE-07FD-4350-B7F3-325DD010A768', '_3242BCAC-B8AB-4548-888E-5EA967691090'], length='152.4', b0ch=None, bch=None, g0ch=None, gch=None, r=None, r0=None, x=None, x0=None, ACLineSegmentPhases=['_1B069F72-70D6-4C4D-8E5E-FA7BB969BA5B', '_80DA0453-CB4D-4FAF-95F6-F55BC1FD4025', '_A8AA2ADE-C485-4D0E-A373-CEFAD7BBDC11'], PerLengthImpedance=None, WireSpacingInfo=WireSpacingInfo(mRID='_3B22E834-067C-49EA-A4C0-5AA2E616DCB7', aliasName=None, description=None, name='603', Names=[], Assets=[], PowerSystemResources=[], isCable='false', phaseWireCount='1', phaseWireSpacing='0', ACLineSegments='_A98417B1-4A7F-484F-97C8-9B91F29A26F1', WireAssemblyInfo=[], WirePositions=['_653FC442-0178-4505-92D4-EAA951EE7A88', '_CE66BE7F-0E19-422F-B7EA-FC9CB9CD7EAD', '_F9025E70-6779-47ED-87F1-FE509E35E112'])),\n",
       " '_E062E187-F149-4555-8E27-2EE0C9D75274': ACLineSegment(mRID='_E062E187-F149-4555-8E27-2EE0C9D75274', aliasName=None, description=None, name='684652', Names=[], AssetDatasheet=None, Assets=[], Controls=[], Location=Location(mRID='_98B2C178-838C-4E35-9686-D4E91B664C9F', aliasName=None, description=None, name=None, Names=[], Assets=[], CoordinateSystem=None, Fault=[], Measurements=[], PowerSystemResources=[]), Measurements=['_61e76d6c-e093-46d6-a248-fb5a9388b716', '_5c7addc5-0962-448a-9bb1-f289e6e14b73'], inService=None, Faults=[], OperationalLimitSet=[], BaseVoltage=BaseVoltage(mRID='_3CB8BE1F-37D8-4CC8-88BB-5C0D14D7D7B3', aliasName=None, description=None, name=None, Names=[], nominalVoltage=None, ConductingEquipment=[], TopologicalNode=[], TransformerEnds=[]), SvStatus=[], Terminals=['_AF8E4B1E-76E3-4B5D-9505-E73E89BEDB1C', '_CE782974-DCE7-4E04-8623-D139AE89EC0F'], length='243.84', b0ch=None, bch=None, g0ch=None, gch=None, r=None, r0=None, x=None, x0=None, ACLineSegmentPhases=['_6F8BB3D7-5626-4978-8ADF-2D426CEB916D', '_B65BD02D-760B-451F-81C6-C8FA78478899'], PerLengthImpedance=None, WireSpacingInfo=WireSpacingInfo(mRID='_42F6BF8A-F301-476D-A18B-7EC0BF7A5DE3', aliasName=None, description=None, name='607', Names=[], Assets=[], PowerSystemResources=[], isCable='true', phaseWireCount='1', phaseWireSpacing='0', ACLineSegments='_E062E187-F149-4555-8E27-2EE0C9D75274', WireAssemblyInfo=[], WirePositions=['_82490A3B-4EBD-409F-9C34-4A023C6A35C9', '_B46A84A9-7FC5-48F6-82E1-D22698CFFEDC']))}"
      ]
     },
     "execution_count": 32,
     "metadata": {},
     "output_type": "execute_result"
    }
   ],
   "source": [
    "#ridAPPSD Agent Side\n",
    "bg.create_default_instances(feeder.mRID, network.typed_catalog[cim.WireSpacingInfo]['_E804FC3A-4DE8-4497-B83D-EBE8974C791B'].WirePositions)\n",
    "network.get_all_attributes(cim.WirePosition)\n",
    "network.typed_catalog[cim.ACLineSegment]"
   ]
  },
  {
   "cell_type": "code",
   "execution_count": 30,
   "metadata": {},
   "outputs": [
    {
     "data": {
      "text/plain": [
       "{'_6EBB2188-CBE1-4FEC-9406-83DE8E61F9CB': {'mRID': '_6EBB2188-CBE1-4FEC-9406-83DE8E61F9CB',\n",
       "  'aliasName': '',\n",
       "  'description': '',\n",
       "  'name': '692675',\n",
       "  'Names': [],\n",
       "  'AssetDatasheet': '',\n",
       "  'Assets': [],\n",
       "  'Controls': [],\n",
       "  'Location': {'mRID': '_6D36746B-C083-4CE2-87DD-256D6C668613',\n",
       "   'aliasName': None,\n",
       "   'description': None,\n",
       "   'name': None,\n",
       "   'Names': [],\n",
       "   'Assets': [],\n",
       "   'CoordinateSystem': None,\n",
       "   'Fault': [],\n",
       "   'Measurements': [],\n",
       "   'PowerSystemResources': []},\n",
       "  'Measurements': ['_18b33a13-c766-48f2-af7a-09027fd38693',\n",
       "   '_4e706e09-bcd3-4177-8936-8981552cfd0f',\n",
       "   '_6fa6beec-44fd-487c-b8ec-592c5e2e7ff4'],\n",
       "  'inService': '',\n",
       "  'Faults': [],\n",
       "  'OperationalLimitSet': [],\n",
       "  'BaseVoltage': {'mRID': '_3CB8BE1F-37D8-4CC8-88BB-5C0D14D7D7B3',\n",
       "   'aliasName': None,\n",
       "   'description': None,\n",
       "   'name': None,\n",
       "   'Names': [],\n",
       "   'nominalVoltage': None,\n",
       "   'ConductingEquipment': [],\n",
       "   'TopologicalNode': [],\n",
       "   'TransformerEnds': []},\n",
       "  'SvStatus': [],\n",
       "  'Terminals': ['_30DE3992-164E-4202-9928-92BB035621B3',\n",
       "   '_FD181CFF-8F3F-43E0-96D4-FA80E71D6A2E'],\n",
       "  'length': '152.4',\n",
       "  'b0ch': '',\n",
       "  'bch': '',\n",
       "  'g0ch': '',\n",
       "  'gch': '',\n",
       "  'r': '',\n",
       "  'r0': '',\n",
       "  'x': '',\n",
       "  'x0': '',\n",
       "  'ACLineSegmentPhases': ['_35FF14DC-7F66-44F6-A767-32F3D382C173',\n",
       "   '_C3AAFFD5-8C98-4DB5-8E6C-DC99E345D13C',\n",
       "   '_C7529946-755B-4322-950A-AE9FD9D9F1F6'],\n",
       "  'PerLengthImpedance': '',\n",
       "  'WireSpacingInfo': {'mRID': '_48A5C17E-B098-446D-B26F-2D1B198ED260',\n",
       "   'aliasName': None,\n",
       "   'description': None,\n",
       "   'name': '606',\n",
       "   'Names': [],\n",
       "   'Assets': [],\n",
       "   'PowerSystemResources': [],\n",
       "   'isCable': 'true',\n",
       "   'phaseWireCount': '1',\n",
       "   'phaseWireSpacing': '0',\n",
       "   'ACLineSegments': '_6EBB2188-CBE1-4FEC-9406-83DE8E61F9CB',\n",
       "   'WireAssemblyInfo': [],\n",
       "   'WirePositions': ['_EB553355-584D-43F2-8AD5-47B1A1F1B541',\n",
       "    '_F4D126B4-B9FC-4B36-BEA1-D395A50F56EB',\n",
       "    '_F6713734-1CA5-4465-BDE3-E68E90F2AD57'],\n",
       "   'usage': 'http://iec.ch/TC57/CIM100#WireUsageKind.distribution'}}}"
      ]
     },
     "execution_count": 30,
     "metadata": {},
     "output_type": "execute_result"
    }
   ],
   "source": [
    "json.loads(network.switch_areas[0].__dumps__(cim.ACLineSegment))\n"
   ]
  },
  {
   "cell_type": "code",
   "execution_count": null,
   "metadata": {},
   "outputs": [],
   "source": [
    "# App Side\n",
    "# contextmanager.typed_catalog[cim.ACLineSegment]"
   ]
  },
  {
   "cell_type": "code",
   "execution_count": null,
   "metadata": {},
   "outputs": [],
   "source": [
    "json.loads(network.switch_areas[0].secondary_areas[0].__dumps__(cim.EnergyConsumerPhase))"
   ]
  },
  {
   "cell_type": "code",
   "execution_count": 37,
   "metadata": {},
   "outputs": [
    {
     "data": {
      "text/plain": [
       "['List', 'ACLineSegmentPhase]']"
      ]
     },
     "execution_count": 37,
     "metadata": {},
     "output_type": "execute_result"
    }
   ],
   "source": [
    "attribute = 'ACLineSegmentPhases'\n",
    "at_type = cim.ACLineSegment().__annotations__[attribute]\n",
    "at_type.split\n"
   ]
  },
  {
   "cell_type": "code",
   "execution_count": 38,
   "metadata": {},
   "outputs": [
    {
     "data": {
      "text/plain": [
       "{'b0ch': 'Optional[float]',\n",
       " 'bch': 'Optional[float]',\n",
       " 'g0ch': 'Optional[float]',\n",
       " 'gch': 'Optional[float]',\n",
       " 'r': 'Optional[float]',\n",
       " 'r0': 'Optional[float]',\n",
       " 'x': 'Optional[float]',\n",
       " 'x0': 'Optional[float]',\n",
       " 'ACLineSegmentPhases': 'List[ACLineSegmentPhase]',\n",
       " 'PerLengthImpedance': 'Optional[PerLengthImpedance]',\n",
       " 'WireSpacingInfo': 'Optional[WireSpacingInfo]'}"
      ]
     },
     "execution_count": 38,
     "metadata": {},
     "output_type": "execute_result"
    }
   ],
   "source": [
    ".__annotations__"
   ]
  }
 ],
 "metadata": {
  "kernelspec": {
   "display_name": "Python 3",
   "language": "python",
   "name": "python3"
  },
  "language_info": {
   "codemirror_mode": {
    "name": "ipython",
    "version": 3
   },
   "file_extension": ".py",
   "mimetype": "text/x-python",
   "name": "python",
   "nbconvert_exporter": "python",
   "pygments_lexer": "ipython3",
   "version": "3.7.4"
  }
 },
 "nbformat": 4,
 "nbformat_minor": 5
}
