{
 "cells": [
  {
   "cell_type": "code",
   "execution_count": 1,
   "metadata": {},
   "outputs": [],
   "source": [
    "from cim.loaders import Parameter, ConnectionParameters\n",
    "from cim.loaders.blazegraph.blazegraph import BlazegraphConnection\n",
    "from cim.loaders.gridappsd import GridappsdConnection, get_topology_response\n",
    "from cim.models.distributed_model import DistributedModel\n",
    "import cim.data_profile as cim\n",
    "import json\n"
   ]
  },
  {
   "cell_type": "code",
   "execution_count": 2,
   "metadata": {},
   "outputs": [],
   "source": [
    "# Blazegraph connection for running inside the container\n",
    "params = ConnectionParameters([Parameter(key=\"url\", value=\"http://blazegraph:8080/bigdata/namespace/kb/sparql\")])\n",
    "bg = BlazegraphConnection(params)"
   ]
  },
  {
   "cell_type": "code",
   "execution_count": 3,
   "metadata": {},
   "outputs": [],
   "source": [
    "# Blazegraph connection for running outside the container\n",
    "params = ConnectionParameters([Parameter(key=\"url\", value=\"http://localhost:8889/bigdata/namespace/kb/sparql\")])\n",
    "bg = BlazegraphConnection(params)"
   ]
  },
  {
   "cell_type": "code",
   "execution_count": 4,
   "metadata": {},
   "outputs": [],
   "source": [
    "#feeder_mrid = \"_C1C3E687-6FFD-C753-582B-632A27E28507\"  # 123 bus\n",
    "# feeder_mrid = \"_49AD8E07-3BF9-A4E2-CB8F-C3722F837B62\"  # 13 bus\n",
    "feeder_mrid = \"_5B816B93-7A5F-B64C-8460-47C17D6E4B0F\" # 13 bus asets\n",
    "#feeder_mrid = \"_4F76A5F9-271D-9EB8-5E31-AA362D86F2C3\"  # 8500 node\n",
    "#feeder_mrid = \"_67AB291F-DCCD-31B7-B499-338206B9828F\" # J1\n",
    "#feeder_mrid = \"_9CE150A8-8CC5-A0F9-B67E-BBD8C79D3095\"  # R2 12.47 3\n",
    "#feeder_mrid = \"_EE71F6C9-56F0-4167-A14E-7F4C71F10EAA\" #9500 node"
   ]
  },
  {
   "cell_type": "code",
   "execution_count": 5,
   "metadata": {},
   "outputs": [],
   "source": [
    "feeder = cim.Feeder(mRID=feeder_mrid)"
   ]
  },
  {
   "cell_type": "code",
   "execution_count": 6,
   "metadata": {},
   "outputs": [],
   "source": [
    "topology_response = get_topology_response(feeder_mrid)\n",
    "# with open('topo_message.json') as topo_file:\n",
    "#     topology_response = json.load(topo_file)\n"
   ]
  },
  {
   "cell_type": "code",
   "execution_count": 7,
   "metadata": {},
   "outputs": [
    {
     "name": "stdout",
     "output_type": "stream",
     "text": [
      "LinearShuntCompensator\n",
      "PowerTransformer\n",
      "LoadBreakSwitch\n",
      "warning: object class missing from data profile: Analog\n",
      "warning: object class missing from data profile: Analog\n",
      "warning: object class missing from data profile: Analog\n",
      "warning: object class missing from data profile: Analog\n",
      "warning: object class missing from data profile: Analog\n",
      "warning: object class missing from data profile: Analog\n",
      "warning: object class missing from data profile: Analog\n",
      "warning: object class missing from data profile: Analog\n",
      "warning: object class missing from data profile: Analog\n",
      "warning: object class missing from data profile: Analog\n",
      "warning: object class missing from data profile: Analog\n",
      "warning: object class missing from data profile: Analog\n",
      "warning: object class missing from data profile: Analog\n",
      "warning: object class missing from data profile: Analog\n",
      "warning: object class missing from data profile: Analog\n",
      "warning: object class missing from data profile: Analog\n",
      "warning: object class missing from data profile: Analog\n",
      "warning: object class missing from data profile: Analog\n",
      "warning: object class missing from data profile: Analog\n",
      "warning: object class missing from data profile: Analog\n",
      "warning: object class missing from data profile: Discrete\n",
      "warning: object class missing from data profile: Discrete\n",
      "warning: object class missing from data profile: Discrete\n",
      "warning: object class missing from data profile: Discrete\n",
      "warning: object class missing from data profile: Analog\n",
      "warning: object class missing from data profile: Analog\n",
      "warning: object class missing from data profile: Analog\n",
      "warning: object class missing from data profile: Analog\n",
      "warning: object class missing from data profile: Analog\n",
      "warning: object class missing from data profile: Analog\n",
      "warning: object class missing from data profile: Discrete\n",
      "warning: object class missing from data profile: Discrete\n",
      "warning: object class missing from data profile: Analog\n",
      "warning: object class missing from data profile: Discrete\n",
      "warning: object class missing from data profile: Analog\n",
      "warning: object class missing from data profile: Discrete\n",
      "warning: object class missing from data profile: Discrete\n",
      "warning: object class missing from data profile: Discrete\n",
      "warning: object class missing from data profile: Analog\n",
      "warning: object class missing from data profile: Analog\n",
      "warning: object class missing from data profile: Analog\n",
      "ACLineSegment\n",
      "TransformerTank\n",
      "ACLineSegment\n",
      "TransformerTank\n",
      "ACLineSegment\n",
      "ACLineSegment\n",
      "ACLineSegment\n",
      "TransformerTank\n",
      "ACLineSegment\n",
      "ACLineSegment\n",
      "TransformerTank\n",
      "ACLineSegment\n",
      "ACLineSegment\n",
      "ACLineSegment\n",
      "TransformerTank\n",
      "ACLineSegment\n",
      "warning: object class missing from data profile: Analog\n",
      "warning: object class missing from data profile: Analog\n",
      "warning: object class missing from data profile: Analog\n",
      "warning: object class missing from data profile: Analog\n",
      "warning: object class missing from data profile: Analog\n",
      "warning: object class missing from data profile: Analog\n",
      "warning: object class missing from data profile: Analog\n",
      "warning: object class missing from data profile: Analog\n",
      "warning: object class missing from data profile: Analog\n",
      "warning: object class missing from data profile: Analog\n",
      "warning: object class missing from data profile: Analog\n",
      "warning: object class missing from data profile: Analog\n",
      "warning: object class missing from data profile: Analog\n",
      "warning: object class missing from data profile: Analog\n",
      "warning: object class missing from data profile: Analog\n",
      "warning: object class missing from data profile: Analog\n",
      "warning: object class missing from data profile: Analog\n",
      "warning: object class missing from data profile: Analog\n",
      "warning: object class missing from data profile: Analog\n",
      "warning: object class missing from data profile: Analog\n",
      "warning: object class missing from data profile: Analog\n",
      "warning: object class missing from data profile: Analog\n",
      "warning: object class missing from data profile: Analog\n",
      "warning: object class missing from data profile: Analog\n",
      "warning: object class missing from data profile: Analog\n",
      "warning: object class missing from data profile: Analog\n",
      "warning: object class missing from data profile: Analog\n",
      "warning: object class missing from data profile: Analog\n",
      "warning: object class missing from data profile: Analog\n",
      "warning: object class missing from data profile: Analog\n",
      "warning: object class missing from data profile: Analog\n",
      "warning: object class missing from data profile: Analog\n",
      "warning: object class missing from data profile: Analog\n",
      "warning: object class missing from data profile: Analog\n",
      "warning: object class missing from data profile: Analog\n",
      "warning: object class missing from data profile: Analog\n",
      "warning: object class missing from data profile: Analog\n",
      "warning: object class missing from data profile: Analog\n",
      "warning: object class missing from data profile: Analog\n",
      "warning: object class missing from data profile: Analog\n",
      "warning: object class missing from data profile: Analog\n",
      "warning: object class missing from data profile: Analog\n",
      "warning: object class missing from data profile: Analog\n",
      "warning: object class missing from data profile: Analog\n",
      "warning: object class missing from data profile: Analog\n",
      "warning: object class missing from data profile: Analog\n",
      "warning: object class missing from data profile: Analog\n",
      "warning: object class missing from data profile: Analog\n",
      "warning: object class missing from data profile: Analog\n",
      "warning: object class missing from data profile: Analog\n",
      "warning: object class missing from data profile: Analog\n",
      "warning: object class missing from data profile: Analog\n",
      "warning: object class missing from data profile: Analog\n",
      "warning: object class missing from data profile: Analog\n",
      "warning: object class missing from data profile: Analog\n",
      "warning: object class missing from data profile: Analog\n",
      "warning: object class missing from data profile: Analog\n",
      "warning: object class missing from data profile: Analog\n",
      "warning: object class missing from data profile: Analog\n",
      "warning: object class missing from data profile: Analog\n",
      "warning: object class missing from data profile: Analog\n",
      "warning: object class missing from data profile: Analog\n",
      "warning: object class missing from data profile: Analog\n",
      "warning: object class missing from data profile: Analog\n",
      "warning: object class missing from data profile: Analog\n",
      "warning: object class missing from data profile: Analog\n",
      "warning: object class missing from data profile: Analog\n",
      "warning: object class missing from data profile: Analog\n",
      "ConnectivityNode\n",
      "ConnectivityNode\n",
      "ConnectivityNode\n",
      "ConnectivityNode\n",
      "ConnectivityNode\n",
      "ConnectivityNode\n",
      "ConnectivityNode\n",
      "ConnectivityNode\n",
      "ConnectivityNode\n",
      "ConnectivityNode\n",
      "ConnectivityNode\n",
      "ConnectivityNode\n",
      "ConnectivityNode\n",
      "ConnectivityNode\n",
      "LinearShuntCompensator\n",
      "ACLineSegment\n",
      "warning: object class missing from data profile: Analog\n",
      "warning: object class missing from data profile: Analog\n",
      "warning: object class missing from data profile: Analog\n",
      "warning: object class missing from data profile: Analog\n",
      "warning: object class missing from data profile: Analog\n",
      "warning: object class missing from data profile: Analog\n",
      "warning: object class missing from data profile: Analog\n",
      "warning: object class missing from data profile: Analog\n",
      "warning: object class missing from data profile: Analog\n",
      "warning: object class missing from data profile: Analog\n",
      "warning: object class missing from data profile: Analog\n",
      "warning: object class missing from data profile: Analog\n",
      "warning: object class missing from data profile: Analog\n",
      "warning: object class missing from data profile: Analog\n",
      "warning: object class missing from data profile: Discrete\n",
      "warning: object class missing from data profile: Analog\n",
      "warning: object class missing from data profile: Analog\n",
      "warning: object class missing from data profile: Analog\n",
      "warning: object class missing from data profile: Analog\n",
      "warning: object class missing from data profile: Discrete\n",
      "warning: object class missing from data profile: Analog\n",
      "warning: object class missing from data profile: Discrete\n",
      "warning: object class missing from data profile: Analog\n",
      "ConnectivityNode\n",
      "ConnectivityNode\n",
      "LoadBreakSwitch\n"
     ]
    }
   ],
   "source": [
    "network = DistributedModel(connection=bg, feeder=feeder, topology=topology_response)"
   ]
  },
  {
   "cell_type": "code",
   "execution_count": 8,
   "metadata": {},
   "outputs": [
    {
     "ename": "IndexError",
     "evalue": "list index out of range",
     "output_type": "error",
     "traceback": [
      "\u001b[0;31m---------------------------------------------------------------------------\u001b[0m",
      "\u001b[0;31mIndexError\u001b[0m                                Traceback (most recent call last)",
      "\u001b[0;32m<ipython-input-8-b8c63f91b2fb>\u001b[0m in \u001b[0;36m<module>\u001b[0;34m\u001b[0m\n\u001b[1;32m      1\u001b[0m \u001b[0;31m# network.switch_areas[0].get_all_attributes(cim.LinearShuntCompensator)\u001b[0m\u001b[0;34m\u001b[0m\u001b[0;34m\u001b[0m\u001b[0;34m\u001b[0m\u001b[0m\n\u001b[0;32m----> 2\u001b[0;31m \u001b[0mnetwork\u001b[0m\u001b[0;34m.\u001b[0m\u001b[0mswitch_areas\u001b[0m\u001b[0;34m[\u001b[0m\u001b[0;36m1\u001b[0m\u001b[0;34m]\u001b[0m\u001b[0;34m.\u001b[0m\u001b[0msecondary_areas\u001b[0m\u001b[0;34m[\u001b[0m\u001b[0;36m0\u001b[0m\u001b[0;34m]\u001b[0m\u001b[0;34m.\u001b[0m\u001b[0mget_all_attributes\u001b[0m\u001b[0;34m(\u001b[0m\u001b[0mcim\u001b[0m\u001b[0;34m.\u001b[0m\u001b[0mEnergyConsumer\u001b[0m\u001b[0;34m)\u001b[0m\u001b[0;34m\u001b[0m\u001b[0;34m\u001b[0m\u001b[0m\n\u001b[0m\u001b[1;32m      3\u001b[0m \u001b[0;31m# network.switch_areas[0].get_all_attributes(cim.WireSpacingInfo)\u001b[0m\u001b[0;34m\u001b[0m\u001b[0;34m\u001b[0m\u001b[0;34m\u001b[0m\u001b[0m\n\u001b[1;32m      4\u001b[0m \u001b[0mprint\u001b[0m\u001b[0;34m(\u001b[0m\u001b[0;34m'p = '\u001b[0m\u001b[0;34m,\u001b[0m \u001b[0mnetwork\u001b[0m\u001b[0;34m.\u001b[0m\u001b[0mswitch_areas\u001b[0m\u001b[0;34m[\u001b[0m\u001b[0;36m1\u001b[0m\u001b[0;34m]\u001b[0m\u001b[0;34m.\u001b[0m\u001b[0msecondary_areas\u001b[0m\u001b[0;34m[\u001b[0m\u001b[0;36m0\u001b[0m\u001b[0;34m]\u001b[0m\u001b[0;34m.\u001b[0m\u001b[0mtyped_catalog\u001b[0m\u001b[0;34m[\u001b[0m\u001b[0mcim\u001b[0m\u001b[0;34m.\u001b[0m\u001b[0mEnergyConsumer\u001b[0m\u001b[0;34m]\u001b[0m\u001b[0;34m[\u001b[0m\u001b[0;34m'_3B2021A7-4BFC-418D-9C20-BD6838E52CF8'\u001b[0m\u001b[0;34m]\u001b[0m\u001b[0;34m.\u001b[0m\u001b[0mp\u001b[0m\u001b[0;34m)\u001b[0m\u001b[0;34m\u001b[0m\u001b[0;34m\u001b[0m\u001b[0m\n\u001b[1;32m      5\u001b[0m \u001b[0mprint\u001b[0m\u001b[0;34m(\u001b[0m\u001b[0;34m'q = '\u001b[0m\u001b[0;34m,\u001b[0m \u001b[0mnetwork\u001b[0m\u001b[0;34m.\u001b[0m\u001b[0mswitch_areas\u001b[0m\u001b[0;34m[\u001b[0m\u001b[0;36m1\u001b[0m\u001b[0;34m]\u001b[0m\u001b[0;34m.\u001b[0m\u001b[0msecondary_areas\u001b[0m\u001b[0;34m[\u001b[0m\u001b[0;36m0\u001b[0m\u001b[0;34m]\u001b[0m\u001b[0;34m.\u001b[0m\u001b[0mtyped_catalog\u001b[0m\u001b[0;34m[\u001b[0m\u001b[0mcim\u001b[0m\u001b[0;34m.\u001b[0m\u001b[0mEnergyConsumer\u001b[0m\u001b[0;34m]\u001b[0m\u001b[0;34m[\u001b[0m\u001b[0;34m'_3B2021A7-4BFC-418D-9C20-BD6838E52CF8'\u001b[0m\u001b[0;34m]\u001b[0m\u001b[0;34m.\u001b[0m\u001b[0mq\u001b[0m\u001b[0;34m)\u001b[0m\u001b[0;34m\u001b[0m\u001b[0;34m\u001b[0m\u001b[0m\n",
      "\u001b[0;31mIndexError\u001b[0m: list index out of range"
     ]
    }
   ],
   "source": [
    "# network.switch_areas[0].get_all_attributes(cim.LinearShuntCompensator)\n",
    "network.switch_areas[1].secondary_areas[0].get_all_attributes(cim.EnergyConsumer)\n",
    "# network.switch_areas[0].get_all_attributes(cim.WireSpacingInfo)\n",
    "print('p = ', network.switch_areas[1].secondary_areas[0].typed_catalog[cim.EnergyConsumer]['_3B2021A7-4BFC-418D-9C20-BD6838E52CF8'].p)\n",
    "print('q = ', network.switch_areas[1].secondary_areas[0].typed_catalog[cim.EnergyConsumer]['_3B2021A7-4BFC-418D-9C20-BD6838E52CF8'].q)\n",
    "print(network.switch_areas[1].secondary_areas[0].typed_catalog[cim.EnergyConsumer]['_3B2021A7-4BFC-418D-9C20-BD6838E52CF8'].Terminals)"
   ]
  },
  {
   "cell_type": "code",
   "execution_count": 10,
   "metadata": {},
   "outputs": [
    {
     "name": "stdout",
     "output_type": "stream",
     "text": [
      "warning: object class missing from data profile: Analog\n",
      "warning: object class missing from data profile: Analog\n",
      "warning: object class missing from data profile: Analog\n",
      "warning: object class missing from data profile: Analog\n",
      "warning: object class missing from data profile: Analog\n",
      "warning: object class missing from data profile: Analog\n",
      "warning: object class missing from data profile: Analog\n",
      "warning: object class missing from data profile: Analog\n",
      "warning: object class missing from data profile: Analog\n",
      "warning: object class missing from data profile: Analog\n",
      "warning: object class missing from data profile: Analog\n",
      "warning: object class missing from data profile: Analog\n",
      "warning: object class missing from data profile: Analog\n",
      "warning: object class missing from data profile: Analog\n",
      "warning: object class missing from data profile: Analog\n",
      "warning: object class missing from data profile: Analog\n",
      "warning: object class missing from data profile: Analog\n",
      "warning: object class missing from data profile: Analog\n",
      "warning: object class missing from data profile: Analog\n",
      "warning: object class missing from data profile: PerLengthPhaseImpedance\n",
      "warning: object class missing from data profile: Analog\n",
      "warning: object class missing from data profile: Analog\n",
      "warning: object class missing from data profile: Analog\n",
      "warning: object class missing from data profile: Analog\n",
      "warning: object class missing from data profile: Analog\n",
      "warning: object class missing from data profile: Analog\n",
      "warning: object class missing from data profile: Analog\n",
      "warning: object class missing from data profile: Analog\n",
      "warning: object class missing from data profile: Analog\n",
      "warning: object class missing from data profile: Analog\n",
      "warning: object class missing from data profile: Analog\n",
      "warning: object class missing from data profile: Analog\n",
      "warning: object class missing from data profile: Analog\n",
      "warning: object class missing from data profile: Analog\n",
      "warning: object class missing from data profile: Analog\n",
      "warning: object class missing from data profile: Analog\n",
      "warning: object class missing from data profile: Analog\n",
      "warning: object class missing from data profile: Analog\n",
      "warning: object class missing from data profile: Analog\n",
      "warning: object class missing from data profile: Analog\n",
      "warning: object class missing from data profile: Analog\n",
      "warning: object class missing from data profile: Analog\n",
      "warning: object class missing from data profile: Analog\n",
      "warning: object class missing from data profile: Analog\n",
      "warning: object class missing from data profile: Analog\n",
      "warning: object class missing from data profile: Analog\n",
      "warning: object class missing from data profile: Analog\n",
      "warning: object class missing from data profile: Analog\n",
      "warning: object class missing from data profile: Analog\n",
      "warning: object class missing from data profile: Analog\n",
      "warning: object class missing from data profile: Analog\n",
      "warning: object class missing from data profile: Analog\n",
      "warning: object class missing from data profile: Analog\n",
      "warning: object class missing from data profile: Analog\n",
      "warning: object class missing from data profile: Analog\n",
      "warning: object class missing from data profile: Analog\n",
      "warning: object class missing from data profile: Analog\n",
      "warning: object class missing from data profile: Analog\n",
      "warning: object class missing from data profile: Analog\n",
      "warning: object class missing from data profile: Analog\n",
      "warning: object class missing from data profile: Analog\n",
      "warning: object class missing from data profile: Analog\n",
      "warning: object class missing from data profile: Analog\n",
      "warning: object class missing from data profile: Analog\n",
      "warning: object class missing from data profile: Analog\n",
      "warning: object class missing from data profile: Analog\n",
      "warning: object class missing from data profile: Analog\n",
      "warning: object class missing from data profile: Analog\n",
      "warning: object class missing from data profile: Analog\n",
      "warning: object class missing from data profile: Analog\n",
      "warning: object class missing from data profile: Analog\n",
      "warning: object class missing from data profile: Analog\n",
      "warning: object class missing from data profile: Analog\n",
      "warning: object class missing from data profile: Analog\n",
      "warning: object class missing from data profile: Analog\n",
      "warning: object class missing from data profile: Analog\n",
      "warning: object class missing from data profile: Analog\n",
      "warning: object class missing from data profile: Analog\n",
      "warning: object class missing from data profile: Analog\n",
      "warning: object class missing from data profile: Analog\n",
      "warning: object class missing from data profile: Analog\n",
      "warning: object class missing from data profile: Analog\n",
      "warning: object class missing from data profile: Analog\n",
      "warning: object class missing from data profile: Analog\n",
      "warning: object class missing from data profile: Analog\n",
      "warning: object class missing from data profile: Analog\n",
      "warning: object class missing from data profile: Analog\n",
      "warning: object class missing from data profile: Analog\n",
      "warning: object class missing from data profile: Analog\n",
      "warning: object class missing from data profile: Analog\n",
      "warning: object class missing from data profile: Analog\n",
      "warning: object class missing from data profile: Analog\n",
      "warning: object class missing from data profile: Analog\n",
      "warning: object class missing from data profile: Analog\n",
      "warning: object class missing from data profile: Analog\n",
      "warning: object class missing from data profile: Analog\n",
      "warning: object class missing from data profile: Analog\n",
      "warning: object class missing from data profile: Analog\n",
      "warning: object class missing from data profile: Analog\n",
      "warning: object class missing from data profile: Analog\n",
      "warning: object class missing from data profile: Analog\n",
      "warning: object class missing from data profile: Analog\n",
      "warning: object class missing from data profile: Analog\n",
      "warning: object class missing from data profile: Analog\n",
      "warning: object class missing from data profile: Analog\n",
      "warning: object class missing from data profile: Analog\n",
      "warning: object class missing from data profile: Analog\n",
      "warning: object class missing from data profile: Analog\n",
      "warning: object class missing from data profile: Analog\n",
      "warning: object class missing from data profile: Analog\n",
      "warning: object class missing from data profile: Analog\n",
      "warning: object class missing from data profile: Analog\n",
      "warning: object class missing from data profile: Analog\n",
      "warning: object class missing from data profile: Analog\n",
      "warning: object class missing from data profile: Analog\n",
      "warning: object class missing from data profile: Analog\n",
      "warning: object class missing from data profile: Analog\n",
      "warning: object class missing from data profile: Analog\n",
      "warning: object class missing from data profile: Analog\n",
      "warning: object class missing from data profile: Analog\n",
      "warning: object class missing from data profile: Analog\n",
      "warning: object class missing from data profile: Analog\n",
      "warning: object class missing from data profile: Analog\n",
      "warning: object class missing from data profile: Analog\n",
      "warning: object class missing from data profile: Analog\n"
     ]
    }
   ],
   "source": [
    "network.get_all_attributes(cim.ACLineSegment)\n",
    "network.get_all_attributes(cim.ACLineSegmentPhase)\n",
    "network.get_all_attributes(cim.WireSpacingInfo)\n",
    "network.get_all_attributes(cim.WirePosition)"
   ]
  },
  {
   "cell_type": "code",
   "execution_count": 12,
   "metadata": {},
   "outputs": [],
   "source": [
    "network.get_all_attributes(cim.TapeShieldCableInfo)"
   ]
  },
  {
   "cell_type": "code",
   "execution_count": 13,
   "metadata": {},
   "outputs": [
    {
     "data": {
      "text/plain": [
       "{'_9EE93180-5EA6-42FC-8EC5-35B82D4F4D8C': {'mRID': '_9EE93180-5EA6-42FC-8EC5-35B82D4F4D8C',\n",
       "  'aliasName': '',\n",
       "  'description': '',\n",
       "  'name': 'ts_1/0',\n",
       "  'Names': [],\n",
       "  'Assets': [],\n",
       "  'PowerSystemResources': [],\n",
       "  'coreRadius': '0',\n",
       "  'coreStrandCount': '0',\n",
       "  'gmr': '0.00338328',\n",
       "  'insulated': 'true',\n",
       "  'insulationMaterial': 'crosslinkedPolyethylene',\n",
       "  'insulationThickness': '0.005588',\n",
       "  'material': '',\n",
       "  'rAC25': '0.00060274654',\n",
       "  'rAC50': '0.00060274654',\n",
       "  'rAC75': '0.00060274654',\n",
       "  'radius': '0.0046736',\n",
       "  'ratedCurrent': '165',\n",
       "  'rDC20': '0.00059092798',\n",
       "  'sizeDescription': 'TSData_ts_1/0',\n",
       "  'strandCount': '0',\n",
       "  'ACLineSegmentPhases': ['_B65BD02D-760B-451F-81C6-C8FA78478899'],\n",
       "  'WirePhaseInfo': [],\n",
       "  'constructionKind': '',\n",
       "  'diameterOverCore': '',\n",
       "  'diameterOverInsulation': '0.020828',\n",
       "  'diameterOverJacket': '0.026924',\n",
       "  'diameterOverScreen': '0.022098',\n",
       "  'isStrandFill': 'false',\n",
       "  'nominalTemperature': '90',\n",
       "  'outerJacketKind': '',\n",
       "  'sheathAsNeutral': 'true',\n",
       "  'shieldMaterial': '',\n",
       "  'tapeLap': '20',\n",
       "  'tapeThickness': '0.000127'}}"
      ]
     },
     "execution_count": 13,
     "metadata": {},
     "output_type": "execute_result"
    }
   ],
   "source": [
    "json.loads(network.__dumps__(cim.TapeShieldCableInfo))"
   ]
  },
  {
   "cell_type": "code",
   "execution_count": null,
   "metadata": {},
   "outputs": [],
   "source": [
    "import time\n",
    "tic = time.time()\n",
    "obj = bg.create_default_instances(feeder.mRID, [\"_E72A5E73-15F0-4FE5-BFFE-D4C9491106DA\",  \"_64D89EF8-60E7-486A-8BA8-27A2DDCB28C7\" ,  \"_7C4CB7EC-4ED3-497F-9106-B1B8364E4627\" , \"_CBFEC50B-A94A-4B42-A83A-45FC25B11F9D\" , \"_F0677038-7445-4F72-BB1C-FD9B406B2E1F\" , \"_4646B654-2416-424E-B953-6D81AFA95358\"] )\n",
    "print(obj)\n",
    "print(time.time()-tic)"
   ]
  },
  {
   "cell_type": "code",
   "execution_count": null,
   "metadata": {},
   "outputs": [],
   "source": []
  },
  {
   "cell_type": "code",
   "execution_count": 27,
   "metadata": {},
   "outputs": [
    {
     "data": {
      "text/plain": [
       "'_E804FC3A-4DE8-4497-B83D-EBE8974C791B'"
      ]
     },
     "execution_count": 27,
     "metadata": {},
     "output_type": "execute_result"
    }
   ],
   "source": [
    "network.typed_catalog[cim.WireSpacingInfo]['_E804FC3A-4DE8-4497-B83D-EBE8974C791B'].ACLineSegments[0].WireSpacingInfo.mRID"
   ]
  },
  {
   "cell_type": "code",
   "execution_count": null,
   "metadata": {},
   "outputs": [],
   "source": [
    "network"
   ]
  },
  {
   "cell_type": "code",
   "execution_count": 20,
   "metadata": {},
   "outputs": [
    {
     "data": {
      "text/plain": [
       "(<function copyreg._reconstructor(cls, base, state)>,\n",
       " (cim.data_profile.gridappsd_cim_profile.ACLineSegment, object, None),\n",
       " {'mRID': None,\n",
       "  'aliasName': None,\n",
       "  'description': None,\n",
       "  'name': None,\n",
       "  'Names': [],\n",
       "  'AssetDatasheet': None,\n",
       "  'Assets': [],\n",
       "  'Controls': [],\n",
       "  'Location': None,\n",
       "  'Measurements': [],\n",
       "  'inService': None,\n",
       "  'Faults': [],\n",
       "  'OperationalLimitSet': [],\n",
       "  'BaseVoltage': None,\n",
       "  'SvStatus': [],\n",
       "  'Terminals': [],\n",
       "  'length': None,\n",
       "  'b0ch': None,\n",
       "  'bch': None,\n",
       "  'g0ch': None,\n",
       "  'gch': None,\n",
       "  'r': None,\n",
       "  'r0': None,\n",
       "  'x': None,\n",
       "  'x0': None,\n",
       "  'ACLineSegmentPhases': [],\n",
       "  'PerLengthImpedance': None,\n",
       "  'WireSpacingInfo': None})"
      ]
     },
     "execution_count": 20,
     "metadata": {},
     "output_type": "execute_result"
    }
   ],
   "source": [
    "cim.ACLineSegment().__reduce__()"
   ]
  },
  {
   "cell_type": "code",
   "execution_count": null,
   "metadata": {},
   "outputs": [],
   "source": [
    "def pretty_print(clas, indent=0):\n",
    "    print(' ' * indent +  type(clas).__name__ +  ':')\n",
    "    indent += 4\n",
    "    for k,v in clas.__dict__.items():\n",
    "        if '__dict__' in dir(v):\n",
    "            pretty_print(v,indent)\n",
    "        else:\n",
    "            print(' ' * indent +  k + ': ' + str(v))"
   ]
  },
  {
   "cell_type": "code",
   "execution_count": null,
   "metadata": {},
   "outputs": [],
   "source": [
    "pretty_print(network.typed_catalog[cim.WireSpacingInfo]['_E804FC3A-4DE8-4497-B83D-EBE8974C791B'])"
   ]
  },
  {
   "cell_type": "code",
   "execution_count": null,
   "metadata": {},
   "outputs": [],
   "source": [
    "pretty_print(network.typed_catalog[cim.ACLineSegmentPhase]['_CE2AFB05-A1B1-4082-B4EB-2AD8A1D3422D'])"
   ]
  },
  {
   "cell_type": "code",
   "execution_count": null,
   "metadata": {},
   "outputs": [],
   "source": [
    "value = 'abc'\n",
    "separator = ';'\n",
    "values = value.split(separator)\n",
    "obj_list = []\n",
    "obj_list.extend(values)\n",
    "obj_list"
   ]
  },
  {
   "cell_type": "code",
   "execution_count": null,
   "metadata": {},
   "outputs": [],
   "source": [
    "len(values)"
   ]
  },
  {
   "cell_type": "code",
   "execution_count": null,
   "metadata": {},
   "outputs": [],
   "source": [
    "pretty_print(cim.WireInsulationKind)"
   ]
  },
  {
   "cell_type": "code",
   "execution_count": null,
   "metadata": {},
   "outputs": [],
   "source": [
    "network.get_all_attributes(cim.TapeShieldCableInfo)"
   ]
  },
  {
   "cell_type": "code",
   "execution_count": null,
   "metadata": {},
   "outputs": [],
   "source": [
    "network.typed_catalog[cim.TapeShieldCableInfo]"
   ]
  },
  {
   "cell_type": "code",
   "execution_count": null,
   "metadata": {},
   "outputs": [],
   "source": [
    "class_name = 'ACLineSegment'\n",
    "cls = class_name\n",
    "class_type = eval(f\"cim.{cls}\")\n",
    "network.typed_catalog[class_type]"
   ]
  },
  {
   "cell_type": "code",
   "execution_count": null,
   "metadata": {},
   "outputs": [],
   "source": [
    "network.__dumps__(cim.ACLineSegment)"
   ]
  },
  {
   "cell_type": "code",
   "execution_count": null,
   "metadata": {},
   "outputs": [],
   "source": [
    "value = cim.ACLineSegment()\n",
    "t = type(value)\n"
   ]
  },
  {
   "cell_type": "code",
   "execution_count": null,
   "metadata": {},
   "outputs": [],
   "source": [
    "type(t)"
   ]
  },
  {
   "cell_type": "code",
   "execution_count": null,
   "metadata": {},
   "outputs": [],
   "source": [
    "if type(type(value)) is type:\n",
    "    print('yes')"
   ]
  }
 ],
 "metadata": {
  "kernelspec": {
   "display_name": "Python 3",
   "language": "python",
   "name": "python3"
  },
  "language_info": {
   "codemirror_mode": {
    "name": "ipython",
    "version": 3
   },
   "file_extension": ".py",
   "mimetype": "text/x-python",
   "name": "python",
   "nbconvert_exporter": "python",
   "pygments_lexer": "ipython3",
   "version": "3.7.4"
  }
 },
 "nbformat": 4,
 "nbformat_minor": 5
}
