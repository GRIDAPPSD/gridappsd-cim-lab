{
 "cells": [
  {
   "cell_type": "code",
   "execution_count": 1,
   "id": "cecd356e",
   "metadata": {},
   "outputs": [],
   "source": [
    "import importlib\n",
    "cim_profile = 'rc4_2021'\n",
    "cim = importlib.import_module('cimlab.data_profile.' + cim_profile)\n"
   ]
  },
  {
   "cell_type": "code",
   "execution_count": 2,
   "id": "9517508c",
   "metadata": {},
   "outputs": [],
   "source": [
    "from cimlab.loaders import Parameter, ConnectionParameters\n",
    "from cimlab.loaders.blazegraph.blazegraph import BlazegraphConnection\n",
    "from cimlab.loaders.gridappsd import GridappsdConnection, get_topology_response\n",
    "from cimlab.models.distributed_model import DistributedModel\n",
    "# import cim.data_profile as cim\n",
    "import json\n"
   ]
  },
  {
   "cell_type": "code",
   "execution_count": 3,
   "id": "01e4cde4",
   "metadata": {},
   "outputs": [],
   "source": [
    "# # Blazegraph connection for running inside the container\n",
    "# params = ConnectionParameters([Parameter(key=\"url\", value=\"http://blazegraph:8080/bigdata/namespace/kb/sparql\")])\n",
    "# bg = BlazegraphConnection(params)"
   ]
  },
  {
   "cell_type": "code",
   "execution_count": 4,
   "id": "5417f812",
   "metadata": {},
   "outputs": [],
   "source": [
    "# Blazegraph connection for running outside the container\n",
    "params = ConnectionParameters([Parameter(key=\"url\", value=\"http://localhost:8889/bigdata/namespace/kb/sparql\")])\n",
    "bg = BlazegraphConnection(params, 'rc4_2021')"
   ]
  },
  {
   "cell_type": "code",
   "execution_count": 5,
   "id": "208e6f7d",
   "metadata": {},
   "outputs": [],
   "source": [
    "#feeder_mrid = \"_C1C3E687-6FFD-C753-582B-632A27E28507\"  # 123 bus\n",
    "# feeder_mrid = \"_49AD8E07-3BF9-A4E2-CB8F-C3722F837B62\"  # 13 bus\n",
    "feeder_mrid = \"_5B816B93-7A5F-B64C-8460-47C17D6E4B0F\" # 13 bus asets\n",
    "#feeder_mrid = \"_4F76A5F9-271D-9EB8-5E31-AA362D86F2C3\"  # 8500 node\n",
    "#feeder_mrid = \"_67AB291F-DCCD-31B7-B499-338206B9828F\" # J1\n",
    "#feeder_mrid = \"_9CE150A8-8CC5-A0F9-B67E-BBD8C79D3095\"  # R2 12.47 3\n",
    "#feeder_mrid = \"_EE71F6C9-56F0-4167-A14E-7F4C71F10EAA\" #9500 node"
   ]
  },
  {
   "cell_type": "code",
   "execution_count": 6,
   "id": "9cc6e914",
   "metadata": {},
   "outputs": [],
   "source": [
    "feeder = cim.Feeder(mRID=feeder_mrid)"
   ]
  },
  {
   "cell_type": "code",
   "execution_count": 7,
   "id": "ecd52872",
   "metadata": {},
   "outputs": [],
   "source": [
    "# from gridappsd import GridAPPSD\n",
    "from topology_processor import DistributedTopology\n",
    "\n",
    "gapps = GridappsdConnection(feeder_mrid)\n",
    "Topology = DistributedTopology(gapps, feeder_mrid)\n",
    "topology_response = Topology.create_switch_areas(feeder_mrid)\n",
    "# topology_response = get_topology_response(feeder_mrid)\n",
    "topology_response = json.loads(topology_response)\n",
    "# with open('topo_message.json') as topo_file:\n",
    "#     topology_response = json.load(topo_file)\n"
   ]
  },
  {
   "cell_type": "code",
   "execution_count": 8,
   "id": "30c66763",
   "metadata": {},
   "outputs": [],
   "source": [
    "# topology_response = json.loads(topology_response)"
   ]
  },
  {
   "cell_type": "code",
   "execution_count": 9,
   "id": "428e3089",
   "metadata": {},
   "outputs": [],
   "source": [
    "network = DistributedModel(connection=bg, feeder=feeder, topology=topology_response)"
   ]
  },
  {
   "cell_type": "code",
   "execution_count": 10,
   "id": "a132f2f4",
   "metadata": {},
   "outputs": [
    {
     "name": "stdout",
     "output_type": "stream",
     "text": [
      "line mrid:  _6EBB2188-CBE1-4FEC-9406-83DE8E61F9CB\n",
      "line name: 692675\n",
      "bus 1:  _04006A64-109D-499D-8496-1B55907C1570\n",
      "bus 2:  _CB29A4D1-EE08-4AAF-82F6-3C178009EBC0\n",
      "phase  A :  _35FF14DC-7F66-44F6-A767-32F3D382C173\n",
      "phase  B :  _C3AAFFD5-8C98-4DB5-8E6C-DC99E345D13C\n",
      "phase  C :  _C7529946-755B-4322-950A-AE9FD9D9F1F6\n"
     ]
    }
   ],
   "source": [
    "switch_area = network.switch_areas[0]\n",
    "\n",
    "# Get phase, bus info about ACLineSegments\n",
    "switch_area.get_all_attributes(cim.ACLineSegment)\n",
    "switch_area.get_all_attributes(cim.ACLineSegmentPhase)\n",
    "switch_area.get_all_attributes(cim.Terminal)\n",
    "\n",
    "line_ids = list(switch_area.typed_catalog[cim.ACLineSegment].keys())\n",
    "for line_id in line_ids:\n",
    "    print('line mrid: ',line_id)\n",
    "    print('line name:', switch_area.typed_catalog[cim.ACLineSegment][line_id].name)\n",
    "    print('bus 1: ', switch_area.typed_catalog[cim.ACLineSegment][line_id].Terminals[0].ConnectivityNode.mRID)\n",
    "    print('bus 2: ', switch_area.typed_catalog[cim.ACLineSegment][line_id].Terminals[1].ConnectivityNode.mRID)\n",
    "    for line_phs in switch_area.typed_catalog[cim.ACLineSegment][line_id].ACLineSegmentPhases:\n",
    "        print('phase ', line_phs.phase, ': ', line_phs.mRID)\n",
    "    "
   ]
  },
  {
   "cell_type": "code",
   "execution_count": 11,
   "id": "1e37d115",
   "metadata": {},
   "outputs": [
    {
     "name": "stdout",
     "output_type": "stream",
     "text": [
      "p =  290000\n",
      "q =  212000\n",
      "phases:  C\n",
      "p =  170000\n",
      "q =  151000\n",
      "phases:  C\n",
      "p =  485000\n",
      "q =  190000\n",
      "phases:  A\n",
      "p =  68000\n",
      "q =  60000\n",
      "phases:  B\n"
     ]
    }
   ],
   "source": [
    "switch_area = network.switch_areas[0]\n",
    "\n",
    "switch_area.get_all_attributes(cim.EnergyConsumer)\n",
    "switch_area.get_all_attributes(cim.EnergyConsumerPhase)\n",
    "\n",
    "load_ids = list(switch_area.typed_catalog[cim.EnergyConsumer].keys())\n",
    "\n",
    "for load in load_ids:\n",
    "    print('p = ', switch_area.typed_catalog[cim.EnergyConsumer][load].p)\n",
    "    print('q = ', switch_area.typed_catalog[cim.EnergyConsumer][load].q)\n",
    "    for load_phs in switch_area.typed_catalog[cim.EnergyConsumer][load].EnergyConsumerPhase:\n",
    "        print('phases: ', load_phs.phase)"
   ]
  },
  {
   "cell_type": "code",
   "execution_count": 12,
   "id": "6ff4f097",
   "metadata": {},
   "outputs": [
    {
     "name": "stdout",
     "output_type": "stream",
     "text": [
      "warning: attribute  TransformerTankInfo  missing from  TransformerTank\n",
      "warning: attribute  TransformerTankInfo  missing from  TransformerTank\n",
      "warning: attribute  TransformerTankInfo  missing from  TransformerTank\n",
      "warning: attribute  TransformerTankInfo  missing from  TransformerTank\n",
      "warning: attribute  TransformerTankInfo  missing from  TransformerTank\n",
      "warning: attribute  TransformerTanks  missing from  TransformerTankInfo\n",
      "warning: attribute  TransformerTanks  missing from  TransformerTankInfo\n",
      "warning: attribute  TransformerTanks  missing from  TransformerTankInfo\n"
     ]
    }
   ],
   "source": [
    "network.get_all_attributes(cim.TransformerTank)\n",
    "network.get_all_attributes(cim.TransformerTankEnd)\n",
    "network.get_all_attributes(cim.TransformerTankInfo)\n",
    "network.get_all_attributes(cim.TransformerEndInfo)\n",
    "network.get_all_attributes(cim.ShortCircuitTest)\n",
    "network.get_all_attributes(cim.NoLoadTest)"
   ]
  },
  {
   "cell_type": "code",
   "execution_count": 15,
   "id": "83e8f6cf",
   "metadata": {},
   "outputs": [
    {
     "name": "stdout",
     "output_type": "stream",
     "text": [
      "warning: could not locate mrid:  _12A0D2D4-58A4-45D0-B646-6A2A4670DDB4 . creating default object of  PhaseImpedanceData\n",
      "warning: could not locate mrid:  _3A134AFC-569E-4B5B-B4EF-660D615B027F . creating default object of  PhaseImpedanceData\n",
      "warning: could not locate mrid:  _4ADA186E-92D6-4F2C-B8D4-9723FBCD8CDA . creating default object of  PhaseImpedanceData\n"
     ]
    }
   ],
   "source": [
    "network.get_all_attributes(cim.ACLineSegment)\n",
    "network.get_all_attributes(cim.ACLineSegmentPhase)\n",
    "network.get_all_attributes(cim.PerLengthPhaseImpedance)\n",
    "network.get_all_attributes(cim.PhaseImpedanceData)\n",
    "\n",
    "network.get_all_attributes(cim.WireSpacingInfo)\n",
    "network.get_all_attributes(cim.WirePosition)\n",
    "network.get_all_attributes(cim.OverheadWireInfo)\n",
    "network.get_all_attributes(cim.ConcentricNeutralCableInfo)\n",
    "network.get_all_attributes(cim.TapeShieldCableInfo)\n",
    "\n",
    "network.get_all_attributes(cim.Terminal) #bus info"
   ]
  },
  {
   "cell_type": "code",
   "execution_count": 17,
   "id": "3545573d",
   "metadata": {},
   "outputs": [
    {
     "name": "stdout",
     "output_type": "stream",
     "text": [
      "line mrid:  _6EBB2188-CBE1-4FEC-9406-83DE8E61F9CB\n",
      "line name: 692675\n",
      "bus 1:  _04006A64-109D-499D-8496-1B55907C1570\n",
      "bus 2:  _CB29A4D1-EE08-4AAF-82F6-3C178009EBC0\n",
      "phase  A :  _35FF14DC-7F66-44F6-A767-32F3D382C173\n",
      "phase  B :  _C3AAFFD5-8C98-4DB5-8E6C-DC99E345D13C\n",
      "phase  C :  _C7529946-755B-4322-950A-AE9FD9D9F1F6\n"
     ]
    }
   ],
   "source": [
    "line_ids = list(switch_area.typed_catalog[cim.ACLineSegment].keys())\n",
    "for line_id in line_ids:\n",
    "    print('line mrid: ',line_id)\n",
    "    print('line name:', switch_area.typed_catalog[cim.ACLineSegment][line_id].name)\n",
    "    print('bus 1: ', switch_area.typed_catalog[cim.ACLineSegment][line_id].Terminals[0].ConnectivityNode.mRID)\n",
    "    print('bus 2: ', switch_area.typed_catalog[cim.ACLineSegment][line_id].Terminals[1].ConnectivityNode.mRID)\n",
    "    for line_phs in switch_area.typed_catalog[cim.ACLineSegment][line_id].ACLineSegmentPhases:\n",
    "        print('phase ', line_phs.phase, ': ', line_phs.mRID)\n",
    "    if switch_area.typed_catalog[cim.ACLineSegment][line_id].PerLengthImpedance is not None:\n",
    "        for impedance in switch_area.typed_catalog[cim.ACLineSegment][line_id].PerLengthImpedance.PhaseImpedanceData:\n",
    "            print('row:', impedance.row, 'col:', impedance.column, 'r:', impedance.r, 'x:', impedance.x, 'b:', impedance.b)\n",
    "    if switch_area.typed_catalog[cim.ACLineSegment][line_id].WireSpacingInfo is not None:\n",
    "        for impedance in switch_area.typed_catalog[cim.ACLineSegment][line_id].PerLengthImpedance.PhaseImpedanceData:\n",
    "            print('row:', impedance.row, 'col:', impedance.column, 'r:', impedance.r, 'x:', impedance.x, 'b:', impedance.b)"
   ]
  },
  {
   "cell_type": "code",
   "execution_count": null,
   "id": "879c37b2",
   "metadata": {},
   "outputs": [],
   "source": [
    "print(switch_area.get_attributes_query(cim.ConcentricNeutralCableInfo))"
   ]
  },
  {
   "cell_type": "code",
   "execution_count": null,
   "id": "9a269f74",
   "metadata": {},
   "outputs": [],
   "source": [
    "json.loads(switch_area.__dumps__(cim.PhaseImpedanceData))"
   ]
  },
  {
   "cell_type": "code",
   "execution_count": null,
   "id": "04171b5f",
   "metadata": {},
   "outputs": [],
   "source": [
    "secondary_area = network.switch_areas[4].secondary_areas[0]\n",
    "secondary_area.get_all_attributes(cim.PowerElectronicsConnection)\n",
    "secondary_area.get_all_attributes(cim.PowerElectronicsConnectionPhase)\n",
    "\n",
    "pec_ids = list(secondary_area.typed_catalog[cim.PowerElectronicsConnection])\n",
    "\n",
    "for pec in pec_ids:\n",
    "    print('p = ', secondary_area.typed_catalog[cim.PowerElectronicsConnection][pec].p)\n",
    "    print('q = ', secondary_area.typed_catalog[cim.PowerElectronicsConnection][pec].q)\n",
    "    for pec_phs in secondary_area.typed_catalog[cim.PowerElectronicsConnection][pec].PowerElectronicsConnectionPhases:\n",
    "        print('phase ', pec_phs.phase, ': ', pec_phs.mRID)"
   ]
  },
  {
   "cell_type": "code",
   "execution_count": 20,
   "id": "b8e3640b",
   "metadata": {},
   "outputs": [
    {
     "data": {
      "text/plain": [
       "WireSpacingInfo(mRID='_48A5C17E-B098-446D-B26F-2D1B198ED260', aliasName=None, description=None, name='606', Names=[], Assets=[], CatalogAssetType=None, PowerSystemResources=[], ProductAssetModel=None, isCable='true', phaseWireCount='1', phaseWireSpacing='0', usage=None, ACLineSegments=[ACLineSegment(mRID='_6EBB2188-CBE1-4FEC-9406-83DE8E61F9CB', aliasName=None, description=None, name='692675', Names=[], AssetDatasheet=None, Assets=[], ConfigurationEvent=[], Controls=[], Location=Location(mRID='_6D36746B-C083-4CE2-87DD-256D6C668613', aliasName=None, description=None, name='692675_Loc', Names=[], direction=None, geoInfoReference=None, type=None, Assets=[], ConfigurationEvents=[], CoordinateSystem=None, Crew=[], electronicAddress=None, EnvironmentalLocationKind=[], Fault=[], Hazards=[], mainAddress=None, Measurements=[], phone1=None, phone2=None, PositionPoints=[], PowerSystemResources=[], secondaryAddress=None, status=None), Measurements=[Analog(mRID='_18b33a13-c766-48f2-af7a-09027fd38693', aliasName=None, description=None, name='ACLineSegment_692675_Power', Names=[], measurementType=None, phases=None, Asset=None, Locations=[], PowerSystemResource=None, Procedures=[], Terminal=None, maxValue=None, minValue=None, normalValue=None, positiveFlowIn=None, AnalogValues=[], LimitSets=[]), Analog(mRID='_4e706e09-bcd3-4177-8936-8981552cfd0f', aliasName=None, description=None, name='ACLineSegment_692675_Power', Names=[], measurementType=None, phases=None, Asset=None, Locations=[], PowerSystemResource=None, Procedures=[], Terminal=None, maxValue=None, minValue=None, normalValue=None, positiveFlowIn=None, AnalogValues=[], LimitSets=[]), Analog(mRID='_6fa6beec-44fd-487c-b8ec-592c5e2e7ff4', aliasName=None, description=None, name='ACLineSegment_692675_Power', Names=[], measurementType=None, phases=None, Asset=None, Locations=[], PowerSystemResource=None, Procedures=[], Terminal=None, maxValue=None, minValue=None, normalValue=None, positiveFlowIn=None, AnalogValues=[], LimitSets=[])], OperatingShare=[], PSRType=None, ReportingGroup=[], aggregate=None, inService=None, networkAnalysisEnabled=None, normallyInService=None, AdditionalEquipmentContainer=[], EquipmentContainer=None, Faults=[], OperationalLimitSet=[], UsagePoints=None, BaseVoltage=BaseVoltage(mRID='_3CB8BE1F-37D8-4CC8-88BB-5C0D14D7D7B3', aliasName=None, description=None, name='BaseV_4.1600', Names=[], nominalVoltage=None, ConductingEquipment=[], NetworkAssetDeployment=[], TopologicalNode=[], TransformerEnds=[], VoltageLevel=[]), SvStatus=[], Terminals=[Terminal(mRID='_30DE3992-164E-4202-9928-92BB035621B3', aliasName=None, description=None, name='692675_T1', Names=[], connected=None, sequenceNumber='1', BusNameMarker=None, Measurements=[Analog(mRID='_18b33a13-c766-48f2-af7a-09027fd38693', aliasName=None, description=None, name='ACLineSegment_692675_Power', Names=[], measurementType=None, phases=None, Asset=None, Locations=[], PowerSystemResource=None, Procedures=[], Terminal=None, maxValue=None, minValue=None, normalValue=None, positiveFlowIn=None, AnalogValues=[], LimitSets=[]), Analog(mRID='_4e706e09-bcd3-4177-8936-8981552cfd0f', aliasName=None, description=None, name='ACLineSegment_692675_Power', Names=[], measurementType=None, phases=None, Asset=None, Locations=[], PowerSystemResource=None, Procedures=[], Terminal=None, maxValue=None, minValue=None, normalValue=None, positiveFlowIn=None, AnalogValues=[], LimitSets=[]), Analog(mRID='_6fa6beec-44fd-487c-b8ec-592c5e2e7ff4', aliasName=None, description=None, name='ACLineSegment_692675_Power', Names=[], measurementType=None, phases=None, Asset=None, Locations=[], PowerSystemResource=None, Procedures=[], Terminal=None, maxValue=None, minValue=None, normalValue=None, positiveFlowIn=None, AnalogValues=[], LimitSets=[])], OperationalLimitSet=[OperationalLimitSet(mRID='_4770F7FC-88D1-4B6E-B204-D21FCA8164D7', aliasName=None, description=None, name='OpLimI_260.0_390.0', Names=[], ConnectivityNode=None, Equipment=None, OperationalLimitValue=[], Terminal=None)], BranchGroupTerminal=[], Bushing=None, ConductingEquipment=..., ConnectivityNode=ConnectivityNode(mRID='_04006A64-109D-499D-8496-1B55907C1570', aliasName=None, description=None, name='692', Names=[], ConnectivityNodeContainer=None, OperationalLimitSet=[], SvInjection=[], SvVoltage=None, Terminals=[], TopologicalNode=None), EquipmentFaults=[], HasFirstMutualCoupling=[], HasSecondMutualCoupling=[], NormalHeadFeeder=None, RegulatingControl=[], SvPowerFlow=[], TopologicalNode=TopologicalNode(mRID='_9C992550-35B1-450C-A118-16E3461F566F', aliasName=None, description=None, name='692', Names=[], pInjection=None, qInjection=None, AngleRefTopologicalIsland=None, BaseVoltage=None, BusNameMarker=[], ConnectivityNodeContainer=None, ConnectivityNodes=[], ReportingGroup=None, SvInjection=[], SvVoltage=[], Terminal=[], TopologicalIsland=None), TransformerEnd=[]), Terminal(mRID='_FD181CFF-8F3F-43E0-96D4-FA80E71D6A2E', aliasName=None, description=None, name='692675_T2', Names=[], connected=None, sequenceNumber='2', BusNameMarker=None, Measurements=[], OperationalLimitSet=[], BranchGroupTerminal=[], Bushing=None, ConductingEquipment=..., ConnectivityNode=ConnectivityNode(mRID='_CB29A4D1-EE08-4AAF-82F6-3C178009EBC0', aliasName=None, description=None, name='675', Names=[], ConnectivityNodeContainer=None, OperationalLimitSet=[], SvInjection=[], SvVoltage=None, Terminals=[], TopologicalNode=None), EquipmentFaults=[], HasFirstMutualCoupling=[], HasSecondMutualCoupling=[], NormalHeadFeeder=None, RegulatingControl=[], SvPowerFlow=[], TopologicalNode=TopologicalNode(mRID='_E0AD70BD-6428-40C8-A95F-428D51620FE7', aliasName=None, description=None, name='675', Names=[], pInjection=None, qInjection=None, AngleRefTopologicalIsland=None, BaseVoltage=None, BusNameMarker=[], ConnectivityNodeContainer=None, ConnectivityNodes=[], ReportingGroup=None, SvInjection=[], SvVoltage=[], Terminal=[], TopologicalIsland=None), TransformerEnd=[])], length='152.4', b0ch=None, bch=None, g0ch=None, gch=None, r=None, r0=None, shortCircuitEndTemperature=None, x=None, x0=None, ACLineSegmentPhases=[ACLineSegmentPhase(mRID='_35FF14DC-7F66-44F6-A767-32F3D382C173', aliasName=None, description=None, name='692675_A', Names=[], AssetDatasheet=None, Assets=[], ConfigurationEvent=[], Controls=[], Location=Location(mRID='_6D36746B-C083-4CE2-87DD-256D6C668613', aliasName=None, description=None, name='692675_Loc', Names=[], direction=None, geoInfoReference=None, type=None, Assets=[], ConfigurationEvents=[], CoordinateSystem=None, Crew=[], electronicAddress=None, EnvironmentalLocationKind=[], Fault=[], Hazards=[], mainAddress=None, Measurements=[], phone1=None, phone2=None, PositionPoints=[], PowerSystemResources=[], secondaryAddress=None, status=None), Measurements=[Analog(mRID='_4e706e09-bcd3-4177-8936-8981552cfd0f', aliasName=None, description=None, name='ACLineSegment_692675_Power', Names=[], measurementType=None, phases=None, Asset=None, Locations=[], PowerSystemResource=None, Procedures=[], Terminal=None, maxValue=None, minValue=None, normalValue=None, positiveFlowIn=None, AnalogValues=[], LimitSets=[])], OperatingShare=[], PSRType=None, ReportingGroup=[], phase='A', sequenceNumber='1', ACLineSegment=..., WireInfo=ConcentricNeutralCableInfo(mRID='_5CF2A8A3-B30E-4907-8F88-5B3079AEE87E', aliasName=None, description=None, name='cn_250', Names=[], Assets=[], CatalogAssetType=None, PowerSystemResources=[], ProductAssetModel=None, coreRadius='0', coreStrandCount='0', gmr='0.00521208', insulated='true', insulationMaterial='crosslinkedPolyethylene', insulationThickness='0.005588', material=None, rAC25='0.00025476915', rAC50='0.00025476915', rAC75='0.00025476915', radius='0.0072009', ratedCurrent='260', rDC20='0.00024977368', sizeDescription='CNData_cn_250', strandCount='0', ACLineSegmentPhases=[..., ACLineSegmentPhase(mRID='_C3AAFFD5-8C98-4DB5-8E6C-DC99E345D13C', aliasName=None, description=None, name='692675_B', Names=[], AssetDatasheet=None, Assets=[], ConfigurationEvent=[], Controls=[], Location=Location(mRID='_6D36746B-C083-4CE2-87DD-256D6C668613', aliasName=None, description=None, name='692675_Loc', Names=[], direction=None, geoInfoReference=None, type=None, Assets=[], ConfigurationEvents=[], CoordinateSystem=None, Crew=[], electronicAddress=None, EnvironmentalLocationKind=[], Fault=[], Hazards=[], mainAddress=None, Measurements=[], phone1=None, phone2=None, PositionPoints=[], PowerSystemResources=[], secondaryAddress=None, status=None), Measurements=[Analog(mRID='_6fa6beec-44fd-487c-b8ec-592c5e2e7ff4', aliasName=None, description=None, name='ACLineSegment_692675_Power', Names=[], measurementType=None, phases=None, Asset=None, Locations=[], PowerSystemResource=None, Procedures=[], Terminal=None, maxValue=None, minValue=None, normalValue=None, positiveFlowIn=None, AnalogValues=[], LimitSets=[])], OperatingShare=[], PSRType=None, ReportingGroup=[], phase='B', sequenceNumber='2', ACLineSegment=..., WireInfo=...), ACLineSegmentPhase(mRID='_C7529946-755B-4322-950A-AE9FD9D9F1F6', aliasName=None, description=None, name='692675_C', Names=[], AssetDatasheet=None, Assets=[], ConfigurationEvent=[], Controls=[], Location=Location(mRID='_6D36746B-C083-4CE2-87DD-256D6C668613', aliasName=None, description=None, name='692675_Loc', Names=[], direction=None, geoInfoReference=None, type=None, Assets=[], ConfigurationEvents=[], CoordinateSystem=None, Crew=[], electronicAddress=None, EnvironmentalLocationKind=[], Fault=[], Hazards=[], mainAddress=None, Measurements=[], phone1=None, phone2=None, PositionPoints=[], PowerSystemResources=[], secondaryAddress=None, status=None), Measurements=[Analog(mRID='_6fa6beec-44fd-487c-b8ec-592c5e2e7ff4', aliasName=None, description=None, name='ACLineSegment_692675_Power', Names=[], measurementType=None, phases=None, Asset=None, Locations=[], PowerSystemResource=None, Procedures=[], Terminal=None, maxValue=None, minValue=None, normalValue=None, positiveFlowIn=None, AnalogValues=[], LimitSets=[])], OperatingShare=[], PSRType=None, ReportingGroup=[], phase='C', sequenceNumber='3', ACLineSegment=..., WireInfo=...)], WirePhaseInfo=[], constructionKind=None, diameterOverCore=None, diameterOverInsulation='0.026924', diameterOverJacket='0.032766', diameterOverScreen='0.02950972', isStrandFill='false', nominalTemperature='90', outerJacketKind=None, sheathAsNeutral='false', shieldMaterial=None, diameterOverNeutral='0.032766', neutralStrandCount='13', neutralStrandGmr='0.000633984', neutralStrandRadius='0.00081407', neutralStrandRDC20='0.0092414093')), ACLineSegmentPhase(mRID='_C3AAFFD5-8C98-4DB5-8E6C-DC99E345D13C', aliasName=None, description=None, name='692675_B', Names=[], AssetDatasheet=None, Assets=[], ConfigurationEvent=[], Controls=[], Location=Location(mRID='_6D36746B-C083-4CE2-87DD-256D6C668613', aliasName=None, description=None, name='692675_Loc', Names=[], direction=None, geoInfoReference=None, type=None, Assets=[], ConfigurationEvents=[], CoordinateSystem=None, Crew=[], electronicAddress=None, EnvironmentalLocationKind=[], Fault=[], Hazards=[], mainAddress=None, Measurements=[], phone1=None, phone2=None, PositionPoints=[], PowerSystemResources=[], secondaryAddress=None, status=None), Measurements=[Analog(mRID='_6fa6beec-44fd-487c-b8ec-592c5e2e7ff4', aliasName=None, description=None, name='ACLineSegment_692675_Power', Names=[], measurementType=None, phases=None, Asset=None, Locations=[], PowerSystemResource=None, Procedures=[], Terminal=None, maxValue=None, minValue=None, normalValue=None, positiveFlowIn=None, AnalogValues=[], LimitSets=[])], OperatingShare=[], PSRType=None, ReportingGroup=[], phase='B', sequenceNumber='2', ACLineSegment=..., WireInfo=ConcentricNeutralCableInfo(mRID='_5CF2A8A3-B30E-4907-8F88-5B3079AEE87E', aliasName=None, description=None, name='cn_250', Names=[], Assets=[], CatalogAssetType=None, PowerSystemResources=[], ProductAssetModel=None, coreRadius='0', coreStrandCount='0', gmr='0.00521208', insulated='true', insulationMaterial='crosslinkedPolyethylene', insulationThickness='0.005588', material=None, rAC25='0.00025476915', rAC50='0.00025476915', rAC75='0.00025476915', radius='0.0072009', ratedCurrent='260', rDC20='0.00024977368', sizeDescription='CNData_cn_250', strandCount='0', ACLineSegmentPhases=[ACLineSegmentPhase(mRID='_35FF14DC-7F66-44F6-A767-32F3D382C173', aliasName=None, description=None, name='692675_A', Names=[], AssetDatasheet=None, Assets=[], ConfigurationEvent=[], Controls=[], Location=Location(mRID='_6D36746B-C083-4CE2-87DD-256D6C668613', aliasName=None, description=None, name='692675_Loc', Names=[], direction=None, geoInfoReference=None, type=None, Assets=[], ConfigurationEvents=[], CoordinateSystem=None, Crew=[], electronicAddress=None, EnvironmentalLocationKind=[], Fault=[], Hazards=[], mainAddress=None, Measurements=[], phone1=None, phone2=None, PositionPoints=[], PowerSystemResources=[], secondaryAddress=None, status=None), Measurements=[Analog(mRID='_4e706e09-bcd3-4177-8936-8981552cfd0f', aliasName=None, description=None, name='ACLineSegment_692675_Power', Names=[], measurementType=None, phases=None, Asset=None, Locations=[], PowerSystemResource=None, Procedures=[], Terminal=None, maxValue=None, minValue=None, normalValue=None, positiveFlowIn=None, AnalogValues=[], LimitSets=[])], OperatingShare=[], PSRType=None, ReportingGroup=[], phase='A', sequenceNumber='1', ACLineSegment=..., WireInfo=...), ..., ACLineSegmentPhase(mRID='_C7529946-755B-4322-950A-AE9FD9D9F1F6', aliasName=None, description=None, name='692675_C', Names=[], AssetDatasheet=None, Assets=[], ConfigurationEvent=[], Controls=[], Location=Location(mRID='_6D36746B-C083-4CE2-87DD-256D6C668613', aliasName=None, description=None, name='692675_Loc', Names=[], direction=None, geoInfoReference=None, type=None, Assets=[], ConfigurationEvents=[], CoordinateSystem=None, Crew=[], electronicAddress=None, EnvironmentalLocationKind=[], Fault=[], Hazards=[], mainAddress=None, Measurements=[], phone1=None, phone2=None, PositionPoints=[], PowerSystemResources=[], secondaryAddress=None, status=None), Measurements=[Analog(mRID='_6fa6beec-44fd-487c-b8ec-592c5e2e7ff4', aliasName=None, description=None, name='ACLineSegment_692675_Power', Names=[], measurementType=None, phases=None, Asset=None, Locations=[], PowerSystemResource=None, Procedures=[], Terminal=None, maxValue=None, minValue=None, normalValue=None, positiveFlowIn=None, AnalogValues=[], LimitSets=[])], OperatingShare=[], PSRType=None, ReportingGroup=[], phase='C', sequenceNumber='3', ACLineSegment=..., WireInfo=...)], WirePhaseInfo=[], constructionKind=None, diameterOverCore=None, diameterOverInsulation='0.026924', diameterOverJacket='0.032766', diameterOverScreen='0.02950972', isStrandFill='false', nominalTemperature='90', outerJacketKind=None, sheathAsNeutral='false', shieldMaterial=None, diameterOverNeutral='0.032766', neutralStrandCount='13', neutralStrandGmr='0.000633984', neutralStrandRadius='0.00081407', neutralStrandRDC20='0.0092414093')), ACLineSegmentPhase(mRID='_C7529946-755B-4322-950A-AE9FD9D9F1F6', aliasName=None, description=None, name='692675_C', Names=[], AssetDatasheet=None, Assets=[], ConfigurationEvent=[], Controls=[], Location=Location(mRID='_6D36746B-C083-4CE2-87DD-256D6C668613', aliasName=None, description=None, name='692675_Loc', Names=[], direction=None, geoInfoReference=None, type=None, Assets=[], ConfigurationEvents=[], CoordinateSystem=None, Crew=[], electronicAddress=None, EnvironmentalLocationKind=[], Fault=[], Hazards=[], mainAddress=None, Measurements=[], phone1=None, phone2=None, PositionPoints=[], PowerSystemResources=[], secondaryAddress=None, status=None), Measurements=[Analog(mRID='_6fa6beec-44fd-487c-b8ec-592c5e2e7ff4', aliasName=None, description=None, name='ACLineSegment_692675_Power', Names=[], measurementType=None, phases=None, Asset=None, Locations=[], PowerSystemResource=None, Procedures=[], Terminal=None, maxValue=None, minValue=None, normalValue=None, positiveFlowIn=None, AnalogValues=[], LimitSets=[])], OperatingShare=[], PSRType=None, ReportingGroup=[], phase='C', sequenceNumber='3', ACLineSegment=..., WireInfo=ConcentricNeutralCableInfo(mRID='_5CF2A8A3-B30E-4907-8F88-5B3079AEE87E', aliasName=None, description=None, name='cn_250', Names=[], Assets=[], CatalogAssetType=None, PowerSystemResources=[], ProductAssetModel=None, coreRadius='0', coreStrandCount='0', gmr='0.00521208', insulated='true', insulationMaterial='crosslinkedPolyethylene', insulationThickness='0.005588', material=None, rAC25='0.00025476915', rAC50='0.00025476915', rAC75='0.00025476915', radius='0.0072009', ratedCurrent='260', rDC20='0.00024977368', sizeDescription='CNData_cn_250', strandCount='0', ACLineSegmentPhases=[ACLineSegmentPhase(mRID='_35FF14DC-7F66-44F6-A767-32F3D382C173', aliasName=None, description=None, name='692675_A', Names=[], AssetDatasheet=None, Assets=[], ConfigurationEvent=[], Controls=[], Location=Location(mRID='_6D36746B-C083-4CE2-87DD-256D6C668613', aliasName=None, description=None, name='692675_Loc', Names=[], direction=None, geoInfoReference=None, type=None, Assets=[], ConfigurationEvents=[], CoordinateSystem=None, Crew=[], electronicAddress=None, EnvironmentalLocationKind=[], Fault=[], Hazards=[], mainAddress=None, Measurements=[], phone1=None, phone2=None, PositionPoints=[], PowerSystemResources=[], secondaryAddress=None, status=None), Measurements=[Analog(mRID='_4e706e09-bcd3-4177-8936-8981552cfd0f', aliasName=None, description=None, name='ACLineSegment_692675_Power', Names=[], measurementType=None, phases=None, Asset=None, Locations=[], PowerSystemResource=None, Procedures=[], Terminal=None, maxValue=None, minValue=None, normalValue=None, positiveFlowIn=None, AnalogValues=[], LimitSets=[])], OperatingShare=[], PSRType=None, ReportingGroup=[], phase='A', sequenceNumber='1', ACLineSegment=..., WireInfo=...), ACLineSegmentPhase(mRID='_C3AAFFD5-8C98-4DB5-8E6C-DC99E345D13C', aliasName=None, description=None, name='692675_B', Names=[], AssetDatasheet=None, Assets=[], ConfigurationEvent=[], Controls=[], Location=Location(mRID='_6D36746B-C083-4CE2-87DD-256D6C668613', aliasName=None, description=None, name='692675_Loc', Names=[], direction=None, geoInfoReference=None, type=None, Assets=[], ConfigurationEvents=[], CoordinateSystem=None, Crew=[], electronicAddress=None, EnvironmentalLocationKind=[], Fault=[], Hazards=[], mainAddress=None, Measurements=[], phone1=None, phone2=None, PositionPoints=[], PowerSystemResources=[], secondaryAddress=None, status=None), Measurements=[Analog(mRID='_6fa6beec-44fd-487c-b8ec-592c5e2e7ff4', aliasName=None, description=None, name='ACLineSegment_692675_Power', Names=[], measurementType=None, phases=None, Asset=None, Locations=[], PowerSystemResource=None, Procedures=[], Terminal=None, maxValue=None, minValue=None, normalValue=None, positiveFlowIn=None, AnalogValues=[], LimitSets=[])], OperatingShare=[], PSRType=None, ReportingGroup=[], phase='B', sequenceNumber='2', ACLineSegment=..., WireInfo=...), ...], WirePhaseInfo=[], constructionKind=None, diameterOverCore=None, diameterOverInsulation='0.026924', diameterOverJacket='0.032766', diameterOverScreen='0.02950972', isStrandFill='false', nominalTemperature='90', outerJacketKind=None, sheathAsNeutral='false', shieldMaterial=None, diameterOverNeutral='0.032766', neutralStrandCount='13', neutralStrandGmr='0.000633984', neutralStrandRadius='0.00081407', neutralStrandRDC20='0.0092414093'))], Clamp=[], Cut=[], LineFaults=[], ParallelLineSegment=None, PerLengthImpedance=None, WireSpacingInfo=...)], DuctBank=None, Structures=[], WireAssemblyInfo=[], WirePositions=[WirePosition(mRID='_EB553355-584D-43F2-8AD5-47B1A1F1B541', aliasName=None, description=None, name='WP_606_1', Names=[], sequenceNumber='1', xCoord='-0.1524', yCoord='-1.2192', WirePhaseInfo=[], WireSpacingInfo=...), WirePosition(mRID='_F4D126B4-B9FC-4B36-BEA1-D395A50F56EB', aliasName=None, description=None, name='WP_606_2', Names=[], sequenceNumber='2', xCoord='0', yCoord='-1.2192', WirePhaseInfo=[], WireSpacingInfo=...), WirePosition(mRID='_F6713734-1CA5-4465-BDE3-E68E90F2AD57', aliasName=None, description=None, name='WP_606_3', Names=[], sequenceNumber='3', xCoord='0.1524', yCoord='-1.2192', WirePhaseInfo=[], WireSpacingInfo=...)])"
      ]
     },
     "execution_count": 20,
     "metadata": {},
     "output_type": "execute_result"
    }
   ],
   "source": [
    "network.typed_catalog[cim.ACLineSegment][line_id].WireSpacingInfo"
   ]
  },
  {
   "cell_type": "code",
   "execution_count": 19,
   "id": "ab64f8ab",
   "metadata": {},
   "outputs": [
    {
     "data": {
      "text/plain": [
       "ACLineSegment(mRID=(), aliasName=None, description=None, name=None, Names=[], AssetDatasheet=None, Assets=[], ConfigurationEvent=[], Controls=[], Location=None, Measurements=[], OperatingShare=[], PSRType=None, ReportingGroup=[], aggregate=None, inService=None, networkAnalysisEnabled=None, normallyInService=None, AdditionalEquipmentContainer=[], EquipmentContainer=None, Faults=[], OperationalLimitSet=[], UsagePoints=None, BaseVoltage=None, SvStatus=[], Terminals=[], length=None, b0ch=None, bch=None, g0ch=None, gch=None, r=None, r0=None, shortCircuitEndTemperature=None, x=None, x0=None, ACLineSegmentPhases=[], Clamp=[], Cut=[], LineFaults=[], ParallelLineSegment=None, PerLengthImpedance=None, WireSpacingInfo=None)"
      ]
     },
     "execution_count": 19,
     "metadata": {},
     "output_type": "execute_result"
    }
   ],
   "source": [
    "cim.ACLineSegment(())"
   ]
  },
  {
   "cell_type": "code",
   "execution_count": null,
   "id": "ae71bed7",
   "metadata": {},
   "outputs": [],
   "source": [
    "values = ['_0649C1EF-E39F-4B46-AD80-D3C180E4562E']\n",
    "message = bg.sparql.get_class_type_sparql(feeder_mrid, values)\n",
    "output = bg.execute(message)\n",
    "out = output['results']['bindings']\n",
    "if values and not out:\n",
    "    print('yes')"
   ]
  }
 ],
 "metadata": {
  "kernelspec": {
   "display_name": "Python 3 (ipykernel)",
   "language": "python",
   "name": "python3"
  },
  "language_info": {
   "codemirror_mode": {
    "name": "ipython",
    "version": 3
   },
   "file_extension": ".py",
   "mimetype": "text/x-python",
   "name": "python",
   "nbconvert_exporter": "python",
   "pygments_lexer": "ipython3",
   "version": "3.8.0"
  }
 },
 "nbformat": 4,
 "nbformat_minor": 5
}
