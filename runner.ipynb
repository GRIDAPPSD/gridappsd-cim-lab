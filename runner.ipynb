{
 "cells": [
  {
   "cell_type": "code",
   "execution_count": 1,
   "id": "c0870ea6",
   "metadata": {},
   "outputs": [],
   "source": [
    "import importlib\n",
    "cim_profile = 'rc4_2021'\n",
    "cim = importlib.import_module('cimlab.data_profile.' + cim_profile)\n"
   ]
  },
  {
   "cell_type": "code",
   "execution_count": 2,
   "id": "9517508c",
   "metadata": {},
   "outputs": [],
   "source": [
    "from cimlab.loaders import Parameter, ConnectionParameters\n",
    "from cimlab.loaders.blazegraph.blazegraph import BlazegraphConnection\n",
    "from cimlab.loaders.gridappsd import GridappsdConnection, get_topology_response\n",
    "from cimlab.models.distributed_model import DistributedModel\n",
    "# import cim.data_profile as cim\n",
    "import json\n"
   ]
  },
  {
   "cell_type": "code",
   "execution_count": 3,
   "id": "01e4cde4",
   "metadata": {},
   "outputs": [],
   "source": [
    "# # Blazegraph connection for running inside the container\n",
    "# params = ConnectionParameters([Parameter(key=\"url\", value=\"http://blazegraph:8080/bigdata/namespace/kb/sparql\")])\n",
    "# bg = BlazegraphConnection(params)"
   ]
  },
  {
   "cell_type": "code",
   "execution_count": 4,
   "id": "5417f812",
   "metadata": {},
   "outputs": [],
   "source": [
    "# Blazegraph connection for running outside the container\n",
    "params = ConnectionParameters([Parameter(key=\"url\", value=\"http://localhost:8889/bigdata/namespace/kb/sparql\")])\n",
    "bg = BlazegraphConnection(params, 'rc4_2021')"
   ]
  },
  {
   "cell_type": "code",
   "execution_count": 5,
   "id": "208e6f7d",
   "metadata": {},
   "outputs": [],
   "source": [
    "#feeder_mrid = \"_C1C3E687-6FFD-C753-582B-632A27E28507\"  # 123 bus\n",
    "feeder_mrid = \"_49AD8E07-3BF9-A4E2-CB8F-C3722F837B62\"  # 13 bus\n",
    "# feeder_mrid = \"_5B816B93-7A5F-B64C-8460-47C17D6E4B0F\" # 13 bus asets\n",
    "#feeder_mrid = \"_4F76A5F9-271D-9EB8-5E31-AA362D86F2C3\"  # 8500 node\n",
    "#feeder_mrid = \"_67AB291F-DCCD-31B7-B499-338206B9828F\" # J1\n",
    "#feeder_mrid = \"_9CE150A8-8CC5-A0F9-B67E-BBD8C79D3095\"  # R2 12.47 3\n",
    "#feeder_mrid = \"_EE71F6C9-56F0-4167-A14E-7F4C71F10EAA\" #9500 node"
   ]
  },
  {
   "cell_type": "code",
   "execution_count": 6,
   "id": "9cc6e914",
   "metadata": {},
   "outputs": [],
   "source": [
    "feeder = cim.Feeder(mRID=feeder_mrid)"
   ]
  },
  {
   "cell_type": "code",
   "execution_count": 7,
   "id": "ecd52872",
   "metadata": {},
   "outputs": [],
   "source": [
    "# from gridappsd import GridAPPSD\n",
    "from topology_processor import DistributedTopology\n",
    "\n",
    "gapps = GridappsdConnection(feeder_mrid)\n",
    "Topology = DistributedTopology(gapps, feeder_mrid)\n",
    "topology_response = Topology.create_switch_areas(feeder_mrid)\n",
    "# topology_response = get_topology_response(feeder_mrid)\n",
    "topology_response = json.loads(topology_response)\n",
    "# with open('topo_message.json') as topo_file:\n",
    "#     topology_response = json.load(topo_file)\n"
   ]
  },
  {
   "cell_type": "code",
   "execution_count": 8,
   "id": "1b68f07f",
   "metadata": {},
   "outputs": [],
   "source": [
    "# topology_response = json.loads(topology_response)"
   ]
  },
  {
   "cell_type": "code",
   "execution_count": 9,
   "id": "428e3089",
   "metadata": {},
   "outputs": [],
   "source": [
    "network = DistributedModel(connection=bg, feeder=feeder, topology=topology_response)"
   ]
  },
  {
   "cell_type": "code",
   "execution_count": 10,
   "id": "a132f2f4",
   "metadata": {},
   "outputs": [
    {
     "name": "stdout",
     "output_type": "stream",
     "text": [
      "line mrid:  _0BBD0EA3-F665-465B-86FD-FC8B8466AD53\n",
      "line name: 645646\n",
      "bus 1:  _8C58660F-C62C-4903-BE72-22F1255B1E62\n",
      "bus 2:  _0124E881-B82D-4206-BBDF-37D585159872\n",
      "phase  C :  _94FCAFFF-E5F7-4F97-B697-35C46656EDCA\n",
      "phase  B :  _CE2AFB05-A1B1-4082-B4EB-2AD8A1D3422D\n",
      "line mrid:  _1C6781A2-5B9D-4525-8A9B-F9B32C4C4AC0\n",
      "line name: 632645\n",
      "bus 1:  _0124E881-B82D-4206-BBDF-37D585159872\n",
      "bus 2:  _6CB5E5CE-2CD0-40CC-A979-B4F9ED05E49B\n",
      "phase  C :  _19B6044B-6915-4245-9DD1-6AB0444D42A6\n",
      "phase  B :  _D9C9CEA6-B3F0-4E02-9911-3DFA192B4D01\n",
      "line mrid:  _A04CDFB1-E951-4FC4-8882-0323CD70AE3C\n",
      "line name: 650632\n",
      "bus 1:  _673E896A-DCBF-4E43-9924-BEB31C5B6005\n",
      "bus 2:  _6CB5E5CE-2CD0-40CC-A979-B4F9ED05E49B\n",
      "phase  A :  _2A5A1025-AD81-4BFA-A7F0-ED70F7F43DAA\n",
      "phase  B :  _2D60B241-DE87-48BD-A8D3-FE4B705B40ED\n",
      "phase  C :  _A66508A9-C9C1-4DB5-8FFD-F081E5E9E14D\n",
      "line mrid:  _FBE26B35-13AB-457D-9795-DF58B28E309D\n",
      "line name: 632633\n",
      "bus 1:  _6CB5E5CE-2CD0-40CC-A979-B4F9ED05E49B\n",
      "bus 2:  _C6256170-E6ED-4F91-8EBD-748090C3FDD5\n",
      "phase  A :  _18F23724-C3EE-498E-96A7-98FE210A523C\n",
      "phase  B :  _30E5A294-2F25-480D-BDDA-777F59ED5AF3\n",
      "phase  C :  _5830B397-557C-41B5-A94D-95A3841505D0\n"
     ]
    }
   ],
   "source": [
    "switch_area = network.switch_areas[0]\n",
    "\n",
    "# Get phase, bus info about ACLineSegments\n",
    "switch_area.get_all_attributes(cim.ACLineSegment)\n",
    "switch_area.get_all_attributes(cim.ACLineSegmentPhase)\n",
    "switch_area.get_all_attributes(cim.Terminal)\n",
    "\n",
    "line_ids = list(switch_area.typed_catalog[cim.ACLineSegment].keys())\n",
    "for line_id in line_ids:\n",
    "    print('line mrid: ',line_id)\n",
    "    print('line name:', switch_area.typed_catalog[cim.ACLineSegment][line_id].name)\n",
    "    print('bus 1: ', switch_area.typed_catalog[cim.ACLineSegment][line_id].Terminals[0].ConnectivityNode.mRID)\n",
    "    print('bus 2: ', switch_area.typed_catalog[cim.ACLineSegment][line_id].Terminals[1].ConnectivityNode.mRID)\n",
    "    for line_phs in switch_area.typed_catalog[cim.ACLineSegment][line_id].ACLineSegmentPhases:\n",
    "        print('phase ', line_phs.phase, ': ', line_phs.mRID)\n",
    "    "
   ]
  },
  {
   "cell_type": "code",
   "execution_count": 11,
   "id": "1e37d115",
   "metadata": {},
   "outputs": [
    {
     "name": "stdout",
     "output_type": "stream",
     "text": [
      "p =  230000\n",
      "q =  132000\n",
      "phases:  B\n",
      "p =  170000\n",
      "q =  125000\n",
      "phases:  B\n"
     ]
    }
   ],
   "source": [
    "switch_area = network.switch_areas[0]\n",
    "\n",
    "switch_area.get_all_attributes(cim.EnergyConsumer)\n",
    "switch_area.get_all_attributes(cim.EnergyConsumerPhase)\n",
    "\n",
    "load_ids = list(switch_area.typed_catalog[cim.EnergyConsumer].keys())\n",
    "\n",
    "for load in load_ids:\n",
    "    print('p = ', switch_area.typed_catalog[cim.EnergyConsumer][load].p)\n",
    "    print('q = ', switch_area.typed_catalog[cim.EnergyConsumer][load].q)\n",
    "    for load_phs in switch_area.typed_catalog[cim.EnergyConsumer][load].EnergyConsumerPhase:\n",
    "        print('phases: ', load_phs.phase)"
   ]
  },
  {
   "cell_type": "code",
   "execution_count": 12,
   "id": "6ff4f097",
   "metadata": {},
   "outputs": [
    {
     "name": "stdout",
     "output_type": "stream",
     "text": [
      "warning: attribute  TransformerTankInfo  missing from  TransformerTank\n",
      "warning: attribute  TransformerTankInfo  missing from  TransformerTank\n",
      "warning: attribute  TransformerTankInfo  missing from  TransformerTank\n",
      "warning: attribute  TransformerTankInfo  missing from  TransformerTank\n",
      "warning: attribute  TransformerTanks  missing from  TransformerTankInfo\n",
      "warning: attribute  TransformerTanks  missing from  TransformerTankInfo\n",
      "warning: attribute  TransformerTanks  missing from  TransformerTankInfo\n",
      "warning: attribute  TransformerTanks  missing from  TransformerTankInfo\n"
     ]
    }
   ],
   "source": [
    "network.get_all_attributes(cim.TransformerTank)\n",
    "network.get_all_attributes(cim.TransformerTankEnd)\n",
    "network.get_all_attributes(cim.TransformerTankInfo)\n",
    "network.get_all_attributes(cim.TransformerEndInfo)\n",
    "network.get_all_attributes(cim.ShortCircuitTest)\n",
    "network.get_all_attributes(cim.NoLoadTest)"
   ]
  },
  {
   "cell_type": "code",
   "execution_count": 13,
   "id": "e4a51008",
   "metadata": {},
   "outputs": [
    {
     "name": "stdout",
     "output_type": "stream",
     "text": [
      "warning: could not locate mrid:  _0649C1EF-E39F-4B46-AD80-D3C180E4562E . creating default object of  PhaseImpedanceData\n",
      "warning: could not locate mrid:  _10B0D529-0FC6-4845-BEFE-2CD11D1EC0B4 . creating default object of  PhaseImpedanceData\n",
      "warning: could not locate mrid:  _1C9AB18C-CCF4-409A-92A7-865CDA8CC7A5 . creating default object of  PhaseImpedanceData\n",
      "warning: could not locate mrid:  _520F9AFD-543F-4AD9-9178-9511763BB59D . creating default object of  PhaseImpedanceData\n",
      "warning: could not locate mrid:  _69B855E7-917B-49C7-B96A-F8C8E3A4CBB5 . creating default object of  PhaseImpedanceData\n",
      "warning: could not locate mrid:  _BBC492B3-CAEB-4DF8-B4A3-EAF9D05E7E1E . creating default object of  PhaseImpedanceData\n",
      "warning: could not locate mrid:  _0BE57FFF-A484-435A-A872-8FE3152AE9D5 . creating default object of  PhaseImpedanceData\n",
      "warning: could not locate mrid:  _36CD0283-0C33-45F1-B504-C7EF348D8CC0 . creating default object of  PhaseImpedanceData\n",
      "warning: could not locate mrid:  _699B3870-6CE0-4B8C-830C-77D071EECD2E . creating default object of  PhaseImpedanceData\n",
      "warning: could not locate mrid:  _7903D890-15F0-4773-814B-0A92B52396AF . creating default object of  PhaseImpedanceData\n",
      "warning: could not locate mrid:  _842054E7-44EB-4010-99B7-475DA622A91D . creating default object of  PhaseImpedanceData\n",
      "warning: could not locate mrid:  _997E83A5-27DC-426D-A88E-56FCFB96146B . creating default object of  PhaseImpedanceData\n",
      "warning: could not locate mrid:  _4BDC7B0A-F286-4355-9902-DEE520D20C27 . creating default object of  PhaseImpedanceData\n",
      "warning: could not locate mrid:  _7EF9213B-DA56-4302-9054-C148028273A3 . creating default object of  PhaseImpedanceData\n",
      "warning: could not locate mrid:  _C1EF0F7C-9A4B-4524-87C6-7FA30F4ED054 . creating default object of  PhaseImpedanceData\n",
      "warning: no instances of  WireSpacingInfo  found in catalog.\n",
      "warning: no instances of  WirePosition  found in catalog.\n",
      "warning: no instances of  OverheadWireInfo  found in catalog.\n",
      "warning: no instances of  ConcentricNeutralCableInfo  found in catalog.\n",
      "warning: no instances of  TapeShieldCableInfo  found in catalog.\n"
     ]
    }
   ],
   "source": [
    "switch_area.get_all_attributes(cim.ACLineSegment)\n",
    "switch_area.get_all_attributes(cim.ACLineSegmentPhase)\n",
    "switch_area.get_all_attributes(cim.PerLengthPhaseImpedance)\n",
    "switch_area.get_all_attributes(cim.PhaseImpedanceData)\n",
    "\n",
    "switch_area.get_all_attributes(cim.WireSpacingInfo)\n",
    "switch_area.get_all_attributes(cim.WirePosition)\n",
    "switch_area.get_all_attributes(cim.OverheadWireInfo)\n",
    "switch_area.get_all_attributes(cim.ConcentricNeutralCableInfo)\n",
    "switch_area.get_all_attributes(cim.TapeShieldCableInfo)\n",
    "\n"
   ]
  },
  {
   "cell_type": "code",
   "execution_count": 14,
   "id": "521b40c2",
   "metadata": {},
   "outputs": [
    {
     "data": {
      "text/plain": [
       "[PhaseImpedanceData(mRID='_0BE57FFF-A484-435A-A872-8FE3152AE9D5', aliasName=None, description=None, name=None, Names=[], b='0', column='1', g=None, r='0.000096936556', row='3', x='0.00031175045', PhaseImpedance='_EAEF5A85-027A-4BE2-9A07-99D4550C3DE1'),\n",
       " PhaseImpedanceData(mRID='_36CD0283-0C33-45F1-B504-C7EF348D8CC0', aliasName=None, description=None, name=None, Names=[], b='0', column='1', g=None, r='0.00046765675', row='1', x='0.000734108', PhaseImpedance='_EAEF5A85-027A-4BE2-9A07-99D4550C3DE1'),\n",
       " PhaseImpedanceData(mRID='_699B3870-6CE0-4B8C-830C-77D071EECD2E', aliasName=None, description=None, name=None, Names=[], b='0', column='2', g=None, r='0.000098179333', row='3', x='0.00026322003', PhaseImpedance='_EAEF5A85-027A-4BE2-9A07-99D4550C3DE1'),\n",
       " PhaseImpedanceData(mRID='_7903D890-15F0-4773-814B-0A92B52396AF', aliasName=None, description=None, name=None, Names=[], b='0', column='3', g=None, r='0.00046206425', row='3', x='0.00075262537', PhaseImpedance='_EAEF5A85-027A-4BE2-9A07-99D4550C3DE1'),\n",
       " PhaseImpedanceData(mRID='_842054E7-44EB-4010-99B7-475DA622A91D', aliasName=None, description=None, name=None, Names=[], b='0', column='2', g=None, r='0.00046448767', row='2', x='0.00074460946', PhaseImpedance='_EAEF5A85-027A-4BE2-9A07-99D4550C3DE1'),\n",
       " PhaseImpedanceData(mRID='_997E83A5-27DC-426D-A88E-56FCFB96146B', aliasName=None, description=None, name=None, Names=[], b='0', column='1', g=None, r='0.000095383086', row='2', x='0.00023917231', PhaseImpedance='_EAEF5A85-027A-4BE2-9A07-99D4550C3DE1')]"
      ]
     },
     "execution_count": 14,
     "metadata": {},
     "output_type": "execute_result"
    }
   ],
   "source": [
    "switch_area.typed_catalog[cim.ACLineSegment][line_id].PerLengthImpedance.PhaseImpedanceData"
   ]
  },
  {
   "cell_type": "code",
   "execution_count": 15,
   "id": "4dfb84e1",
   "metadata": {},
   "outputs": [
    {
     "name": "stdout",
     "output_type": "stream",
     "text": [
      "\n",
      "        PREFIX r:  <http://www.w3.org/1999/02/22-rdf-syntax-ns#>\n",
      "        PREFIX cim:  <http://iec.ch/TC57/CIM100#>\n",
      "        SELECT ?mRID ?name ?PhaseImpedance ?row ?column ?r ?x ?b \n",
      "\n",
      "        WHERE {          \n",
      "          ?eq r:type cim:PhaseImpedanceData.\n",
      "          VALUES ?fdrid {\"_49AD8E07-3BF9-A4E2-CB8F-C3722F837B62\"}\n",
      "          VALUES ?mRID { \"_0649C1EF-E39F-4B46-AD80-D3C180E4562E\" \n",
      " \"_10B0D529-0FC6-4845-BEFE-2CD11D1EC0B4\" \n",
      " \"_1C9AB18C-CCF4-409A-92A7-865CDA8CC7A5\" \n",
      " \"_520F9AFD-543F-4AD9-9178-9511763BB59D\" \n",
      " \"_69B855E7-917B-49C7-B96A-F8C8E3A4CBB5\" \n",
      " \"_BBC492B3-CAEB-4DF8-B4A3-EAF9D05E7E1E\" \n",
      " \"_0BE57FFF-A484-435A-A872-8FE3152AE9D5\" \n",
      " \"_36CD0283-0C33-45F1-B504-C7EF348D8CC0\" \n",
      " \"_699B3870-6CE0-4B8C-830C-77D071EECD2E\" \n",
      " \"_7903D890-15F0-4773-814B-0A92B52396AF\" \n",
      " \"_842054E7-44EB-4010-99B7-475DA622A91D\" \n",
      " \"_997E83A5-27DC-426D-A88E-56FCFB96146B\" \n",
      " \"_4BDC7B0A-F286-4355-9902-DEE520D20C27\" \n",
      " \"_7EF9213B-DA56-4302-9054-C148028273A3\" \n",
      " \"_C1EF0F7C-9A4B-4524-87C6-7FA30F4ED054\" \n",
      "               } \n",
      "        ?eq cim:PhaseImpedanceData.PhaseImpedance ?pli.\n",
      "        ?line cim:ACLineSegment.PerLengthImpedance ?pli.\n",
      "        ?pli cim:IdentifiedObject.mRID ?PhaseImpedance.\n",
      "        ?line cim:Equipment.EquipmentContainer ?fdr.\n",
      "        ?fdr cim:IdentifiedObject.mRID ?fdrid.\n",
      "        #?eq c:IdentifiedObject.mRID ?mRID. #mRID MISSING FROM XML\n",
      "        bind(strafter(str(?eq),\"sparql#\") as ?mRID).\n",
      "        #?eq cim:IdentifiedObject.name ?name.\n",
      "\n",
      "        OPTIONAL {?eq cim:PhaseImpedanceData.row ?row.}\n",
      "        OPTIONAL {?eq cim:PhaseImpedanceData.column ?column.}\n",
      "        OPTIONAL {?eq cim:PhaseImpedanceData.r ?r.}\n",
      "        OPTIONAL {?eq cim:PhaseImpedanceData.x ?x.}\n",
      "        OPTIONAL {?eq cim:PhaseImpedanceData.b ?b.}\n",
      "\n",
      "        }\n",
      "        GROUP by ?mRID ?name ?PhaseImpedance ?row ?column ?r ?x ?b \n",
      "        ORDER by  ?name\n",
      "        \n"
     ]
    }
   ],
   "source": [
    "print(switch_area.get_attributes_query(cim.PhaseImpedanceData))"
   ]
  },
  {
   "cell_type": "code",
   "execution_count": 16,
   "id": "3203a7c3",
   "metadata": {},
   "outputs": [
    {
     "data": {
      "text/plain": [
       "{'_0649C1EF-E39F-4B46-AD80-D3C180E4562E': {'mRID': '_0649C1EF-E39F-4B46-AD80-D3C180E4562E',\n",
       "  'aliasName': '',\n",
       "  'description': '',\n",
       "  'name': '',\n",
       "  'Names': [],\n",
       "  'b': '0',\n",
       "  'column': '1',\n",
       "  'g': '',\n",
       "  'r': '0.000095383086',\n",
       "  'row': '2',\n",
       "  'x': '0.00023917231',\n",
       "  'PhaseImpedance': '_50044320-7295-4591-B39E-F793F1923098'},\n",
       " '_10B0D529-0FC6-4845-BEFE-2CD11D1EC0B4': {'mRID': '_10B0D529-0FC6-4845-BEFE-2CD11D1EC0B4',\n",
       "  'aliasName': '',\n",
       "  'description': '',\n",
       "  'name': '',\n",
       "  'Names': [],\n",
       "  'b': '0',\n",
       "  'column': '2',\n",
       "  'g': '',\n",
       "  'r': '0.000096936556',\n",
       "  'row': '3',\n",
       "  'x': '0.00031175045',\n",
       "  'PhaseImpedance': '_50044320-7295-4591-B39E-F793F1923098'},\n",
       " '_1C9AB18C-CCF4-409A-92A7-865CDA8CC7A5': {'mRID': '_1C9AB18C-CCF4-409A-92A7-865CDA8CC7A5',\n",
       "  'aliasName': '',\n",
       "  'description': '',\n",
       "  'name': '',\n",
       "  'Names': [],\n",
       "  'b': '0',\n",
       "  'column': '3',\n",
       "  'g': '',\n",
       "  'r': '0.00021214193',\n",
       "  'row': '3',\n",
       "  'x': '0.00064301249',\n",
       "  'PhaseImpedance': '_50044320-7295-4591-B39E-F793F1923098'},\n",
       " '_520F9AFD-543F-4AD9-9178-9511763BB59D': {'mRID': '_520F9AFD-543F-4AD9-9178-9511763BB59D',\n",
       "  'aliasName': '',\n",
       "  'description': '',\n",
       "  'name': '',\n",
       "  'Names': [],\n",
       "  'b': '0',\n",
       "  'column': '1',\n",
       "  'g': '',\n",
       "  'r': '0.000098179333',\n",
       "  'row': '3',\n",
       "  'x': '0.00026322003',\n",
       "  'PhaseImpedance': '_50044320-7295-4591-B39E-F793F1923098'},\n",
       " '_69B855E7-917B-49C7-B96A-F8C8E3A4CBB5': {'mRID': '_69B855E7-917B-49C7-B96A-F8C8E3A4CBB5',\n",
       "  'aliasName': '',\n",
       "  'description': '',\n",
       "  'name': '',\n",
       "  'Names': [],\n",
       "  'b': '0',\n",
       "  'column': '1',\n",
       "  'g': '',\n",
       "  'r': '0.000215311',\n",
       "  'row': '1',\n",
       "  'x': '0.00063251103',\n",
       "  'PhaseImpedance': '_50044320-7295-4591-B39E-F793F1923098'},\n",
       " '_BBC492B3-CAEB-4DF8-B4A3-EAF9D05E7E1E': {'mRID': '_BBC492B3-CAEB-4DF8-B4A3-EAF9D05E7E1E',\n",
       "  'aliasName': '',\n",
       "  'description': '',\n",
       "  'name': '',\n",
       "  'Names': [],\n",
       "  'b': '0',\n",
       "  'column': '2',\n",
       "  'g': '',\n",
       "  'r': '0.00020971851',\n",
       "  'row': '2',\n",
       "  'x': '0.00065109054',\n",
       "  'PhaseImpedance': '_50044320-7295-4591-B39E-F793F1923098'},\n",
       " '_0BE57FFF-A484-435A-A872-8FE3152AE9D5': {'mRID': '_0BE57FFF-A484-435A-A872-8FE3152AE9D5',\n",
       "  'aliasName': '',\n",
       "  'description': '',\n",
       "  'name': '',\n",
       "  'Names': [],\n",
       "  'b': '0',\n",
       "  'column': '1',\n",
       "  'g': '',\n",
       "  'r': '0.000096936556',\n",
       "  'row': '3',\n",
       "  'x': '0.00031175045',\n",
       "  'PhaseImpedance': '_EAEF5A85-027A-4BE2-9A07-99D4550C3DE1'},\n",
       " '_36CD0283-0C33-45F1-B504-C7EF348D8CC0': {'mRID': '_36CD0283-0C33-45F1-B504-C7EF348D8CC0',\n",
       "  'aliasName': '',\n",
       "  'description': '',\n",
       "  'name': '',\n",
       "  'Names': [],\n",
       "  'b': '0',\n",
       "  'column': '1',\n",
       "  'g': '',\n",
       "  'r': '0.00046765675',\n",
       "  'row': '1',\n",
       "  'x': '0.000734108',\n",
       "  'PhaseImpedance': '_EAEF5A85-027A-4BE2-9A07-99D4550C3DE1'},\n",
       " '_699B3870-6CE0-4B8C-830C-77D071EECD2E': {'mRID': '_699B3870-6CE0-4B8C-830C-77D071EECD2E',\n",
       "  'aliasName': '',\n",
       "  'description': '',\n",
       "  'name': '',\n",
       "  'Names': [],\n",
       "  'b': '0',\n",
       "  'column': '2',\n",
       "  'g': '',\n",
       "  'r': '0.000098179333',\n",
       "  'row': '3',\n",
       "  'x': '0.00026322003',\n",
       "  'PhaseImpedance': '_EAEF5A85-027A-4BE2-9A07-99D4550C3DE1'},\n",
       " '_7903D890-15F0-4773-814B-0A92B52396AF': {'mRID': '_7903D890-15F0-4773-814B-0A92B52396AF',\n",
       "  'aliasName': '',\n",
       "  'description': '',\n",
       "  'name': '',\n",
       "  'Names': [],\n",
       "  'b': '0',\n",
       "  'column': '3',\n",
       "  'g': '',\n",
       "  'r': '0.00046206425',\n",
       "  'row': '3',\n",
       "  'x': '0.00075262537',\n",
       "  'PhaseImpedance': '_EAEF5A85-027A-4BE2-9A07-99D4550C3DE1'},\n",
       " '_842054E7-44EB-4010-99B7-475DA622A91D': {'mRID': '_842054E7-44EB-4010-99B7-475DA622A91D',\n",
       "  'aliasName': '',\n",
       "  'description': '',\n",
       "  'name': '',\n",
       "  'Names': [],\n",
       "  'b': '0',\n",
       "  'column': '2',\n",
       "  'g': '',\n",
       "  'r': '0.00046448767',\n",
       "  'row': '2',\n",
       "  'x': '0.00074460946',\n",
       "  'PhaseImpedance': '_EAEF5A85-027A-4BE2-9A07-99D4550C3DE1'},\n",
       " '_997E83A5-27DC-426D-A88E-56FCFB96146B': {'mRID': '_997E83A5-27DC-426D-A88E-56FCFB96146B',\n",
       "  'aliasName': '',\n",
       "  'description': '',\n",
       "  'name': '',\n",
       "  'Names': [],\n",
       "  'b': '0',\n",
       "  'column': '1',\n",
       "  'g': '',\n",
       "  'r': '0.000095383086',\n",
       "  'row': '2',\n",
       "  'x': '0.00023917231',\n",
       "  'PhaseImpedance': '_EAEF5A85-027A-4BE2-9A07-99D4550C3DE1'},\n",
       " '_4BDC7B0A-F286-4355-9902-DEE520D20C27': {'mRID': '_4BDC7B0A-F286-4355-9902-DEE520D20C27',\n",
       "  'aliasName': '',\n",
       "  'description': '',\n",
       "  'name': '',\n",
       "  'Names': [],\n",
       "  'b': '0',\n",
       "  'column': '2',\n",
       "  'g': '',\n",
       "  'r': '0.00082607345',\n",
       "  'row': '2',\n",
       "  'x': '0.00083707202',\n",
       "  'PhaseImpedance': '_12C526C5-6645-4C0C-83CD-3030C440DA17'},\n",
       " '_7EF9213B-DA56-4302-9054-C148028273A3': {'mRID': '_7EF9213B-DA56-4302-9054-C148028273A3',\n",
       "  'aliasName': '',\n",
       "  'description': '',\n",
       "  'name': '',\n",
       "  'Names': [],\n",
       "  'b': '0',\n",
       "  'column': '1',\n",
       "  'g': '',\n",
       "  'r': '0.0001283788',\n",
       "  'row': '2',\n",
       "  'x': '0.00028527931',\n",
       "  'PhaseImpedance': '_12C526C5-6645-4C0C-83CD-3030C440DA17'},\n",
       " '_C1EF0F7C-9A4B-4524-87C6-7FA30F4ED054': {'mRID': '_C1EF0F7C-9A4B-4524-87C6-7FA30F4ED054',\n",
       "  'aliasName': '',\n",
       "  'description': '',\n",
       "  'name': '',\n",
       "  'Names': [],\n",
       "  'b': '0',\n",
       "  'column': '1',\n",
       "  'g': '',\n",
       "  'r': '0.00082259367',\n",
       "  'row': '1',\n",
       "  'x': '0.00084316162',\n",
       "  'PhaseImpedance': '_12C526C5-6645-4C0C-83CD-3030C440DA17'}}"
      ]
     },
     "execution_count": 16,
     "metadata": {},
     "output_type": "execute_result"
    }
   ],
   "source": [
    "json.loads(switch_area.__dumps__(cim.PhaseImpedanceData))"
   ]
  },
  {
   "cell_type": "code",
   "execution_count": 17,
   "id": "04171b5f",
   "metadata": {},
   "outputs": [
    {
     "name": "stdout",
     "output_type": "stream",
     "text": [
      "p =  -5000\n",
      "q =  0\n",
      "phase  s1 :  _85512A8C-BBA9-414A-B652-5A66FF9511CF\n",
      "phase  s2 :  _9D5E51F9-1424-4085-AA82-9B4253F8DA16\n",
      "p =  4000\n",
      "q =  0\n",
      "phase  s2 :  _93759898-98F2-4D75-97E3-C57F3F7B20FF\n",
      "phase  s1 :  _CCB76658-7775-4B97-95C8-9003986F20C3\n"
     ]
    }
   ],
   "source": [
    "secondary_area = network.switch_areas[4].secondary_areas[0]\n",
    "secondary_area.get_all_attributes(cim.PowerElectronicsConnection)\n",
    "secondary_area.get_all_attributes(cim.PowerElectronicsConnectionPhase)\n",
    "\n",
    "pec_ids = list(secondary_area.typed_catalog[cim.PowerElectronicsConnection])\n",
    "\n",
    "for pec in pec_ids:\n",
    "    print('p = ', secondary_area.typed_catalog[cim.PowerElectronicsConnection][pec].p)\n",
    "    print('q = ', secondary_area.typed_catalog[cim.PowerElectronicsConnection][pec].q)\n",
    "    for pec_phs in secondary_area.typed_catalog[cim.PowerElectronicsConnection][pec].PowerElectronicsConnectionPhases:\n",
    "        print('phase ', pec_phs.phase, ': ', pec_phs.mRID)"
   ]
  },
  {
   "cell_type": "code",
   "execution_count": null,
   "id": "e81899ef",
   "metadata": {},
   "outputs": [],
   "source": []
  },
  {
   "cell_type": "code",
   "execution_count": null,
   "id": "7542c657",
   "metadata": {},
   "outputs": [],
   "source": []
  },
  {
   "cell_type": "code",
   "execution_count": 18,
   "id": "cbd00644",
   "metadata": {},
   "outputs": [
    {
     "name": "stdout",
     "output_type": "stream",
     "text": [
      "yes\n"
     ]
    }
   ],
   "source": [
    "values = ['_0649C1EF-E39F-4B46-AD80-D3C180E4562E']\n",
    "message = bg.sparql.get_class_type_sparql(feeder_mrid, values)\n",
    "output = bg.execute(message)\n",
    "out = output['results']['bindings']\n",
    "if values and not out:\n",
    "    print('yes')"
   ]
  }
 ],
 "metadata": {
  "kernelspec": {
   "display_name": "Python 3 (ipykernel)",
   "language": "python",
   "name": "python3"
  },
  "language_info": {
   "codemirror_mode": {
    "name": "ipython",
    "version": 3
   },
   "file_extension": ".py",
   "mimetype": "text/x-python",
   "name": "python",
   "nbconvert_exporter": "python",
   "pygments_lexer": "ipython3",
   "version": "3.8.0"
  }
 },
 "nbformat": 4,
 "nbformat_minor": 5
}
